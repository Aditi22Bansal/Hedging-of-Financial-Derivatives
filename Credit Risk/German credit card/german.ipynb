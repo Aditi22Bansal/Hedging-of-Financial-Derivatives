{
 "cells": [
  {
   "cell_type": "code",
   "execution_count": 1,
   "id": "0c1e8536",
   "metadata": {
    "execution": {
     "iopub.execute_input": "2024-04-27T07:52:08.829172Z",
     "iopub.status.busy": "2024-04-27T07:52:08.828882Z",
     "iopub.status.idle": "2024-04-27T07:52:09.919464Z",
     "shell.execute_reply": "2024-04-27T07:52:09.918515Z",
     "shell.execute_reply.started": "2024-04-27T07:52:08.829147Z"
    }
   },
   "outputs": [],
   "source": [
    "import pandas as pd"
   ]
  },
  {
   "cell_type": "code",
   "execution_count": 2,
   "id": "75c44c69",
   "metadata": {
    "execution": {
     "iopub.execute_input": "2024-04-27T07:52:18.745444Z",
     "iopub.status.busy": "2024-04-27T07:52:18.744971Z",
     "iopub.status.idle": "2024-04-27T07:52:22.031629Z",
     "shell.execute_reply": "2024-04-27T07:52:22.030732Z",
     "shell.execute_reply.started": "2024-04-27T07:52:18.745416Z"
    }
   },
   "outputs": [],
   "source": [
    "data =pd.read_csv('GermanCredit.csv')"
   ]
  },
  {
   "cell_type": "code",
   "execution_count": 3,
   "id": "717bfb56",
   "metadata": {
    "execution": {
     "iopub.execute_input": "2024-04-27T07:52:23.245290Z",
     "iopub.status.busy": "2024-04-27T07:52:23.244954Z",
     "iopub.status.idle": "2024-04-27T07:52:23.285143Z",
     "shell.execute_reply": "2024-04-27T07:52:23.284287Z",
     "shell.execute_reply.started": "2024-04-27T07:52:23.245267Z"
    }
   },
   "outputs": [
    {
     "data": {
      "text/html": [
       "<div>\n",
       "<style scoped>\n",
       "    .dataframe tbody tr th:only-of-type {\n",
       "        vertical-align: middle;\n",
       "    }\n",
       "\n",
       "    .dataframe tbody tr th {\n",
       "        vertical-align: top;\n",
       "    }\n",
       "\n",
       "    .dataframe thead th {\n",
       "        text-align: right;\n",
       "    }\n",
       "</style>\n",
       "<table border=\"1\" class=\"dataframe\">\n",
       "  <thead>\n",
       "    <tr style=\"text-align: right;\">\n",
       "      <th></th>\n",
       "      <th>status</th>\n",
       "      <th>duration</th>\n",
       "      <th>credit_history</th>\n",
       "      <th>purpose</th>\n",
       "      <th>amount</th>\n",
       "      <th>savings</th>\n",
       "      <th>employment_duration</th>\n",
       "      <th>installment_rate</th>\n",
       "      <th>personal_status_sex</th>\n",
       "      <th>other_debtors</th>\n",
       "      <th>...</th>\n",
       "      <th>property</th>\n",
       "      <th>age</th>\n",
       "      <th>other_installment_plans</th>\n",
       "      <th>housing</th>\n",
       "      <th>number_credits</th>\n",
       "      <th>job</th>\n",
       "      <th>people_liable</th>\n",
       "      <th>telephone</th>\n",
       "      <th>foreign_worker</th>\n",
       "      <th>credit_risk</th>\n",
       "    </tr>\n",
       "  </thead>\n",
       "  <tbody>\n",
       "    <tr>\n",
       "      <th>0</th>\n",
       "      <td>... &lt; 100 DM</td>\n",
       "      <td>6</td>\n",
       "      <td>critical account/other credits existing</td>\n",
       "      <td>domestic appliances</td>\n",
       "      <td>1169</td>\n",
       "      <td>unknown/no savings account</td>\n",
       "      <td>... &gt;= 7 years</td>\n",
       "      <td>4</td>\n",
       "      <td>male : single</td>\n",
       "      <td>none</td>\n",
       "      <td>...</td>\n",
       "      <td>real estate</td>\n",
       "      <td>67</td>\n",
       "      <td>none</td>\n",
       "      <td>own</td>\n",
       "      <td>2</td>\n",
       "      <td>skilled employee/official</td>\n",
       "      <td>1</td>\n",
       "      <td>yes</td>\n",
       "      <td>yes</td>\n",
       "      <td>1</td>\n",
       "    </tr>\n",
       "    <tr>\n",
       "      <th>1</th>\n",
       "      <td>0 &lt;= ... &lt; 200 DM</td>\n",
       "      <td>48</td>\n",
       "      <td>existing credits paid back duly till now</td>\n",
       "      <td>domestic appliances</td>\n",
       "      <td>5951</td>\n",
       "      <td>... &lt; 100 DM</td>\n",
       "      <td>1 &lt;= ... &lt; 4 years</td>\n",
       "      <td>2</td>\n",
       "      <td>female : divorced/separated/married</td>\n",
       "      <td>none</td>\n",
       "      <td>...</td>\n",
       "      <td>real estate</td>\n",
       "      <td>22</td>\n",
       "      <td>none</td>\n",
       "      <td>own</td>\n",
       "      <td>1</td>\n",
       "      <td>skilled employee/official</td>\n",
       "      <td>1</td>\n",
       "      <td>no</td>\n",
       "      <td>yes</td>\n",
       "      <td>0</td>\n",
       "    </tr>\n",
       "    <tr>\n",
       "      <th>2</th>\n",
       "      <td>no checking account</td>\n",
       "      <td>12</td>\n",
       "      <td>critical account/other credits existing</td>\n",
       "      <td>retraining</td>\n",
       "      <td>2096</td>\n",
       "      <td>... &lt; 100 DM</td>\n",
       "      <td>4 &lt;= ... &lt; 7 years</td>\n",
       "      <td>2</td>\n",
       "      <td>male : single</td>\n",
       "      <td>none</td>\n",
       "      <td>...</td>\n",
       "      <td>real estate</td>\n",
       "      <td>49</td>\n",
       "      <td>none</td>\n",
       "      <td>own</td>\n",
       "      <td>1</td>\n",
       "      <td>unskilled - resident</td>\n",
       "      <td>2</td>\n",
       "      <td>no</td>\n",
       "      <td>yes</td>\n",
       "      <td>1</td>\n",
       "    </tr>\n",
       "    <tr>\n",
       "      <th>3</th>\n",
       "      <td>... &lt; 100 DM</td>\n",
       "      <td>42</td>\n",
       "      <td>existing credits paid back duly till now</td>\n",
       "      <td>radio/television</td>\n",
       "      <td>7882</td>\n",
       "      <td>... &lt; 100 DM</td>\n",
       "      <td>4 &lt;= ... &lt; 7 years</td>\n",
       "      <td>2</td>\n",
       "      <td>male : single</td>\n",
       "      <td>guarantor</td>\n",
       "      <td>...</td>\n",
       "      <td>building society savings agreement/life insurance</td>\n",
       "      <td>45</td>\n",
       "      <td>none</td>\n",
       "      <td>for free</td>\n",
       "      <td>1</td>\n",
       "      <td>skilled employee/official</td>\n",
       "      <td>2</td>\n",
       "      <td>no</td>\n",
       "      <td>yes</td>\n",
       "      <td>1</td>\n",
       "    </tr>\n",
       "    <tr>\n",
       "      <th>4</th>\n",
       "      <td>... &lt; 100 DM</td>\n",
       "      <td>24</td>\n",
       "      <td>delay in paying off in the past</td>\n",
       "      <td>car (new)</td>\n",
       "      <td>4870</td>\n",
       "      <td>... &lt; 100 DM</td>\n",
       "      <td>1 &lt;= ... &lt; 4 years</td>\n",
       "      <td>3</td>\n",
       "      <td>male : single</td>\n",
       "      <td>none</td>\n",
       "      <td>...</td>\n",
       "      <td>unknown/no property</td>\n",
       "      <td>53</td>\n",
       "      <td>none</td>\n",
       "      <td>for free</td>\n",
       "      <td>2</td>\n",
       "      <td>skilled employee/official</td>\n",
       "      <td>2</td>\n",
       "      <td>no</td>\n",
       "      <td>yes</td>\n",
       "      <td>0</td>\n",
       "    </tr>\n",
       "  </tbody>\n",
       "</table>\n",
       "<p>5 rows × 21 columns</p>\n",
       "</div>"
      ],
      "text/plain": [
       "                status  duration                            credit_history  \\\n",
       "0         ... < 100 DM         6   critical account/other credits existing   \n",
       "1    0 <= ... < 200 DM        48  existing credits paid back duly till now   \n",
       "2  no checking account        12   critical account/other credits existing   \n",
       "3         ... < 100 DM        42  existing credits paid back duly till now   \n",
       "4         ... < 100 DM        24           delay in paying off in the past   \n",
       "\n",
       "               purpose  amount                     savings  \\\n",
       "0  domestic appliances    1169  unknown/no savings account   \n",
       "1  domestic appliances    5951                ... < 100 DM   \n",
       "2           retraining    2096                ... < 100 DM   \n",
       "3     radio/television    7882                ... < 100 DM   \n",
       "4            car (new)    4870                ... < 100 DM   \n",
       "\n",
       "  employment_duration  installment_rate                  personal_status_sex  \\\n",
       "0      ... >= 7 years                 4                        male : single   \n",
       "1  1 <= ... < 4 years                 2  female : divorced/separated/married   \n",
       "2  4 <= ... < 7 years                 2                        male : single   \n",
       "3  4 <= ... < 7 years                 2                        male : single   \n",
       "4  1 <= ... < 4 years                 3                        male : single   \n",
       "\n",
       "  other_debtors  ...                                           property age  \\\n",
       "0          none  ...                                        real estate  67   \n",
       "1          none  ...                                        real estate  22   \n",
       "2          none  ...                                        real estate  49   \n",
       "3     guarantor  ...  building society savings agreement/life insurance  45   \n",
       "4          none  ...                                unknown/no property  53   \n",
       "\n",
       "   other_installment_plans   housing number_credits  \\\n",
       "0                     none       own              2   \n",
       "1                     none       own              1   \n",
       "2                     none       own              1   \n",
       "3                     none  for free              1   \n",
       "4                     none  for free              2   \n",
       "\n",
       "                         job people_liable  telephone foreign_worker  \\\n",
       "0  skilled employee/official             1        yes            yes   \n",
       "1  skilled employee/official             1         no            yes   \n",
       "2       unskilled - resident             2         no            yes   \n",
       "3  skilled employee/official             2         no            yes   \n",
       "4  skilled employee/official             2         no            yes   \n",
       "\n",
       "  credit_risk  \n",
       "0           1  \n",
       "1           0  \n",
       "2           1  \n",
       "3           1  \n",
       "4           0  \n",
       "\n",
       "[5 rows x 21 columns]"
      ]
     },
     "execution_count": 3,
     "metadata": {},
     "output_type": "execute_result"
    }
   ],
   "source": [
    "data.head()"
   ]
  },
  {
   "cell_type": "code",
   "execution_count": 4,
   "id": "e0bccf26",
   "metadata": {
    "execution": {
     "iopub.execute_input": "2024-04-27T07:52:24.222111Z",
     "iopub.status.busy": "2024-04-27T07:52:24.221548Z",
     "iopub.status.idle": "2024-04-27T07:52:24.226103Z",
     "shell.execute_reply": "2024-04-27T07:52:24.225180Z",
     "shell.execute_reply.started": "2024-04-27T07:52:24.222080Z"
    }
   },
   "outputs": [],
   "source": [
    "pd.options.display.max_columns = None"
   ]
  },
  {
   "cell_type": "code",
   "execution_count": 5,
   "id": "21e3c6c8",
   "metadata": {
    "execution": {
     "iopub.execute_input": "2024-04-27T07:52:25.285048Z",
     "iopub.status.busy": "2024-04-27T07:52:25.284701Z",
     "iopub.status.idle": "2024-04-27T07:52:25.313558Z",
     "shell.execute_reply": "2024-04-27T07:52:25.312565Z",
     "shell.execute_reply.started": "2024-04-27T07:52:25.285021Z"
    }
   },
   "outputs": [
    {
     "data": {
      "text/html": [
       "<div>\n",
       "<style scoped>\n",
       "    .dataframe tbody tr th:only-of-type {\n",
       "        vertical-align: middle;\n",
       "    }\n",
       "\n",
       "    .dataframe tbody tr th {\n",
       "        vertical-align: top;\n",
       "    }\n",
       "\n",
       "    .dataframe thead th {\n",
       "        text-align: right;\n",
       "    }\n",
       "</style>\n",
       "<table border=\"1\" class=\"dataframe\">\n",
       "  <thead>\n",
       "    <tr style=\"text-align: right;\">\n",
       "      <th></th>\n",
       "      <th>status</th>\n",
       "      <th>duration</th>\n",
       "      <th>credit_history</th>\n",
       "      <th>purpose</th>\n",
       "      <th>amount</th>\n",
       "      <th>savings</th>\n",
       "      <th>employment_duration</th>\n",
       "      <th>installment_rate</th>\n",
       "      <th>personal_status_sex</th>\n",
       "      <th>other_debtors</th>\n",
       "      <th>present_residence</th>\n",
       "      <th>property</th>\n",
       "      <th>age</th>\n",
       "      <th>other_installment_plans</th>\n",
       "      <th>housing</th>\n",
       "      <th>number_credits</th>\n",
       "      <th>job</th>\n",
       "      <th>people_liable</th>\n",
       "      <th>telephone</th>\n",
       "      <th>foreign_worker</th>\n",
       "      <th>credit_risk</th>\n",
       "    </tr>\n",
       "  </thead>\n",
       "  <tbody>\n",
       "    <tr>\n",
       "      <th>0</th>\n",
       "      <td>... &lt; 100 DM</td>\n",
       "      <td>6</td>\n",
       "      <td>critical account/other credits existing</td>\n",
       "      <td>domestic appliances</td>\n",
       "      <td>1169</td>\n",
       "      <td>unknown/no savings account</td>\n",
       "      <td>... &gt;= 7 years</td>\n",
       "      <td>4</td>\n",
       "      <td>male : single</td>\n",
       "      <td>none</td>\n",
       "      <td>4</td>\n",
       "      <td>real estate</td>\n",
       "      <td>67</td>\n",
       "      <td>none</td>\n",
       "      <td>own</td>\n",
       "      <td>2</td>\n",
       "      <td>skilled employee/official</td>\n",
       "      <td>1</td>\n",
       "      <td>yes</td>\n",
       "      <td>yes</td>\n",
       "      <td>1</td>\n",
       "    </tr>\n",
       "    <tr>\n",
       "      <th>1</th>\n",
       "      <td>0 &lt;= ... &lt; 200 DM</td>\n",
       "      <td>48</td>\n",
       "      <td>existing credits paid back duly till now</td>\n",
       "      <td>domestic appliances</td>\n",
       "      <td>5951</td>\n",
       "      <td>... &lt; 100 DM</td>\n",
       "      <td>1 &lt;= ... &lt; 4 years</td>\n",
       "      <td>2</td>\n",
       "      <td>female : divorced/separated/married</td>\n",
       "      <td>none</td>\n",
       "      <td>2</td>\n",
       "      <td>real estate</td>\n",
       "      <td>22</td>\n",
       "      <td>none</td>\n",
       "      <td>own</td>\n",
       "      <td>1</td>\n",
       "      <td>skilled employee/official</td>\n",
       "      <td>1</td>\n",
       "      <td>no</td>\n",
       "      <td>yes</td>\n",
       "      <td>0</td>\n",
       "    </tr>\n",
       "    <tr>\n",
       "      <th>2</th>\n",
       "      <td>no checking account</td>\n",
       "      <td>12</td>\n",
       "      <td>critical account/other credits existing</td>\n",
       "      <td>retraining</td>\n",
       "      <td>2096</td>\n",
       "      <td>... &lt; 100 DM</td>\n",
       "      <td>4 &lt;= ... &lt; 7 years</td>\n",
       "      <td>2</td>\n",
       "      <td>male : single</td>\n",
       "      <td>none</td>\n",
       "      <td>3</td>\n",
       "      <td>real estate</td>\n",
       "      <td>49</td>\n",
       "      <td>none</td>\n",
       "      <td>own</td>\n",
       "      <td>1</td>\n",
       "      <td>unskilled - resident</td>\n",
       "      <td>2</td>\n",
       "      <td>no</td>\n",
       "      <td>yes</td>\n",
       "      <td>1</td>\n",
       "    </tr>\n",
       "    <tr>\n",
       "      <th>3</th>\n",
       "      <td>... &lt; 100 DM</td>\n",
       "      <td>42</td>\n",
       "      <td>existing credits paid back duly till now</td>\n",
       "      <td>radio/television</td>\n",
       "      <td>7882</td>\n",
       "      <td>... &lt; 100 DM</td>\n",
       "      <td>4 &lt;= ... &lt; 7 years</td>\n",
       "      <td>2</td>\n",
       "      <td>male : single</td>\n",
       "      <td>guarantor</td>\n",
       "      <td>4</td>\n",
       "      <td>building society savings agreement/life insurance</td>\n",
       "      <td>45</td>\n",
       "      <td>none</td>\n",
       "      <td>for free</td>\n",
       "      <td>1</td>\n",
       "      <td>skilled employee/official</td>\n",
       "      <td>2</td>\n",
       "      <td>no</td>\n",
       "      <td>yes</td>\n",
       "      <td>1</td>\n",
       "    </tr>\n",
       "    <tr>\n",
       "      <th>4</th>\n",
       "      <td>... &lt; 100 DM</td>\n",
       "      <td>24</td>\n",
       "      <td>delay in paying off in the past</td>\n",
       "      <td>car (new)</td>\n",
       "      <td>4870</td>\n",
       "      <td>... &lt; 100 DM</td>\n",
       "      <td>1 &lt;= ... &lt; 4 years</td>\n",
       "      <td>3</td>\n",
       "      <td>male : single</td>\n",
       "      <td>none</td>\n",
       "      <td>4</td>\n",
       "      <td>unknown/no property</td>\n",
       "      <td>53</td>\n",
       "      <td>none</td>\n",
       "      <td>for free</td>\n",
       "      <td>2</td>\n",
       "      <td>skilled employee/official</td>\n",
       "      <td>2</td>\n",
       "      <td>no</td>\n",
       "      <td>yes</td>\n",
       "      <td>0</td>\n",
       "    </tr>\n",
       "  </tbody>\n",
       "</table>\n",
       "</div>"
      ],
      "text/plain": [
       "                status  duration                            credit_history  \\\n",
       "0         ... < 100 DM         6   critical account/other credits existing   \n",
       "1    0 <= ... < 200 DM        48  existing credits paid back duly till now   \n",
       "2  no checking account        12   critical account/other credits existing   \n",
       "3         ... < 100 DM        42  existing credits paid back duly till now   \n",
       "4         ... < 100 DM        24           delay in paying off in the past   \n",
       "\n",
       "               purpose  amount                     savings  \\\n",
       "0  domestic appliances    1169  unknown/no savings account   \n",
       "1  domestic appliances    5951                ... < 100 DM   \n",
       "2           retraining    2096                ... < 100 DM   \n",
       "3     radio/television    7882                ... < 100 DM   \n",
       "4            car (new)    4870                ... < 100 DM   \n",
       "\n",
       "  employment_duration  installment_rate                  personal_status_sex  \\\n",
       "0      ... >= 7 years                 4                        male : single   \n",
       "1  1 <= ... < 4 years                 2  female : divorced/separated/married   \n",
       "2  4 <= ... < 7 years                 2                        male : single   \n",
       "3  4 <= ... < 7 years                 2                        male : single   \n",
       "4  1 <= ... < 4 years                 3                        male : single   \n",
       "\n",
       "  other_debtors  present_residence  \\\n",
       "0          none                  4   \n",
       "1          none                  2   \n",
       "2          none                  3   \n",
       "3     guarantor                  4   \n",
       "4          none                  4   \n",
       "\n",
       "                                            property  age  \\\n",
       "0                                        real estate   67   \n",
       "1                                        real estate   22   \n",
       "2                                        real estate   49   \n",
       "3  building society savings agreement/life insurance   45   \n",
       "4                                unknown/no property   53   \n",
       "\n",
       "  other_installment_plans   housing  number_credits  \\\n",
       "0                    none       own               2   \n",
       "1                    none       own               1   \n",
       "2                    none       own               1   \n",
       "3                    none  for free               1   \n",
       "4                    none  for free               2   \n",
       "\n",
       "                         job  people_liable telephone foreign_worker  \\\n",
       "0  skilled employee/official              1       yes            yes   \n",
       "1  skilled employee/official              1        no            yes   \n",
       "2       unskilled - resident              2        no            yes   \n",
       "3  skilled employee/official              2        no            yes   \n",
       "4  skilled employee/official              2        no            yes   \n",
       "\n",
       "   credit_risk  \n",
       "0            1  \n",
       "1            0  \n",
       "2            1  \n",
       "3            1  \n",
       "4            0  "
      ]
     },
     "execution_count": 5,
     "metadata": {},
     "output_type": "execute_result"
    }
   ],
   "source": [
    "data.head()"
   ]
  },
  {
   "cell_type": "code",
   "execution_count": 6,
   "id": "35e7655c",
   "metadata": {
    "execution": {
     "iopub.execute_input": "2024-04-27T07:52:26.159454Z",
     "iopub.status.busy": "2024-04-27T07:52:26.159074Z",
     "iopub.status.idle": "2024-04-27T07:52:26.189807Z",
     "shell.execute_reply": "2024-04-27T07:52:26.189071Z",
     "shell.execute_reply.started": "2024-04-27T07:52:26.159426Z"
    }
   },
   "outputs": [
    {
     "data": {
      "text/html": [
       "<div>\n",
       "<style scoped>\n",
       "    .dataframe tbody tr th:only-of-type {\n",
       "        vertical-align: middle;\n",
       "    }\n",
       "\n",
       "    .dataframe tbody tr th {\n",
       "        vertical-align: top;\n",
       "    }\n",
       "\n",
       "    .dataframe thead th {\n",
       "        text-align: right;\n",
       "    }\n",
       "</style>\n",
       "<table border=\"1\" class=\"dataframe\">\n",
       "  <thead>\n",
       "    <tr style=\"text-align: right;\">\n",
       "      <th></th>\n",
       "      <th>status</th>\n",
       "      <th>duration</th>\n",
       "      <th>credit_history</th>\n",
       "      <th>purpose</th>\n",
       "      <th>amount</th>\n",
       "      <th>savings</th>\n",
       "      <th>employment_duration</th>\n",
       "      <th>installment_rate</th>\n",
       "      <th>personal_status_sex</th>\n",
       "      <th>other_debtors</th>\n",
       "      <th>present_residence</th>\n",
       "      <th>property</th>\n",
       "      <th>age</th>\n",
       "      <th>other_installment_plans</th>\n",
       "      <th>housing</th>\n",
       "      <th>number_credits</th>\n",
       "      <th>job</th>\n",
       "      <th>people_liable</th>\n",
       "      <th>telephone</th>\n",
       "      <th>foreign_worker</th>\n",
       "      <th>credit_risk</th>\n",
       "    </tr>\n",
       "  </thead>\n",
       "  <tbody>\n",
       "    <tr>\n",
       "      <th>995</th>\n",
       "      <td>no checking account</td>\n",
       "      <td>12</td>\n",
       "      <td>existing credits paid back duly till now</td>\n",
       "      <td>radio/television</td>\n",
       "      <td>1736</td>\n",
       "      <td>... &lt; 100 DM</td>\n",
       "      <td>4 &lt;= ... &lt; 7 years</td>\n",
       "      <td>3</td>\n",
       "      <td>female : divorced/separated/married</td>\n",
       "      <td>none</td>\n",
       "      <td>4</td>\n",
       "      <td>real estate</td>\n",
       "      <td>31</td>\n",
       "      <td>none</td>\n",
       "      <td>own</td>\n",
       "      <td>1</td>\n",
       "      <td>unskilled - resident</td>\n",
       "      <td>1</td>\n",
       "      <td>no</td>\n",
       "      <td>yes</td>\n",
       "      <td>1</td>\n",
       "    </tr>\n",
       "    <tr>\n",
       "      <th>996</th>\n",
       "      <td>... &lt; 100 DM</td>\n",
       "      <td>30</td>\n",
       "      <td>existing credits paid back duly till now</td>\n",
       "      <td>car (used)</td>\n",
       "      <td>3857</td>\n",
       "      <td>... &lt; 100 DM</td>\n",
       "      <td>1 &lt;= ... &lt; 4 years</td>\n",
       "      <td>4</td>\n",
       "      <td>male : divorced/separated</td>\n",
       "      <td>none</td>\n",
       "      <td>4</td>\n",
       "      <td>building society savings agreement/life insurance</td>\n",
       "      <td>40</td>\n",
       "      <td>none</td>\n",
       "      <td>own</td>\n",
       "      <td>1</td>\n",
       "      <td>management/self-employed/highly qualified empl...</td>\n",
       "      <td>1</td>\n",
       "      <td>yes</td>\n",
       "      <td>yes</td>\n",
       "      <td>1</td>\n",
       "    </tr>\n",
       "    <tr>\n",
       "      <th>997</th>\n",
       "      <td>no checking account</td>\n",
       "      <td>12</td>\n",
       "      <td>existing credits paid back duly till now</td>\n",
       "      <td>domestic appliances</td>\n",
       "      <td>804</td>\n",
       "      <td>... &lt; 100 DM</td>\n",
       "      <td>... &gt;= 7 years</td>\n",
       "      <td>4</td>\n",
       "      <td>male : single</td>\n",
       "      <td>none</td>\n",
       "      <td>4</td>\n",
       "      <td>car or other</td>\n",
       "      <td>38</td>\n",
       "      <td>none</td>\n",
       "      <td>own</td>\n",
       "      <td>1</td>\n",
       "      <td>skilled employee/official</td>\n",
       "      <td>1</td>\n",
       "      <td>no</td>\n",
       "      <td>yes</td>\n",
       "      <td>1</td>\n",
       "    </tr>\n",
       "    <tr>\n",
       "      <th>998</th>\n",
       "      <td>... &lt; 100 DM</td>\n",
       "      <td>45</td>\n",
       "      <td>existing credits paid back duly till now</td>\n",
       "      <td>domestic appliances</td>\n",
       "      <td>1845</td>\n",
       "      <td>... &lt; 100 DM</td>\n",
       "      <td>1 &lt;= ... &lt; 4 years</td>\n",
       "      <td>4</td>\n",
       "      <td>male : single</td>\n",
       "      <td>none</td>\n",
       "      <td>4</td>\n",
       "      <td>unknown/no property</td>\n",
       "      <td>23</td>\n",
       "      <td>none</td>\n",
       "      <td>for free</td>\n",
       "      <td>1</td>\n",
       "      <td>skilled employee/official</td>\n",
       "      <td>1</td>\n",
       "      <td>yes</td>\n",
       "      <td>yes</td>\n",
       "      <td>0</td>\n",
       "    </tr>\n",
       "    <tr>\n",
       "      <th>999</th>\n",
       "      <td>0 &lt;= ... &lt; 200 DM</td>\n",
       "      <td>45</td>\n",
       "      <td>critical account/other credits existing</td>\n",
       "      <td>car (used)</td>\n",
       "      <td>4576</td>\n",
       "      <td>100 &lt;= ... &lt; 500 DM</td>\n",
       "      <td>unemployed</td>\n",
       "      <td>3</td>\n",
       "      <td>male : single</td>\n",
       "      <td>none</td>\n",
       "      <td>4</td>\n",
       "      <td>car or other</td>\n",
       "      <td>27</td>\n",
       "      <td>none</td>\n",
       "      <td>own</td>\n",
       "      <td>1</td>\n",
       "      <td>skilled employee/official</td>\n",
       "      <td>1</td>\n",
       "      <td>no</td>\n",
       "      <td>yes</td>\n",
       "      <td>1</td>\n",
       "    </tr>\n",
       "  </tbody>\n",
       "</table>\n",
       "</div>"
      ],
      "text/plain": [
       "                  status  duration                            credit_history  \\\n",
       "995  no checking account        12  existing credits paid back duly till now   \n",
       "996         ... < 100 DM        30  existing credits paid back duly till now   \n",
       "997  no checking account        12  existing credits paid back duly till now   \n",
       "998         ... < 100 DM        45  existing credits paid back duly till now   \n",
       "999    0 <= ... < 200 DM        45   critical account/other credits existing   \n",
       "\n",
       "                 purpose  amount              savings employment_duration  \\\n",
       "995     radio/television    1736         ... < 100 DM  4 <= ... < 7 years   \n",
       "996           car (used)    3857         ... < 100 DM  1 <= ... < 4 years   \n",
       "997  domestic appliances     804         ... < 100 DM      ... >= 7 years   \n",
       "998  domestic appliances    1845         ... < 100 DM  1 <= ... < 4 years   \n",
       "999           car (used)    4576  100 <= ... < 500 DM          unemployed   \n",
       "\n",
       "     installment_rate                  personal_status_sex other_debtors  \\\n",
       "995                 3  female : divorced/separated/married          none   \n",
       "996                 4            male : divorced/separated          none   \n",
       "997                 4                        male : single          none   \n",
       "998                 4                        male : single          none   \n",
       "999                 3                        male : single          none   \n",
       "\n",
       "     present_residence                                           property  \\\n",
       "995                  4                                        real estate   \n",
       "996                  4  building society savings agreement/life insurance   \n",
       "997                  4                                       car or other   \n",
       "998                  4                                unknown/no property   \n",
       "999                  4                                       car or other   \n",
       "\n",
       "     age other_installment_plans   housing  number_credits  \\\n",
       "995   31                    none       own               1   \n",
       "996   40                    none       own               1   \n",
       "997   38                    none       own               1   \n",
       "998   23                    none  for free               1   \n",
       "999   27                    none       own               1   \n",
       "\n",
       "                                                   job  people_liable  \\\n",
       "995                               unskilled - resident              1   \n",
       "996  management/self-employed/highly qualified empl...              1   \n",
       "997                          skilled employee/official              1   \n",
       "998                          skilled employee/official              1   \n",
       "999                          skilled employee/official              1   \n",
       "\n",
       "    telephone foreign_worker  credit_risk  \n",
       "995        no            yes            1  \n",
       "996       yes            yes            1  \n",
       "997        no            yes            1  \n",
       "998       yes            yes            0  \n",
       "999        no            yes            1  "
      ]
     },
     "execution_count": 6,
     "metadata": {},
     "output_type": "execute_result"
    }
   ],
   "source": [
    "data.tail()"
   ]
  },
  {
   "cell_type": "code",
   "execution_count": 7,
   "id": "0699e951",
   "metadata": {
    "execution": {
     "iopub.execute_input": "2024-04-27T07:52:26.959826Z",
     "iopub.status.busy": "2024-04-27T07:52:26.959506Z",
     "iopub.status.idle": "2024-04-27T07:52:26.966284Z",
     "shell.execute_reply": "2024-04-27T07:52:26.965320Z",
     "shell.execute_reply.started": "2024-04-27T07:52:26.959784Z"
    }
   },
   "outputs": [
    {
     "data": {
      "text/plain": [
       "(1000, 21)"
      ]
     },
     "execution_count": 7,
     "metadata": {},
     "output_type": "execute_result"
    }
   ],
   "source": [
    "data.shape"
   ]
  },
  {
   "cell_type": "code",
   "execution_count": 8,
   "id": "1f35a6ac",
   "metadata": {
    "execution": {
     "iopub.execute_input": "2024-04-27T07:52:27.700568Z",
     "iopub.status.busy": "2024-04-27T07:52:27.699935Z",
     "iopub.status.idle": "2024-04-27T07:52:27.705581Z",
     "shell.execute_reply": "2024-04-27T07:52:27.704642Z",
     "shell.execute_reply.started": "2024-04-27T07:52:27.700537Z"
    }
   },
   "outputs": [
    {
     "name": "stdout",
     "output_type": "stream",
     "text": [
      "Number of columns: 21\n",
      "Number of rows: 1000\n"
     ]
    }
   ],
   "source": [
    "print(\"Number of columns: {}\".format(data.shape[1]))\n",
    "print(\"Number of rows: {}\".format(data.shape[0]))"
   ]
  },
  {
   "cell_type": "code",
   "execution_count": 9,
   "id": "82f0bc70",
   "metadata": {
    "execution": {
     "iopub.execute_input": "2024-04-27T07:52:28.446110Z",
     "iopub.status.busy": "2024-04-27T07:52:28.445780Z",
     "iopub.status.idle": "2024-04-27T07:52:28.486601Z",
     "shell.execute_reply": "2024-04-27T07:52:28.485681Z",
     "shell.execute_reply.started": "2024-04-27T07:52:28.446084Z"
    }
   },
   "outputs": [
    {
     "name": "stdout",
     "output_type": "stream",
     "text": [
      "<class 'pandas.core.frame.DataFrame'>\n",
      "RangeIndex: 1000 entries, 0 to 999\n",
      "Data columns (total 21 columns):\n",
      " #   Column                   Non-Null Count  Dtype \n",
      "---  ------                   --------------  ----- \n",
      " 0   status                   1000 non-null   object\n",
      " 1   duration                 1000 non-null   int64 \n",
      " 2   credit_history           1000 non-null   object\n",
      " 3   purpose                  1000 non-null   object\n",
      " 4   amount                   1000 non-null   int64 \n",
      " 5   savings                  1000 non-null   object\n",
      " 6   employment_duration      1000 non-null   object\n",
      " 7   installment_rate         1000 non-null   int64 \n",
      " 8   personal_status_sex      1000 non-null   object\n",
      " 9   other_debtors            1000 non-null   object\n",
      " 10  present_residence        1000 non-null   int64 \n",
      " 11  property                 1000 non-null   object\n",
      " 12  age                      1000 non-null   int64 \n",
      " 13  other_installment_plans  1000 non-null   object\n",
      " 14  housing                  1000 non-null   object\n",
      " 15  number_credits           1000 non-null   int64 \n",
      " 16  job                      1000 non-null   object\n",
      " 17  people_liable            1000 non-null   int64 \n",
      " 18  telephone                1000 non-null   object\n",
      " 19  foreign_worker           1000 non-null   object\n",
      " 20  credit_risk              1000 non-null   int64 \n",
      "dtypes: int64(8), object(13)\n",
      "memory usage: 164.2+ KB\n"
     ]
    }
   ],
   "source": [
    "data.info()"
   ]
  },
  {
   "cell_type": "code",
   "execution_count": 10,
   "id": "74494297",
   "metadata": {
    "execution": {
     "iopub.execute_input": "2024-04-27T07:52:29.145184Z",
     "iopub.status.busy": "2024-04-27T07:52:29.144545Z",
     "iopub.status.idle": "2024-04-27T07:52:29.165666Z",
     "shell.execute_reply": "2024-04-27T07:52:29.164868Z",
     "shell.execute_reply.started": "2024-04-27T07:52:29.145154Z"
    }
   },
   "outputs": [
    {
     "data": {
      "text/plain": [
       "status                     0\n",
       "duration                   0\n",
       "credit_history             0\n",
       "purpose                    0\n",
       "amount                     0\n",
       "savings                    0\n",
       "employment_duration        0\n",
       "installment_rate           0\n",
       "personal_status_sex        0\n",
       "other_debtors              0\n",
       "present_residence          0\n",
       "property                   0\n",
       "age                        0\n",
       "other_installment_plans    0\n",
       "housing                    0\n",
       "number_credits             0\n",
       "job                        0\n",
       "people_liable              0\n",
       "telephone                  0\n",
       "foreign_worker             0\n",
       "credit_risk                0\n",
       "dtype: int64"
      ]
     },
     "execution_count": 10,
     "metadata": {},
     "output_type": "execute_result"
    }
   ],
   "source": [
    "data.isnull().sum()"
   ]
  },
  {
   "cell_type": "code",
   "execution_count": 11,
   "id": "9059828a",
   "metadata": {
    "execution": {
     "iopub.execute_input": "2024-04-27T07:52:29.845263Z",
     "iopub.status.busy": "2024-04-27T07:52:29.844427Z",
     "iopub.status.idle": "2024-04-27T07:52:30.290722Z",
     "shell.execute_reply": "2024-04-27T07:52:30.289731Z",
     "shell.execute_reply.started": "2024-04-27T07:52:29.845233Z"
    }
   },
   "outputs": [],
   "source": [
    "from sklearn.preprocessing import StandardScaler"
   ]
  },
  {
   "cell_type": "code",
   "execution_count": 13,
   "id": "13abc7e1",
   "metadata": {
    "execution": {
     "iopub.execute_input": "2024-04-27T07:52:31.746564Z",
     "iopub.status.busy": "2024-04-27T07:52:31.745909Z",
     "iopub.status.idle": "2024-04-27T07:52:31.758204Z",
     "shell.execute_reply": "2024-04-27T07:52:31.756991Z",
     "shell.execute_reply.started": "2024-04-27T07:52:31.746531Z"
    }
   },
   "outputs": [],
   "source": [
    "sc = StandardScaler()\n",
    "data['amount'] = sc.fit_transform(pd.DataFrame(data['amount']))"
   ]
  },
  {
   "cell_type": "code",
   "execution_count": 14,
   "id": "d434722e",
   "metadata": {
    "execution": {
     "iopub.execute_input": "2024-04-27T07:52:32.645886Z",
     "iopub.status.busy": "2024-04-27T07:52:32.644964Z",
     "iopub.status.idle": "2024-04-27T07:52:32.677328Z",
     "shell.execute_reply": "2024-04-27T07:52:32.676399Z",
     "shell.execute_reply.started": "2024-04-27T07:52:32.645847Z"
    }
   },
   "outputs": [
    {
     "data": {
      "text/html": [
       "<div>\n",
       "<style scoped>\n",
       "    .dataframe tbody tr th:only-of-type {\n",
       "        vertical-align: middle;\n",
       "    }\n",
       "\n",
       "    .dataframe tbody tr th {\n",
       "        vertical-align: top;\n",
       "    }\n",
       "\n",
       "    .dataframe thead th {\n",
       "        text-align: right;\n",
       "    }\n",
       "</style>\n",
       "<table border=\"1\" class=\"dataframe\">\n",
       "  <thead>\n",
       "    <tr style=\"text-align: right;\">\n",
       "      <th></th>\n",
       "      <th>status</th>\n",
       "      <th>duration</th>\n",
       "      <th>credit_history</th>\n",
       "      <th>purpose</th>\n",
       "      <th>amount</th>\n",
       "      <th>savings</th>\n",
       "      <th>employment_duration</th>\n",
       "      <th>installment_rate</th>\n",
       "      <th>personal_status_sex</th>\n",
       "      <th>other_debtors</th>\n",
       "      <th>present_residence</th>\n",
       "      <th>property</th>\n",
       "      <th>age</th>\n",
       "      <th>other_installment_plans</th>\n",
       "      <th>housing</th>\n",
       "      <th>number_credits</th>\n",
       "      <th>job</th>\n",
       "      <th>people_liable</th>\n",
       "      <th>telephone</th>\n",
       "      <th>foreign_worker</th>\n",
       "      <th>credit_risk</th>\n",
       "    </tr>\n",
       "  </thead>\n",
       "  <tbody>\n",
       "    <tr>\n",
       "      <th>0</th>\n",
       "      <td>... &lt; 100 DM</td>\n",
       "      <td>6</td>\n",
       "      <td>critical account/other credits existing</td>\n",
       "      <td>domestic appliances</td>\n",
       "      <td>-0.745131</td>\n",
       "      <td>unknown/no savings account</td>\n",
       "      <td>... &gt;= 7 years</td>\n",
       "      <td>4</td>\n",
       "      <td>male : single</td>\n",
       "      <td>none</td>\n",
       "      <td>4</td>\n",
       "      <td>real estate</td>\n",
       "      <td>67</td>\n",
       "      <td>none</td>\n",
       "      <td>own</td>\n",
       "      <td>2</td>\n",
       "      <td>skilled employee/official</td>\n",
       "      <td>1</td>\n",
       "      <td>yes</td>\n",
       "      <td>yes</td>\n",
       "      <td>1</td>\n",
       "    </tr>\n",
       "    <tr>\n",
       "      <th>1</th>\n",
       "      <td>0 &lt;= ... &lt; 200 DM</td>\n",
       "      <td>48</td>\n",
       "      <td>existing credits paid back duly till now</td>\n",
       "      <td>domestic appliances</td>\n",
       "      <td>0.949817</td>\n",
       "      <td>... &lt; 100 DM</td>\n",
       "      <td>1 &lt;= ... &lt; 4 years</td>\n",
       "      <td>2</td>\n",
       "      <td>female : divorced/separated/married</td>\n",
       "      <td>none</td>\n",
       "      <td>2</td>\n",
       "      <td>real estate</td>\n",
       "      <td>22</td>\n",
       "      <td>none</td>\n",
       "      <td>own</td>\n",
       "      <td>1</td>\n",
       "      <td>skilled employee/official</td>\n",
       "      <td>1</td>\n",
       "      <td>no</td>\n",
       "      <td>yes</td>\n",
       "      <td>0</td>\n",
       "    </tr>\n",
       "    <tr>\n",
       "      <th>2</th>\n",
       "      <td>no checking account</td>\n",
       "      <td>12</td>\n",
       "      <td>critical account/other credits existing</td>\n",
       "      <td>retraining</td>\n",
       "      <td>-0.416562</td>\n",
       "      <td>... &lt; 100 DM</td>\n",
       "      <td>4 &lt;= ... &lt; 7 years</td>\n",
       "      <td>2</td>\n",
       "      <td>male : single</td>\n",
       "      <td>none</td>\n",
       "      <td>3</td>\n",
       "      <td>real estate</td>\n",
       "      <td>49</td>\n",
       "      <td>none</td>\n",
       "      <td>own</td>\n",
       "      <td>1</td>\n",
       "      <td>unskilled - resident</td>\n",
       "      <td>2</td>\n",
       "      <td>no</td>\n",
       "      <td>yes</td>\n",
       "      <td>1</td>\n",
       "    </tr>\n",
       "    <tr>\n",
       "      <th>3</th>\n",
       "      <td>... &lt; 100 DM</td>\n",
       "      <td>42</td>\n",
       "      <td>existing credits paid back duly till now</td>\n",
       "      <td>radio/television</td>\n",
       "      <td>1.634247</td>\n",
       "      <td>... &lt; 100 DM</td>\n",
       "      <td>4 &lt;= ... &lt; 7 years</td>\n",
       "      <td>2</td>\n",
       "      <td>male : single</td>\n",
       "      <td>guarantor</td>\n",
       "      <td>4</td>\n",
       "      <td>building society savings agreement/life insurance</td>\n",
       "      <td>45</td>\n",
       "      <td>none</td>\n",
       "      <td>for free</td>\n",
       "      <td>1</td>\n",
       "      <td>skilled employee/official</td>\n",
       "      <td>2</td>\n",
       "      <td>no</td>\n",
       "      <td>yes</td>\n",
       "      <td>1</td>\n",
       "    </tr>\n",
       "    <tr>\n",
       "      <th>4</th>\n",
       "      <td>... &lt; 100 DM</td>\n",
       "      <td>24</td>\n",
       "      <td>delay in paying off in the past</td>\n",
       "      <td>car (new)</td>\n",
       "      <td>0.566664</td>\n",
       "      <td>... &lt; 100 DM</td>\n",
       "      <td>1 &lt;= ... &lt; 4 years</td>\n",
       "      <td>3</td>\n",
       "      <td>male : single</td>\n",
       "      <td>none</td>\n",
       "      <td>4</td>\n",
       "      <td>unknown/no property</td>\n",
       "      <td>53</td>\n",
       "      <td>none</td>\n",
       "      <td>for free</td>\n",
       "      <td>2</td>\n",
       "      <td>skilled employee/official</td>\n",
       "      <td>2</td>\n",
       "      <td>no</td>\n",
       "      <td>yes</td>\n",
       "      <td>0</td>\n",
       "    </tr>\n",
       "  </tbody>\n",
       "</table>\n",
       "</div>"
      ],
      "text/plain": [
       "                status  duration                            credit_history  \\\n",
       "0         ... < 100 DM         6   critical account/other credits existing   \n",
       "1    0 <= ... < 200 DM        48  existing credits paid back duly till now   \n",
       "2  no checking account        12   critical account/other credits existing   \n",
       "3         ... < 100 DM        42  existing credits paid back duly till now   \n",
       "4         ... < 100 DM        24           delay in paying off in the past   \n",
       "\n",
       "               purpose    amount                     savings  \\\n",
       "0  domestic appliances -0.745131  unknown/no savings account   \n",
       "1  domestic appliances  0.949817                ... < 100 DM   \n",
       "2           retraining -0.416562                ... < 100 DM   \n",
       "3     radio/television  1.634247                ... < 100 DM   \n",
       "4            car (new)  0.566664                ... < 100 DM   \n",
       "\n",
       "  employment_duration  installment_rate                  personal_status_sex  \\\n",
       "0      ... >= 7 years                 4                        male : single   \n",
       "1  1 <= ... < 4 years                 2  female : divorced/separated/married   \n",
       "2  4 <= ... < 7 years                 2                        male : single   \n",
       "3  4 <= ... < 7 years                 2                        male : single   \n",
       "4  1 <= ... < 4 years                 3                        male : single   \n",
       "\n",
       "  other_debtors  present_residence  \\\n",
       "0          none                  4   \n",
       "1          none                  2   \n",
       "2          none                  3   \n",
       "3     guarantor                  4   \n",
       "4          none                  4   \n",
       "\n",
       "                                            property  age  \\\n",
       "0                                        real estate   67   \n",
       "1                                        real estate   22   \n",
       "2                                        real estate   49   \n",
       "3  building society savings agreement/life insurance   45   \n",
       "4                                unknown/no property   53   \n",
       "\n",
       "  other_installment_plans   housing  number_credits  \\\n",
       "0                    none       own               2   \n",
       "1                    none       own               1   \n",
       "2                    none       own               1   \n",
       "3                    none  for free               1   \n",
       "4                    none  for free               2   \n",
       "\n",
       "                         job  people_liable telephone foreign_worker  \\\n",
       "0  skilled employee/official              1       yes            yes   \n",
       "1  skilled employee/official              1        no            yes   \n",
       "2       unskilled - resident              2        no            yes   \n",
       "3  skilled employee/official              2        no            yes   \n",
       "4  skilled employee/official              2        no            yes   \n",
       "\n",
       "   credit_risk  \n",
       "0            1  \n",
       "1            0  \n",
       "2            1  \n",
       "3            1  \n",
       "4            0  "
      ]
     },
     "execution_count": 14,
     "metadata": {},
     "output_type": "execute_result"
    }
   ],
   "source": [
    "data.head()"
   ]
  },
  {
   "cell_type": "code",
   "execution_count": 17,
   "id": "0d1ab24b",
   "metadata": {
    "execution": {
     "iopub.execute_input": "2024-04-27T07:52:33.410132Z",
     "iopub.status.busy": "2024-04-27T07:52:33.409800Z",
     "iopub.status.idle": "2024-04-27T07:52:33.439212Z",
     "shell.execute_reply": "2024-04-27T07:52:33.438143Z",
     "shell.execute_reply.started": "2024-04-27T07:52:33.410106Z"
    }
   },
   "outputs": [],
   "source": [
    "data = data.drop(['employment_duration'], axis =1)"
   ]
  },
  {
   "cell_type": "code",
   "execution_count": 18,
   "id": "4e1f5152",
   "metadata": {
    "execution": {
     "iopub.execute_input": "2024-04-27T07:52:34.221710Z",
     "iopub.status.busy": "2024-04-27T07:52:34.220802Z",
     "iopub.status.idle": "2024-04-27T07:52:34.254262Z",
     "shell.execute_reply": "2024-04-27T07:52:34.253285Z",
     "shell.execute_reply.started": "2024-04-27T07:52:34.221678Z"
    }
   },
   "outputs": [
    {
     "data": {
      "text/html": [
       "<div>\n",
       "<style scoped>\n",
       "    .dataframe tbody tr th:only-of-type {\n",
       "        vertical-align: middle;\n",
       "    }\n",
       "\n",
       "    .dataframe tbody tr th {\n",
       "        vertical-align: top;\n",
       "    }\n",
       "\n",
       "    .dataframe thead th {\n",
       "        text-align: right;\n",
       "    }\n",
       "</style>\n",
       "<table border=\"1\" class=\"dataframe\">\n",
       "  <thead>\n",
       "    <tr style=\"text-align: right;\">\n",
       "      <th></th>\n",
       "      <th>status</th>\n",
       "      <th>duration</th>\n",
       "      <th>credit_history</th>\n",
       "      <th>purpose</th>\n",
       "      <th>amount</th>\n",
       "      <th>savings</th>\n",
       "      <th>installment_rate</th>\n",
       "      <th>personal_status_sex</th>\n",
       "      <th>other_debtors</th>\n",
       "      <th>present_residence</th>\n",
       "      <th>property</th>\n",
       "      <th>age</th>\n",
       "      <th>other_installment_plans</th>\n",
       "      <th>housing</th>\n",
       "      <th>number_credits</th>\n",
       "      <th>job</th>\n",
       "      <th>people_liable</th>\n",
       "      <th>telephone</th>\n",
       "      <th>foreign_worker</th>\n",
       "      <th>credit_risk</th>\n",
       "    </tr>\n",
       "  </thead>\n",
       "  <tbody>\n",
       "    <tr>\n",
       "      <th>0</th>\n",
       "      <td>... &lt; 100 DM</td>\n",
       "      <td>6</td>\n",
       "      <td>critical account/other credits existing</td>\n",
       "      <td>domestic appliances</td>\n",
       "      <td>-0.745131</td>\n",
       "      <td>unknown/no savings account</td>\n",
       "      <td>4</td>\n",
       "      <td>male : single</td>\n",
       "      <td>none</td>\n",
       "      <td>4</td>\n",
       "      <td>real estate</td>\n",
       "      <td>67</td>\n",
       "      <td>none</td>\n",
       "      <td>own</td>\n",
       "      <td>2</td>\n",
       "      <td>skilled employee/official</td>\n",
       "      <td>1</td>\n",
       "      <td>yes</td>\n",
       "      <td>yes</td>\n",
       "      <td>1</td>\n",
       "    </tr>\n",
       "    <tr>\n",
       "      <th>1</th>\n",
       "      <td>0 &lt;= ... &lt; 200 DM</td>\n",
       "      <td>48</td>\n",
       "      <td>existing credits paid back duly till now</td>\n",
       "      <td>domestic appliances</td>\n",
       "      <td>0.949817</td>\n",
       "      <td>... &lt; 100 DM</td>\n",
       "      <td>2</td>\n",
       "      <td>female : divorced/separated/married</td>\n",
       "      <td>none</td>\n",
       "      <td>2</td>\n",
       "      <td>real estate</td>\n",
       "      <td>22</td>\n",
       "      <td>none</td>\n",
       "      <td>own</td>\n",
       "      <td>1</td>\n",
       "      <td>skilled employee/official</td>\n",
       "      <td>1</td>\n",
       "      <td>no</td>\n",
       "      <td>yes</td>\n",
       "      <td>0</td>\n",
       "    </tr>\n",
       "    <tr>\n",
       "      <th>2</th>\n",
       "      <td>no checking account</td>\n",
       "      <td>12</td>\n",
       "      <td>critical account/other credits existing</td>\n",
       "      <td>retraining</td>\n",
       "      <td>-0.416562</td>\n",
       "      <td>... &lt; 100 DM</td>\n",
       "      <td>2</td>\n",
       "      <td>male : single</td>\n",
       "      <td>none</td>\n",
       "      <td>3</td>\n",
       "      <td>real estate</td>\n",
       "      <td>49</td>\n",
       "      <td>none</td>\n",
       "      <td>own</td>\n",
       "      <td>1</td>\n",
       "      <td>unskilled - resident</td>\n",
       "      <td>2</td>\n",
       "      <td>no</td>\n",
       "      <td>yes</td>\n",
       "      <td>1</td>\n",
       "    </tr>\n",
       "    <tr>\n",
       "      <th>3</th>\n",
       "      <td>... &lt; 100 DM</td>\n",
       "      <td>42</td>\n",
       "      <td>existing credits paid back duly till now</td>\n",
       "      <td>radio/television</td>\n",
       "      <td>1.634247</td>\n",
       "      <td>... &lt; 100 DM</td>\n",
       "      <td>2</td>\n",
       "      <td>male : single</td>\n",
       "      <td>guarantor</td>\n",
       "      <td>4</td>\n",
       "      <td>building society savings agreement/life insurance</td>\n",
       "      <td>45</td>\n",
       "      <td>none</td>\n",
       "      <td>for free</td>\n",
       "      <td>1</td>\n",
       "      <td>skilled employee/official</td>\n",
       "      <td>2</td>\n",
       "      <td>no</td>\n",
       "      <td>yes</td>\n",
       "      <td>1</td>\n",
       "    </tr>\n",
       "    <tr>\n",
       "      <th>4</th>\n",
       "      <td>... &lt; 100 DM</td>\n",
       "      <td>24</td>\n",
       "      <td>delay in paying off in the past</td>\n",
       "      <td>car (new)</td>\n",
       "      <td>0.566664</td>\n",
       "      <td>... &lt; 100 DM</td>\n",
       "      <td>3</td>\n",
       "      <td>male : single</td>\n",
       "      <td>none</td>\n",
       "      <td>4</td>\n",
       "      <td>unknown/no property</td>\n",
       "      <td>53</td>\n",
       "      <td>none</td>\n",
       "      <td>for free</td>\n",
       "      <td>2</td>\n",
       "      <td>skilled employee/official</td>\n",
       "      <td>2</td>\n",
       "      <td>no</td>\n",
       "      <td>yes</td>\n",
       "      <td>0</td>\n",
       "    </tr>\n",
       "  </tbody>\n",
       "</table>\n",
       "</div>"
      ],
      "text/plain": [
       "                status  duration                            credit_history  \\\n",
       "0         ... < 100 DM         6   critical account/other credits existing   \n",
       "1    0 <= ... < 200 DM        48  existing credits paid back duly till now   \n",
       "2  no checking account        12   critical account/other credits existing   \n",
       "3         ... < 100 DM        42  existing credits paid back duly till now   \n",
       "4         ... < 100 DM        24           delay in paying off in the past   \n",
       "\n",
       "               purpose    amount                     savings  \\\n",
       "0  domestic appliances -0.745131  unknown/no savings account   \n",
       "1  domestic appliances  0.949817                ... < 100 DM   \n",
       "2           retraining -0.416562                ... < 100 DM   \n",
       "3     radio/television  1.634247                ... < 100 DM   \n",
       "4            car (new)  0.566664                ... < 100 DM   \n",
       "\n",
       "   installment_rate                  personal_status_sex other_debtors  \\\n",
       "0                 4                        male : single          none   \n",
       "1                 2  female : divorced/separated/married          none   \n",
       "2                 2                        male : single          none   \n",
       "3                 2                        male : single     guarantor   \n",
       "4                 3                        male : single          none   \n",
       "\n",
       "   present_residence                                           property  age  \\\n",
       "0                  4                                        real estate   67   \n",
       "1                  2                                        real estate   22   \n",
       "2                  3                                        real estate   49   \n",
       "3                  4  building society savings agreement/life insurance   45   \n",
       "4                  4                                unknown/no property   53   \n",
       "\n",
       "  other_installment_plans   housing  number_credits  \\\n",
       "0                    none       own               2   \n",
       "1                    none       own               1   \n",
       "2                    none       own               1   \n",
       "3                    none  for free               1   \n",
       "4                    none  for free               2   \n",
       "\n",
       "                         job  people_liable telephone foreign_worker  \\\n",
       "0  skilled employee/official              1       yes            yes   \n",
       "1  skilled employee/official              1        no            yes   \n",
       "2       unskilled - resident              2        no            yes   \n",
       "3  skilled employee/official              2        no            yes   \n",
       "4  skilled employee/official              2        no            yes   \n",
       "\n",
       "   credit_risk  \n",
       "0            1  \n",
       "1            0  \n",
       "2            1  \n",
       "3            1  \n",
       "4            0  "
      ]
     },
     "execution_count": 18,
     "metadata": {},
     "output_type": "execute_result"
    }
   ],
   "source": [
    "data.head()"
   ]
  },
  {
   "cell_type": "code",
   "execution_count": 19,
   "id": "033243fb",
   "metadata": {
    "execution": {
     "iopub.execute_input": "2024-04-27T07:52:34.871458Z",
     "iopub.status.busy": "2024-04-27T07:52:34.871116Z",
     "iopub.status.idle": "2024-04-27T07:52:35.457433Z",
     "shell.execute_reply": "2024-04-27T07:52:35.456426Z",
     "shell.execute_reply.started": "2024-04-27T07:52:34.871431Z"
    }
   },
   "outputs": [
    {
     "data": {
      "text/plain": [
       "False"
      ]
     },
     "execution_count": 19,
     "metadata": {},
     "output_type": "execute_result"
    }
   ],
   "source": [
    "data.duplicated().any()"
   ]
  },
  {
   "cell_type": "code",
   "execution_count": 20,
   "id": "27aa2e79",
   "metadata": {
    "execution": {
     "iopub.execute_input": "2024-04-27T07:52:35.574630Z",
     "iopub.status.busy": "2024-04-27T07:52:35.574331Z",
     "iopub.status.idle": "2024-04-27T07:52:36.199875Z",
     "shell.execute_reply": "2024-04-27T07:52:36.199055Z",
     "shell.execute_reply.started": "2024-04-27T07:52:35.574605Z"
    }
   },
   "outputs": [],
   "source": [
    "data = data.drop_duplicates()"
   ]
  },
  {
   "cell_type": "code",
   "execution_count": 21,
   "id": "a3748b83",
   "metadata": {
    "execution": {
     "iopub.execute_input": "2024-04-27T07:52:36.306918Z",
     "iopub.status.busy": "2024-04-27T07:52:36.306595Z",
     "iopub.status.idle": "2024-04-27T07:52:36.312918Z",
     "shell.execute_reply": "2024-04-27T07:52:36.312018Z",
     "shell.execute_reply.started": "2024-04-27T07:52:36.306886Z"
    }
   },
   "outputs": [
    {
     "data": {
      "text/plain": [
       "(1000, 20)"
      ]
     },
     "execution_count": 21,
     "metadata": {},
     "output_type": "execute_result"
    }
   ],
   "source": [
    "data.shape"
   ]
  },
  {
   "cell_type": "code",
   "execution_count": 23,
   "id": "debf1da8",
   "metadata": {
    "execution": {
     "iopub.execute_input": "2024-04-27T07:52:37.319047Z",
     "iopub.status.busy": "2024-04-27T07:52:37.318326Z",
     "iopub.status.idle": "2024-04-27T07:52:37.330456Z",
     "shell.execute_reply": "2024-04-27T07:52:37.329567Z",
     "shell.execute_reply.started": "2024-04-27T07:52:37.318996Z"
    }
   },
   "outputs": [
    {
     "data": {
      "text/plain": [
       "domestic appliances    280\n",
       "car (new)              234\n",
       "radio/television       181\n",
       "car (used)             103\n",
       "others                  97\n",
       "retraining              50\n",
       "education               22\n",
       "repairs                 12\n",
       "furniture/equipment     12\n",
       "business                 9\n",
       "Name: purpose, dtype: int64"
      ]
     },
     "execution_count": 23,
     "metadata": {},
     "output_type": "execute_result"
    }
   ],
   "source": [
    "data['purpose'].value_counts()"
   ]
  },
  {
   "cell_type": "code",
   "execution_count": 24,
   "id": "48f0a630",
   "metadata": {
    "execution": {
     "iopub.execute_input": "2024-04-27T07:52:38.168982Z",
     "iopub.status.busy": "2024-04-27T07:52:38.168667Z",
     "iopub.status.idle": "2024-04-27T07:52:38.404172Z",
     "shell.execute_reply": "2024-04-27T07:52:38.403390Z",
     "shell.execute_reply.started": "2024-04-27T07:52:38.168957Z"
    }
   },
   "outputs": [],
   "source": [
    "import seaborn as sns\n",
    "import matplotlib.pyplot as plt\n",
    "plt.style.use('ggplot')"
   ]
  },
  {
   "cell_type": "code",
   "execution_count": 25,
   "id": "cb06b031",
   "metadata": {
    "execution": {
     "iopub.execute_input": "2024-04-27T07:52:38.951710Z",
     "iopub.status.busy": "2024-04-27T07:52:38.950840Z",
     "iopub.status.idle": "2024-04-27T07:52:39.178977Z",
     "shell.execute_reply": "2024-04-27T07:52:39.177902Z",
     "shell.execute_reply.started": "2024-04-27T07:52:38.951676Z"
    }
   },
   "outputs": [
    {
     "data": {
      "image/png": "[encoded data removed]",
      "text/plain": [
       "<Figure size 640x480 with 1 Axes>"
      ]
     },
     "metadata": {},
     "output_type": "display_data"
    }
   ],
   "source": [
    "sns.countplot(data['purpose'])\n",
    "plt.show()"
   ]
  },
  {
   "cell_type": "code",
   "execution_count": 27,
   "id": "2476ceae",
   "metadata": {
    "execution": {
     "iopub.execute_input": "2024-04-27T07:52:39.612284Z",
     "iopub.status.busy": "2024-04-27T07:52:39.611933Z",
     "iopub.status.idle": "2024-04-27T07:52:39.638501Z",
     "shell.execute_reply": "2024-04-27T07:52:39.637406Z",
     "shell.execute_reply.started": "2024-04-27T07:52:39.612258Z"
    }
   },
   "outputs": [],
   "source": [
    "X = data.drop('purpose', axis = 1)\n",
    "y=data['purpose']"
   ]
  },
  {
   "cell_type": "code",
   "execution_count": 28,
   "id": "7599f136",
   "metadata": {
    "execution": {
     "iopub.execute_input": "2024-04-27T07:52:40.489476Z",
     "iopub.status.busy": "2024-04-27T07:52:40.489125Z",
     "iopub.status.idle": "2024-04-27T07:52:40.596498Z",
     "shell.execute_reply": "2024-04-27T07:52:40.595575Z",
     "shell.execute_reply.started": "2024-04-27T07:52:40.489443Z"
    }
   },
   "outputs": [],
   "source": [
    "from sklearn.model_selection import train_test_split"
   ]
  },
  {
   "cell_type": "code",
   "execution_count": 29,
   "id": "01f1ed60",
   "metadata": {
    "execution": {
     "iopub.execute_input": "2024-04-27T07:52:41.245329Z",
     "iopub.status.busy": "2024-04-27T07:52:41.244665Z",
     "iopub.status.idle": "2024-04-27T07:52:41.329621Z",
     "shell.execute_reply": "2024-04-27T07:52:41.328579Z",
     "shell.execute_reply.started": "2024-04-27T07:52:41.245294Z"
    }
   },
   "outputs": [],
   "source": [
    "X_train, X_test, y_train, y_test = train_test_split(X, y, test_size = 0.2, random_state = 42)"
   ]
  },
  {
   "cell_type": "code",
   "execution_count": 30,
   "id": "bdfd978d",
   "metadata": {
    "execution": {
     "iopub.execute_input": "2024-04-27T07:52:41.978333Z",
     "iopub.status.busy": "2024-04-27T07:52:41.977604Z",
     "iopub.status.idle": "2024-04-27T07:52:41.982446Z",
     "shell.execute_reply": "2024-04-27T07:52:41.981324Z",
     "shell.execute_reply.started": "2024-04-27T07:52:41.978299Z"
    }
   },
   "outputs": [],
   "source": [
    "import numpy as np"
   ]
  },
  {
   "cell_type": "code",
   "execution_count": 31,
   "id": "35f3a699",
   "metadata": {
    "execution": {
     "iopub.execute_input": "2024-04-27T07:52:42.730582Z",
     "iopub.status.busy": "2024-04-27T07:52:42.730222Z",
     "iopub.status.idle": "2024-04-27T07:52:42.984139Z",
     "shell.execute_reply": "2024-04-27T07:52:42.983033Z",
     "shell.execute_reply.started": "2024-04-27T07:52:42.730556Z"
    }
   },
   "outputs": [],
   "source": [
    "from sklearn.metrics import accuracy_score, precision_score, recall_score, f1_score, confusion_matrix, classification_report\n",
    "from sklearn.linear_model import LogisticRegression, SGDClassifier\n",
    "from sklearn.tree import DecisionTreeClassifier\n",
    "from sklearn.ensemble import RandomForestClassifier, AdaBoostClassifier, GradientBoostingClassifier, BaggingClassifier, ExtraTreesClassifier, VotingClassifier\n",
    "from sklearn.svm import SVC\n",
    "from sklearn.neighbors import KNeighborsClassifier\n",
    "from sklearn.naive_bayes import GaussianNB\n"
   ]
  },
  {
   "cell_type": "code",
   "execution_count": null,
   "id": "3e8e5ec1",
   "metadata": {},
   "outputs": [],
   "source": [
    "# Undersampling"
   ]
  },
  {
   "cell_type": "code",
   "execution_count": 34,
   "id": "8589b3a9",
   "metadata": {},
   "outputs": [],
   "source": [
    "normal = data[data['purpose']==0]\n",
    "fraud = data[data['purpose']==1]"
   ]
  },
  {
   "cell_type": "code",
   "execution_count": 48,
   "id": "afcc1e12",
   "metadata": {},
   "outputs": [
    {
     "data": {
      "text/plain": [
       "(0, 20)"
      ]
     },
     "execution_count": 48,
     "metadata": {},
     "output_type": "execute_result"
    }
   ],
   "source": [
    "normal.shape"
   ]
  },
  {
   "cell_type": "code",
   "execution_count": 49,
   "id": "80de9f0b",
   "metadata": {},
   "outputs": [
    {
     "data": {
      "text/plain": [
       "(0, 20)"
      ]
     },
     "execution_count": 49,
     "metadata": {},
     "output_type": "execute_result"
    }
   ],
   "source": [
    "fraud.shape"
   ]
  },
  {
   "cell_type": "code",
   "execution_count": null,
   "id": "1bfc1f5f",
   "metadata": {},
   "outputs": [],
   "source": [
    "X = data.drop('Class', axis = 1)\n",
    "y= data['Class']"
   ]
  },
  {
   "cell_type": "code",
   "execution_count": 36,
   "id": "a97b26a0",
   "metadata": {},
   "outputs": [
    {
     "data": {
      "text/plain": [
       "(1000, 19)"
      ]
     },
     "execution_count": 36,
     "metadata": {},
     "output_type": "execute_result"
    }
   ],
   "source": [
    "X.shape"
   ]
  },
  {
   "cell_type": "code",
   "execution_count": 37,
   "id": "e22765f1",
   "metadata": {},
   "outputs": [
    {
     "data": {
      "text/plain": [
       "(1000,)"
      ]
     },
     "execution_count": 37,
     "metadata": {},
     "output_type": "execute_result"
    }
   ],
   "source": [
    "y.shape"
   ]
  },
  {
   "cell_type": "code",
   "execution_count": 42,
   "id": "dbff60c3",
   "metadata": {},
   "outputs": [
    {
     "data": {
      "text/plain": [
       "['credit_card_model.pkl']"
      ]
     },
     "execution_count": 42,
     "metadata": {},
     "output_type": "execute_result"
    }
   ],
   "source": [
    "joblib.dump(dtc, \"credit_card_model.pkl\")"
   ]
  }
 ],
 "metadata": {
  "kaggle": {
   "accelerator": "nvidiaTeslaT4",
   "dataSources": [
    {
     "databundleVersionId": 860599,
     "sourceId": 9120,
     "sourceType": "competition"
    },
    {
     "databundleVersionId": 7921029,
     "sourceId": 50160,
     "sourceType": "competition"
    },
    {
     "datasetId": 306,
     "sourceId": 666,
     "sourceType": "datasetVersion"
    },
    {
     "datasetId": 531,
     "sourceId": 1056,
     "sourceType": "datasetVersion"
    },
    {
     "datasetId": 310,
     "sourceId": 23498,
     "sourceType": "datasetVersion"
    },
    {
     "datasetId": 263888,
     "sourceId": 552038,
     "sourceType": "datasetVersion"
    },
    {
     "datasetId": 817870,
     "sourceId": 1399887,
     "sourceType": "datasetVersion"
    },
    {
     "datasetId": 982921,
     "sourceId": 1660340,
     "sourceType": "datasetVersion"
    },
    {
     "datasetId": 2590623,
     "sourceId": 4422779,
     "sourceType": "datasetVersion"
    },
    {
     "datasetId": 4541632,
     "sourceId": 8050363,
     "sourceType": "datasetVersion"
    },
    {
     "sourceId": 16695845,
     "sourceType": "kernelVersion"
    }
   ],
   "dockerImageVersionId": 30698,
   "isGpuEnabled": true,
   "isInternetEnabled": true,
   "language": "python",
   "sourceType": "notebook"
  },
  "kernelspec": {
   "display_name": "Python 3 (ipykernel)",
   "language": "python",
   "name": "python3"
  },
  "language_info": {
   "codemirror_mode": {
    "name": "ipython",
    "version": 3
   },
   "file_extension": ".py",
   "mimetype": "text/x-python",
   "name": "python",
   "nbconvert_exporter": "python",
   "pygments_lexer": "ipython3",
   "version": "3.11.5"
  }
 },
 "nbformat": 4,
 "nbformat_minor": 5
}
