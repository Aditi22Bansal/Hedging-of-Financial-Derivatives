{
 "cells": [
  {
   "cell_type": "code",
   "execution_count": 1,
   "id": "heavy-toddler",
   "metadata": {
    "_cell_guid": "b1076dfc-b9ad-4769-8c92-a6c4dae69d19",
    "_uuid": "8f2839f25d086af736a60e9eeb907d3b93b6e0e5",
    "execution": {
     "iopub.execute_input": "2021-06-29T11:33:27.824828Z",
     "iopub.status.busy": "2021-06-29T11:33:27.824173Z",
     "iopub.status.idle": "2021-06-29T11:33:27.831412Z",
     "shell.execute_reply": "2021-06-29T11:33:27.830696Z",
     "shell.execute_reply.started": "2021-06-29T11:18:34.116314Z"
    },
    "papermill": {
     "duration": 0.032967,
     "end_time": "2021-06-29T11:33:27.831571",
     "exception": false,
     "start_time": "2021-06-29T11:33:27.798604",
     "status": "completed"
    },
    "tags": []
   },
   "outputs": [
    {
     "name": "stdout",
     "output_type": "stream",
     "text": [
      "/kaggle/input/yes-bank-stock-prices/YesBank_StockPrices.csv\n"
     ]
    }
   ],
   "source": [
    "# This Python 3 environment comes with many helpful analytics libraries installed\n",
    "# It is defined by the kaggle/python Docker image: https://github.com/kaggle/docker-python\n",
    "# For example, here's several helpful packages to load\n",
    "\n",
    "import numpy as np # linear algebra\n",
    "import pandas as pd # data processing, CSV file I/O (e.g. pd.read_csv)\n",
    "\n",
    "# Input data files are available in the read-only \"../input/\" directory\n",
    "# For example, running this (by clicking run or pressing Shift+Enter) will list all files under the input directory\n",
    "\n",
    "import os\n",
    "for dirname, _, filenames in os.walk('/kaggle/input'):\n",
    "    for filename in filenames:\n",
    "        print(os.path.join(dirname, filename))\n",
    "\n",
    "# You can write up to 20GB to the current directory (/kaggle/working/) that gets preserved as output when you create a version using \"Save & Run All\" \n",
    "# You can also write temporary files to /kaggle/temp/, but they won't be saved outside of the current session"
   ]
  },
  {
   "cell_type": "code",
   "execution_count": 2,
   "id": "binding-trout",
   "metadata": {
    "execution": {
     "iopub.execute_input": "2021-06-29T11:33:27.874943Z",
     "iopub.status.busy": "2021-06-29T11:33:27.874128Z",
     "iopub.status.idle": "2021-06-29T11:33:27.913495Z",
     "shell.execute_reply": "2021-06-29T11:33:27.912952Z",
     "shell.execute_reply.started": "2021-06-29T11:19:16.216911Z"
    },
    "papermill": {
     "duration": 0.062572,
     "end_time": "2021-06-29T11:33:27.913624",
     "exception": false,
     "start_time": "2021-06-29T11:33:27.851052",
     "status": "completed"
    },
    "tags": []
   },
   "outputs": [
    {
     "data": {
      "text/html": [
       "<div>\n",
       "<style scoped>\n",
       "    .dataframe tbody tr th:only-of-type {\n",
       "        vertical-align: middle;\n",
       "    }\n",
       "\n",
       "    .dataframe tbody tr th {\n",
       "        vertical-align: top;\n",
       "    }\n",
       "\n",
       "    .dataframe thead th {\n",
       "        text-align: right;\n",
       "    }\n",
       "</style>\n",
       "<table border=\"1\" class=\"dataframe\">\n",
       "  <thead>\n",
       "    <tr style=\"text-align: right;\">\n",
       "      <th></th>\n",
       "      <th>Date</th>\n",
       "      <th>Open</th>\n",
       "      <th>High</th>\n",
       "      <th>Low</th>\n",
       "      <th>Close</th>\n",
       "    </tr>\n",
       "  </thead>\n",
       "  <tbody>\n",
       "    <tr>\n",
       "      <th>0</th>\n",
       "      <td>Jul-05</td>\n",
       "      <td>13.00</td>\n",
       "      <td>14.00</td>\n",
       "      <td>11.25</td>\n",
       "      <td>12.46</td>\n",
       "    </tr>\n",
       "    <tr>\n",
       "      <th>1</th>\n",
       "      <td>Aug-05</td>\n",
       "      <td>12.58</td>\n",
       "      <td>14.88</td>\n",
       "      <td>12.55</td>\n",
       "      <td>13.42</td>\n",
       "    </tr>\n",
       "    <tr>\n",
       "      <th>2</th>\n",
       "      <td>Sep-05</td>\n",
       "      <td>13.48</td>\n",
       "      <td>14.87</td>\n",
       "      <td>12.27</td>\n",
       "      <td>13.30</td>\n",
       "    </tr>\n",
       "    <tr>\n",
       "      <th>3</th>\n",
       "      <td>Oct-05</td>\n",
       "      <td>13.20</td>\n",
       "      <td>14.47</td>\n",
       "      <td>12.40</td>\n",
       "      <td>12.99</td>\n",
       "    </tr>\n",
       "    <tr>\n",
       "      <th>4</th>\n",
       "      <td>Nov-05</td>\n",
       "      <td>13.35</td>\n",
       "      <td>13.88</td>\n",
       "      <td>12.88</td>\n",
       "      <td>13.41</td>\n",
       "    </tr>\n",
       "  </tbody>\n",
       "</table>\n",
       "</div>"
      ],
      "text/plain": [
       "     Date   Open   High    Low  Close\n",
       "0  Jul-05  13.00  14.00  11.25  12.46\n",
       "1  Aug-05  12.58  14.88  12.55  13.42\n",
       "2  Sep-05  13.48  14.87  12.27  13.30\n",
       "3  Oct-05  13.20  14.47  12.40  12.99\n",
       "4  Nov-05  13.35  13.88  12.88  13.41"
      ]
     },
     "execution_count": 2,
     "metadata": {},
     "output_type": "execute_result"
    }
   ],
   "source": [
    "df = pd.read_csv(\"/kaggle/input/yes-bank-stock-prices/YesBank_StockPrices.csv\")\n",
    "df.head()"
   ]
  },
  {
   "cell_type": "code",
   "execution_count": 3,
   "id": "chinese-british",
   "metadata": {
    "execution": {
     "iopub.execute_input": "2021-06-29T11:33:27.962470Z",
     "iopub.status.busy": "2021-06-29T11:33:27.961812Z",
     "iopub.status.idle": "2021-06-29T11:33:27.965350Z",
     "shell.execute_reply": "2021-06-29T11:33:27.964776Z",
     "shell.execute_reply.started": "2021-06-29T11:20:23.481902Z"
    },
    "papermill": {
     "duration": 0.030255,
     "end_time": "2021-06-29T11:33:27.965479",
     "exception": false,
     "start_time": "2021-06-29T11:33:27.935224",
     "status": "completed"
    },
    "tags": []
   },
   "outputs": [
    {
     "data": {
      "text/plain": [
       "0      12.46\n",
       "1      13.42\n",
       "2      13.30\n",
       "3      12.99\n",
       "4      13.41\n",
       "       ...  \n",
       "180    11.95\n",
       "181    14.37\n",
       "182    13.15\n",
       "183    12.42\n",
       "184    14.67\n",
       "Name: Close, Length: 185, dtype: float64"
      ]
     },
     "execution_count": 3,
     "metadata": {},
     "output_type": "execute_result"
    }
   ],
   "source": [
    "df1=df.reset_index()['Close']\n",
    "df1"
   ]
  },
  {
   "cell_type": "code",
   "execution_count": 4,
   "id": "removable-frost",
   "metadata": {
    "execution": {
     "iopub.execute_input": "2021-06-29T11:33:28.025524Z",
     "iopub.status.busy": "2021-06-29T11:33:28.024790Z",
     "iopub.status.idle": "2021-06-29T11:33:28.194066Z",
     "shell.execute_reply": "2021-06-29T11:33:28.194533Z",
     "shell.execute_reply.started": "2021-06-29T11:20:47.254722Z"
    },
    "papermill": {
     "duration": 0.209817,
     "end_time": "2021-06-29T11:33:28.194707",
     "exception": false,
     "start_time": "2021-06-29T11:33:27.984890",
     "status": "completed"
    },
    "tags": []
   },
   "outputs": [
    {
     "data": {
      "text/plain": [
       "[<matplotlib.lines.Line2D at 0x7f3f050bcf50>]"
      ]
     },
     "execution_count": 4,
     "metadata": {},
     "output_type": "execute_result"
    },
    {
     "data": {
      "image/png": "[encoded data removed]",
      "text/plain": [
       "<Figure size 432x288 with 1 Axes>"
      ]
     },
     "metadata": {
      "needs_background": "light"
     },
     "output_type": "display_data"
    }
   ],
   "source": [
    "import matplotlib.pyplot as plt\n",
    "plt.plot(df1)"
   ]
  },
  {
   "cell_type": "code",
   "execution_count": 5,
   "id": "electrical-grammar",
   "metadata": {
    "execution": {
     "iopub.execute_input": "2021-06-29T11:33:28.240650Z",
     "iopub.status.busy": "2021-06-29T11:33:28.240034Z",
     "iopub.status.idle": "2021-06-29T11:33:28.243777Z",
     "shell.execute_reply": "2021-06-29T11:33:28.244268Z",
     "shell.execute_reply.started": "2021-06-29T11:21:13.501613Z"
    },
    "papermill": {
     "duration": 0.028683,
     "end_time": "2021-06-29T11:33:28.244434",
     "exception": false,
     "start_time": "2021-06-29T11:33:28.215751",
     "status": "completed"
    },
    "tags": []
   },
   "outputs": [],
   "source": [
    "\n",
    "import numpy as np"
   ]
  },
  {
   "cell_type": "code",
   "execution_count": 6,
   "id": "expanded-importance",
   "metadata": {
    "execution": {
     "iopub.execute_input": "2021-06-29T11:33:28.290750Z",
     "iopub.status.busy": "2021-06-29T11:33:28.290063Z",
     "iopub.status.idle": "2021-06-29T11:33:28.296836Z",
     "shell.execute_reply": "2021-06-29T11:33:28.297375Z",
     "shell.execute_reply.started": "2021-06-29T11:21:16.412580Z"
    },
    "papermill": {
     "duration": 0.031465,
     "end_time": "2021-06-29T11:33:28.297533",
     "exception": false,
     "start_time": "2021-06-29T11:33:28.266068",
     "status": "completed"
    },
    "tags": []
   },
   "outputs": [
    {
     "data": {
      "text/plain": [
       "0      12.46\n",
       "1      13.42\n",
       "2      13.30\n",
       "3      12.99\n",
       "4      13.41\n",
       "       ...  \n",
       "180    11.95\n",
       "181    14.37\n",
       "182    13.15\n",
       "183    12.42\n",
       "184    14.67\n",
       "Name: Close, Length: 185, dtype: float64"
      ]
     },
     "execution_count": 6,
     "metadata": {},
     "output_type": "execute_result"
    }
   ],
   "source": [
    "df1"
   ]
  },
  {
   "cell_type": "code",
   "execution_count": 7,
   "id": "piano-winner",
   "metadata": {
    "execution": {
     "iopub.execute_input": "2021-06-29T11:33:28.343743Z",
     "iopub.status.busy": "2021-06-29T11:33:28.343102Z",
     "iopub.status.idle": "2021-06-29T11:33:29.331709Z",
     "shell.execute_reply": "2021-06-29T11:33:29.332201Z",
     "shell.execute_reply.started": "2021-06-29T11:21:39.022627Z"
    },
    "papermill": {
     "duration": 1.013367,
     "end_time": "2021-06-29T11:33:29.332376",
     "exception": false,
     "start_time": "2021-06-29T11:33:28.319009",
     "status": "completed"
    },
    "tags": []
   },
   "outputs": [
    {
     "name": "stdout",
     "output_type": "stream",
     "text": [
      "[[6.92892266e-03]\n",
      " [9.61108628e-03]\n",
      " [9.27581582e-03]\n",
      " [8.40970049e-03]\n",
      " [9.58314707e-03]\n",
      " [1.04213232e-02]\n",
      " [1.49474743e-02]\n",
      " [1.71546714e-02]\n",
      " [2.82185963e-02]\n",
      " [2.65701833e-02]\n",
      " [2.24910595e-02]\n",
      " [1.57577112e-02]\n",
      " [1.72664283e-02]\n",
      " [2.19602146e-02]\n",
      " [2.36924452e-02]\n",
      " [3.57621815e-02]\n",
      " [4.28587394e-02]\n",
      " [4.74687081e-02]\n",
      " [5.63813143e-02]\n",
      " [5.21066160e-02]\n",
      " [5.07375950e-02]\n",
      " [5.68004023e-02]\n",
      " [6.57409477e-02]\n",
      " [7.26419312e-02]\n",
      " [7.80900760e-02]\n",
      " [7.54637908e-02]\n",
      " [8.76732231e-02]\n",
      " [9.35963344e-02]\n",
      " [1.01139920e-01]\n",
      " [1.11281851e-01]\n",
      " [1.13321413e-01]\n",
      " [1.10192222e-01]\n",
      " [6.64114886e-02]\n",
      " [6.72776039e-02]\n",
      " [5.90914171e-02]\n",
      " [3.59577559e-02]\n",
      " [4.32219490e-02]\n",
      " [4.70775592e-02]\n",
      " [3.95339741e-02]\n",
      " [1.00581135e-02]\n",
      " [6.37013858e-03]\n",
      " [1.41092982e-02]\n",
      " [6.31426017e-03]\n",
      " [7.82297720e-04]\n",
      " [0.00000000e+00]\n",
      " [1.52827447e-02]\n",
      " [4.22999553e-02]\n",
      " [5.50402325e-02]\n",
      " [6.13265534e-02]\n",
      " [6.55733125e-02]\n",
      " [8.66394725e-02]\n",
      " [1.04297050e-01]\n",
      " [1.13405230e-01]\n",
      " [1.21339964e-01]\n",
      " [1.11365668e-01]\n",
      " [1.04324989e-01]\n",
      " [1.14522798e-01]\n",
      " [1.31649531e-01]\n",
      " [1.32962673e-01]\n",
      " [1.22513411e-01]\n",
      " [1.36930040e-01]\n",
      " [1.45954403e-01]\n",
      " [1.68529280e-01]\n",
      " [1.72887796e-01]\n",
      " [1.43132544e-01]\n",
      " [1.46848458e-01]\n",
      " [1.19048949e-01]\n",
      " [1.15416853e-01]\n",
      " [1.45283862e-01]\n",
      " [1.42601699e-01]\n",
      " [1.39947474e-01]\n",
      " [1.46401430e-01]\n",
      " [1.45702950e-01]\n",
      " [1.27486589e-01]\n",
      " [1.24385338e-01]\n",
      " [1.47854269e-01]\n",
      " [1.24357398e-01]\n",
      " [1.05442557e-01]\n",
      " [1.56487483e-01]\n",
      " [1.65288333e-01]\n",
      " [1.77358069e-01]\n",
      " [1.67886679e-01]\n",
      " [1.56571301e-01]\n",
      " [1.61628297e-01]\n",
      " [1.75653777e-01]\n",
      " [1.56431605e-01]\n",
      " [1.85683952e-01]\n",
      " [2.02028386e-01]\n",
      " [2.19322754e-01]\n",
      " [2.31504247e-01]\n",
      " [2.63829906e-01]\n",
      " [2.36142155e-01]\n",
      " [2.11583594e-01]\n",
      " [2.52291015e-01]\n",
      " [2.44495977e-01]\n",
      " [2.29716138e-01]\n",
      " [1.53050961e-01]\n",
      " [1.08040903e-01]\n",
      " [1.32767099e-01]\n",
      " [1.78196245e-01]\n",
      " [1.78140367e-01]\n",
      " [1.78922664e-01]\n",
      " [1.44194233e-01]\n",
      " [1.42406124e-01]\n",
      " [2.03173894e-01]\n",
      " [2.18372821e-01]\n",
      " [2.90316272e-01]\n",
      " [2.74921770e-01]\n",
      " [2.74446804e-01]\n",
      " [2.91545597e-01]\n",
      " [2.84197586e-01]\n",
      " [3.54408806e-01]\n",
      " [3.69076889e-01]\n",
      " [4.03972955e-01]\n",
      " [4.54067948e-01]\n",
      " [4.54207644e-01]\n",
      " [4.28391819e-01]\n",
      " [4.41383549e-01]\n",
      " [4.65299508e-01]\n",
      " [4.43171658e-01]\n",
      " [4.35181046e-01]\n",
      " [3.57398301e-01]\n",
      " [3.79805543e-01]\n",
      " [3.96289674e-01]\n",
      " [4.00424676e-01]\n",
      " [3.77877738e-01]\n",
      " [3.89472508e-01]\n",
      " [3.56755700e-01]\n",
      " [4.55213456e-01]\n",
      " [4.99413277e-01]\n",
      " [5.48753911e-01]\n",
      " [5.90411265e-01]\n",
      " [6.52268663e-01]\n",
      " [7.33627626e-01]\n",
      " [6.72971614e-01]\n",
      " [6.80431381e-01]\n",
      " [6.26676352e-01]\n",
      " [6.18238713e-01]\n",
      " [7.51899866e-01]\n",
      " [7.83918194e-01]\n",
      " [8.37729101e-01]\n",
      " [8.83325883e-01]\n",
      " [7.72239607e-01]\n",
      " [7.88975190e-01]\n",
      " [9.83404113e-01]\n",
      " [9.53201833e-01]\n",
      " [9.49988824e-01]\n",
      " [8.50385561e-01]\n",
      " [8.29291462e-01]\n",
      " [8.52341305e-01]\n",
      " [9.62421770e-01]\n",
      " [8.72457532e-01]\n",
      " [8.23983013e-01]\n",
      " [9.83655565e-01]\n",
      " [9.39371927e-01]\n",
      " [9.20932052e-01]\n",
      " [1.00000000e+00]\n",
      " [9.31548949e-01]\n",
      " [4.84661377e-01]\n",
      " [4.97513411e-01]\n",
      " [4.46105275e-01]\n",
      " [4.79911712e-01]\n",
      " [5.14975414e-01]\n",
      " [6.18071077e-01]\n",
      " [7.40584488e-01]\n",
      " [4.41495306e-01]\n",
      " [3.85477202e-01]\n",
      " [2.75815825e-01]\n",
      " [2.27201609e-01]\n",
      " [1.38354940e-01]\n",
      " [8.79246759e-02]\n",
      " [1.68948368e-01]\n",
      " [1.62941439e-01]\n",
      " [1.03291238e-01]\n",
      " [8.16383549e-02]\n",
      " [6.86466249e-02]\n",
      " [3.48401878e-02]\n",
      " [5.02067501e-02]\n",
      " [4.71334376e-02]\n",
      " [4.36410371e-02]\n",
      " [5.50402325e-03]\n",
      " [1.22653107e-02]\n",
      " [8.85672776e-03]\n",
      " [6.81716585e-03]\n",
      " [1.31034868e-02]]\n"
     ]
    }
   ],
   "source": [
    "from sklearn.preprocessing import MinMaxScaler\n",
    "scaler=MinMaxScaler(feature_range=(0,1))\n",
    "df1=scaler.fit_transform(np.array(df1).reshape(-1,1))\n",
    "\n",
    "print(df1)"
   ]
  },
  {
   "cell_type": "code",
   "execution_count": 8,
   "id": "opened-painting",
   "metadata": {
    "execution": {
     "iopub.execute_input": "2021-06-29T11:33:29.387983Z",
     "iopub.status.busy": "2021-06-29T11:33:29.386988Z",
     "iopub.status.idle": "2021-06-29T11:33:29.393596Z",
     "shell.execute_reply": "2021-06-29T11:33:29.392993Z",
     "shell.execute_reply.started": "2021-06-29T11:22:01.021936Z"
    },
    "papermill": {
     "duration": 0.036671,
     "end_time": "2021-06-29T11:33:29.393765",
     "exception": false,
     "start_time": "2021-06-29T11:33:29.357094",
     "status": "completed"
    },
    "tags": []
   },
   "outputs": [],
   "source": [
    "training_size=int(len(df1)*0.65)\n",
    "test_size=len(df1)-training_size\n",
    "train_data,test_data=df1[0:training_size,:],df1[training_size:len(df1),:1]"
   ]
  },
  {
   "cell_type": "code",
   "execution_count": 9,
   "id": "professional-platform",
   "metadata": {
    "execution": {
     "iopub.execute_input": "2021-06-29T11:33:29.448774Z",
     "iopub.status.busy": "2021-06-29T11:33:29.447793Z",
     "iopub.status.idle": "2021-06-29T11:33:29.452475Z",
     "shell.execute_reply": "2021-06-29T11:33:29.451992Z",
     "shell.execute_reply.started": "2021-06-29T11:22:17.213436Z"
    },
    "papermill": {
     "duration": 0.031205,
     "end_time": "2021-06-29T11:33:29.452609",
     "exception": false,
     "start_time": "2021-06-29T11:33:29.421404",
     "status": "completed"
    },
    "tags": []
   },
   "outputs": [
    {
     "data": {
      "text/plain": [
       "(120, 65)"
      ]
     },
     "execution_count": 9,
     "metadata": {},
     "output_type": "execute_result"
    }
   ],
   "source": [
    "training_size,test_size"
   ]
  },
  {
   "cell_type": "code",
   "execution_count": 10,
   "id": "statistical-turtle",
   "metadata": {
    "execution": {
     "iopub.execute_input": "2021-06-29T11:33:29.506152Z",
     "iopub.status.busy": "2021-06-29T11:33:29.505418Z",
     "iopub.status.idle": "2021-06-29T11:33:29.509497Z",
     "shell.execute_reply": "2021-06-29T11:33:29.510047Z",
     "shell.execute_reply.started": "2021-06-29T11:22:20.912011Z"
    },
    "papermill": {
     "duration": 0.034888,
     "end_time": "2021-06-29T11:33:29.510219",
     "exception": false,
     "start_time": "2021-06-29T11:33:29.475331",
     "status": "completed"
    },
    "tags": []
   },
   "outputs": [
    {
     "data": {
      "text/plain": [
       "array([[0.00692892],\n",
       "       [0.00961109],\n",
       "       [0.00927582],\n",
       "       [0.0084097 ],\n",
       "       [0.00958315],\n",
       "       [0.01042132],\n",
       "       [0.01494747],\n",
       "       [0.01715467],\n",
       "       [0.0282186 ],\n",
       "       [0.02657018],\n",
       "       [0.02249106],\n",
       "       [0.01575771],\n",
       "       [0.01726643],\n",
       "       [0.02196021],\n",
       "       [0.02369245],\n",
       "       [0.03576218],\n",
       "       [0.04285874],\n",
       "       [0.04746871],\n",
       "       [0.05638131],\n",
       "       [0.05210662],\n",
       "       [0.05073759],\n",
       "       [0.0568004 ],\n",
       "       [0.06574095],\n",
       "       [0.07264193],\n",
       "       [0.07809008],\n",
       "       [0.07546379],\n",
       "       [0.08767322],\n",
       "       [0.09359633],\n",
       "       [0.10113992],\n",
       "       [0.11128185],\n",
       "       [0.11332141],\n",
       "       [0.11019222],\n",
       "       [0.06641149],\n",
       "       [0.0672776 ],\n",
       "       [0.05909142],\n",
       "       [0.03595776],\n",
       "       [0.04322195],\n",
       "       [0.04707756],\n",
       "       [0.03953397],\n",
       "       [0.01005811],\n",
       "       [0.00637014],\n",
       "       [0.0141093 ],\n",
       "       [0.00631426],\n",
       "       [0.0007823 ],\n",
       "       [0.        ],\n",
       "       [0.01528274],\n",
       "       [0.04229996],\n",
       "       [0.05504023],\n",
       "       [0.06132655],\n",
       "       [0.06557331],\n",
       "       [0.08663947],\n",
       "       [0.10429705],\n",
       "       [0.11340523],\n",
       "       [0.12133996],\n",
       "       [0.11136567],\n",
       "       [0.10432499],\n",
       "       [0.1145228 ],\n",
       "       [0.13164953],\n",
       "       [0.13296267],\n",
       "       [0.12251341],\n",
       "       [0.13693004],\n",
       "       [0.1459544 ],\n",
       "       [0.16852928],\n",
       "       [0.1728878 ],\n",
       "       [0.14313254],\n",
       "       [0.14684846],\n",
       "       [0.11904895],\n",
       "       [0.11541685],\n",
       "       [0.14528386],\n",
       "       [0.1426017 ],\n",
       "       [0.13994747],\n",
       "       [0.14640143],\n",
       "       [0.14570295],\n",
       "       [0.12748659],\n",
       "       [0.12438534],\n",
       "       [0.14785427],\n",
       "       [0.1243574 ],\n",
       "       [0.10544256],\n",
       "       [0.15648748],\n",
       "       [0.16528833],\n",
       "       [0.17735807],\n",
       "       [0.16788668],\n",
       "       [0.1565713 ],\n",
       "       [0.1616283 ],\n",
       "       [0.17565378],\n",
       "       [0.1564316 ],\n",
       "       [0.18568395],\n",
       "       [0.20202839],\n",
       "       [0.21932275],\n",
       "       [0.23150425],\n",
       "       [0.26382991],\n",
       "       [0.23614215],\n",
       "       [0.21158359],\n",
       "       [0.25229101],\n",
       "       [0.24449598],\n",
       "       [0.22971614],\n",
       "       [0.15305096],\n",
       "       [0.1080409 ],\n",
       "       [0.1327671 ],\n",
       "       [0.17819624],\n",
       "       [0.17814037],\n",
       "       [0.17892266],\n",
       "       [0.14419423],\n",
       "       [0.14240612],\n",
       "       [0.20317389],\n",
       "       [0.21837282],\n",
       "       [0.29031627],\n",
       "       [0.27492177],\n",
       "       [0.2744468 ],\n",
       "       [0.2915456 ],\n",
       "       [0.28419759],\n",
       "       [0.35440881],\n",
       "       [0.36907689],\n",
       "       [0.40397295],\n",
       "       [0.45406795],\n",
       "       [0.45420764],\n",
       "       [0.42839182],\n",
       "       [0.44138355],\n",
       "       [0.46529951],\n",
       "       [0.44317166]])"
      ]
     },
     "execution_count": 10,
     "metadata": {},
     "output_type": "execute_result"
    }
   ],
   "source": [
    "train_data"
   ]
  },
  {
   "cell_type": "code",
   "execution_count": 11,
   "id": "congressional-dispatch",
   "metadata": {
    "execution": {
     "iopub.execute_input": "2021-06-29T11:33:29.561147Z",
     "iopub.status.busy": "2021-06-29T11:33:29.560538Z",
     "iopub.status.idle": "2021-06-29T11:33:29.566174Z",
     "shell.execute_reply": "2021-06-29T11:33:29.566672Z",
     "shell.execute_reply.started": "2021-06-29T11:26:10.209047Z"
    },
    "papermill": {
     "duration": 0.031514,
     "end_time": "2021-06-29T11:33:29.566876",
     "exception": false,
     "start_time": "2021-06-29T11:33:29.535362",
     "status": "completed"
    },
    "tags": []
   },
   "outputs": [],
   "source": [
    "import numpy\n",
    "def create_dataset(dataset, time_step=1):\n",
    "\tdataX, dataY = [], []\n",
    "\tfor i in range(len(dataset)-time_step-1):\n",
    "\t\ta = dataset[i:(i+time_step), 0]  \n",
    "\t\tdataX.append(a)\n",
    "\t\tdataY.append(dataset[i + time_step, 0])\n",
    "\treturn numpy.array(dataX), numpy.array(dataY)"
   ]
  },
  {
   "cell_type": "code",
   "execution_count": 12,
   "id": "intended-hardware",
   "metadata": {
    "execution": {
     "iopub.execute_input": "2021-06-29T11:33:29.625599Z",
     "iopub.status.busy": "2021-06-29T11:33:29.621941Z",
     "iopub.status.idle": "2021-06-29T11:33:29.629135Z",
     "shell.execute_reply": "2021-06-29T11:33:29.628416Z",
     "shell.execute_reply.started": "2021-06-29T11:28:28.813541Z"
    },
    "papermill": {
     "duration": 0.036648,
     "end_time": "2021-06-29T11:33:29.629312",
     "exception": false,
     "start_time": "2021-06-29T11:33:29.592664",
     "status": "completed"
    },
    "tags": []
   },
   "outputs": [],
   "source": [
    "time_step = 50\n",
    "X_train, y_train = create_dataset(train_data, time_step)\n",
    "X_test, ytest = create_dataset(test_data, time_step)"
   ]
  },
  {
   "cell_type": "code",
   "execution_count": 13,
   "id": "emotional-pavilion",
   "metadata": {
    "execution": {
     "iopub.execute_input": "2021-06-29T11:33:29.681158Z",
     "iopub.status.busy": "2021-06-29T11:33:29.680204Z",
     "iopub.status.idle": "2021-06-29T11:33:29.688819Z",
     "shell.execute_reply": "2021-06-29T11:33:29.687990Z",
     "shell.execute_reply.started": "2021-06-29T11:28:30.362808Z"
    },
    "papermill": {
     "duration": 0.034944,
     "end_time": "2021-06-29T11:33:29.688966",
     "exception": false,
     "start_time": "2021-06-29T11:33:29.654022",
     "status": "completed"
    },
    "tags": []
   },
   "outputs": [
    {
     "name": "stdout",
     "output_type": "stream",
     "text": [
      "(69, 50)\n",
      "(69,)\n"
     ]
    },
    {
     "data": {
      "text/plain": [
       "(None, None)"
      ]
     },
     "execution_count": 13,
     "metadata": {},
     "output_type": "execute_result"
    }
   ],
   "source": [
    "print(X_train.shape), print(y_train.shape)"
   ]
  },
  {
   "cell_type": "code",
   "execution_count": 14,
   "id": "juvenile-ethnic",
   "metadata": {
    "execution": {
     "iopub.execute_input": "2021-06-29T11:33:29.744022Z",
     "iopub.status.busy": "2021-06-29T11:33:29.743040Z",
     "iopub.status.idle": "2021-06-29T11:33:29.748541Z",
     "shell.execute_reply": "2021-06-29T11:33:29.748048Z",
     "shell.execute_reply.started": "2021-06-29T11:28:31.728009Z"
    },
    "papermill": {
     "duration": 0.033881,
     "end_time": "2021-06-29T11:33:29.748695",
     "exception": false,
     "start_time": "2021-06-29T11:33:29.714814",
     "status": "completed"
    },
    "tags": []
   },
   "outputs": [
    {
     "name": "stdout",
     "output_type": "stream",
     "text": [
      "(14, 50)\n",
      "(14,)\n"
     ]
    },
    {
     "data": {
      "text/plain": [
       "(None, None)"
      ]
     },
     "execution_count": 14,
     "metadata": {},
     "output_type": "execute_result"
    }
   ],
   "source": [
    "print(X_test.shape), print(ytest.shape)"
   ]
  },
  {
   "cell_type": "code",
   "execution_count": 15,
   "id": "shared-smart",
   "metadata": {
    "execution": {
     "iopub.execute_input": "2021-06-29T11:33:29.802029Z",
     "iopub.status.busy": "2021-06-29T11:33:29.801387Z",
     "iopub.status.idle": "2021-06-29T11:33:29.804210Z",
     "shell.execute_reply": "2021-06-29T11:33:29.803573Z",
     "shell.execute_reply.started": "2021-06-29T11:28:34.537637Z"
    },
    "papermill": {
     "duration": 0.031988,
     "end_time": "2021-06-29T11:33:29.804345",
     "exception": false,
     "start_time": "2021-06-29T11:33:29.772357",
     "status": "completed"
    },
    "tags": []
   },
   "outputs": [],
   "source": [
    "X_train =X_train.reshape(X_train.shape[0],X_train.shape[1] , 1)\n",
    "X_test = X_test.reshape(X_test.shape[0],X_test.shape[1] , 1)"
   ]
  },
  {
   "cell_type": "code",
   "execution_count": 16,
   "id": "unlike-cycle",
   "metadata": {
    "execution": {
     "iopub.execute_input": "2021-06-29T11:33:29.855403Z",
     "iopub.status.busy": "2021-06-29T11:33:29.854796Z",
     "iopub.status.idle": "2021-06-29T11:33:35.206554Z",
     "shell.execute_reply": "2021-06-29T11:33:35.205875Z",
     "shell.execute_reply.started": "2021-06-29T11:28:58.544182Z"
    },
    "papermill": {
     "duration": 5.378625,
     "end_time": "2021-06-29T11:33:35.206738",
     "exception": false,
     "start_time": "2021-06-29T11:33:29.828113",
     "status": "completed"
    },
    "tags": []
   },
   "outputs": [],
   "source": [
    "from tensorflow.keras.models import Sequential\n",
    "from tensorflow.keras.layers import Dense\n",
    "from tensorflow.keras.layers import LSTM"
   ]
  },
  {
   "cell_type": "code",
   "execution_count": 17,
   "id": "abstract-florence",
   "metadata": {
    "execution": {
     "iopub.execute_input": "2021-06-29T11:33:35.261993Z",
     "iopub.status.busy": "2021-06-29T11:33:35.261354Z",
     "iopub.status.idle": "2021-06-29T11:33:36.301477Z",
     "shell.execute_reply": "2021-06-29T11:33:36.300974Z",
     "shell.execute_reply.started": "2021-06-29T11:29:17.563672Z"
    },
    "papermill": {
     "duration": 1.07107,
     "end_time": "2021-06-29T11:33:36.301614",
     "exception": false,
     "start_time": "2021-06-29T11:33:35.230544",
     "status": "completed"
    },
    "tags": []
   },
   "outputs": [
    {
     "name": "stdout",
     "output_type": "stream",
     "text": [
      "Model: \"sequential\"\n",
      "_________________________________________________________________\n",
      "Layer (type)                 Output Shape              Param #   \n",
      "=================================================================\n",
      "lstm (LSTM)                  (None, 100, 50)           10400     \n",
      "_________________________________________________________________\n",
      "lstm_1 (LSTM)                (None, 100, 50)           20200     \n",
      "_________________________________________________________________\n",
      "lstm_2 (LSTM)                (None, 50)                20200     \n",
      "_________________________________________________________________\n",
      "dense (Dense)                (None, 1)                 51        \n",
      "=================================================================\n",
      "Total params: 50,851\n",
      "Trainable params: 50,851\n",
      "Non-trainable params: 0\n",
      "_________________________________________________________________\n"
     ]
    }
   ],
   "source": [
    "model=Sequential()\n",
    "model.add(LSTM(50,return_sequences=True,input_shape=(100,1)))\n",
    "model.add(LSTM(50,return_sequences=True))\n",
    "model.add(LSTM(50))\n",
    "model.add(Dense(1))\n",
    "model.compile(loss='mean_squared_error',optimizer='adam')\n",
    "\n",
    "model.summary()"
   ]
  },
  {
   "cell_type": "code",
   "execution_count": 18,
   "id": "skilled-given",
   "metadata": {
    "execution": {
     "iopub.execute_input": "2021-06-29T11:33:36.352980Z",
     "iopub.status.busy": "2021-06-29T11:33:36.352326Z",
     "iopub.status.idle": "2021-06-29T11:34:04.768547Z",
     "shell.execute_reply": "2021-06-29T11:34:04.767954Z",
     "shell.execute_reply.started": "2021-06-29T11:29:44.343358Z"
    },
    "papermill": {
     "duration": 28.44307,
     "end_time": "2021-06-29T11:34:04.768715",
     "exception": false,
     "start_time": "2021-06-29T11:33:36.325645",
     "status": "completed"
    },
    "tags": []
   },
   "outputs": [
    {
     "name": "stdout",
     "output_type": "stream",
     "text": [
      "Epoch 1/100\n",
      "2/2 [==============================] - 6s 2s/step - loss: 0.0579 - val_loss: 0.0027\n",
      "Epoch 2/100\n",
      "2/2 [==============================] - 0s 121ms/step - loss: 0.0358 - val_loss: 0.0101\n",
      "Epoch 3/100\n",
      "2/2 [==============================] - 0s 117ms/step - loss: 0.0189 - val_loss: 0.0838\n",
      "Epoch 4/100\n",
      "2/2 [==============================] - 0s 118ms/step - loss: 0.0064 - val_loss: 0.3718\n",
      "Epoch 5/100\n",
      "2/2 [==============================] - 0s 125ms/step - loss: 0.0141 - val_loss: 0.3098\n",
      "Epoch 6/100\n",
      "2/2 [==============================] - 0s 129ms/step - loss: 0.0110 - val_loss: 0.1485\n",
      "Epoch 7/100\n",
      "2/2 [==============================] - 0s 120ms/step - loss: 0.0054 - val_loss: 0.0717\n",
      "Epoch 8/100\n",
      "2/2 [==============================] - 0s 142ms/step - loss: 0.0067 - val_loss: 0.0429\n",
      "Epoch 9/100\n",
      "2/2 [==============================] - 0s 149ms/step - loss: 0.0091 - val_loss: 0.0364\n",
      "Epoch 10/100\n",
      "2/2 [==============================] - 0s 135ms/step - loss: 0.0096 - val_loss: 0.0423\n",
      "Epoch 11/100\n",
      "2/2 [==============================] - 0s 135ms/step - loss: 0.0087 - val_loss: 0.0573\n",
      "Epoch 12/100\n",
      "2/2 [==============================] - 0s 130ms/step - loss: 0.0066 - val_loss: 0.0816\n",
      "Epoch 13/100\n",
      "2/2 [==============================] - 0s 124ms/step - loss: 0.0055 - val_loss: 0.1151\n",
      "Epoch 14/100\n",
      "2/2 [==============================] - 0s 127ms/step - loss: 0.0057 - val_loss: 0.1486\n",
      "Epoch 15/100\n",
      "2/2 [==============================] - 0s 123ms/step - loss: 0.0067 - val_loss: 0.1715\n",
      "Epoch 16/100\n",
      "2/2 [==============================] - 0s 122ms/step - loss: 0.0074 - val_loss: 0.1669\n",
      "Epoch 17/100\n",
      "2/2 [==============================] - 0s 128ms/step - loss: 0.0066 - val_loss: 0.1367\n",
      "Epoch 18/100\n",
      "2/2 [==============================] - 0s 122ms/step - loss: 0.0053 - val_loss: 0.1065\n",
      "Epoch 19/100\n",
      "2/2 [==============================] - 0s 115ms/step - loss: 0.0050 - val_loss: 0.0904\n",
      "Epoch 20/100\n",
      "2/2 [==============================] - 0s 118ms/step - loss: 0.0056 - val_loss: 0.0908\n",
      "Epoch 21/100\n",
      "2/2 [==============================] - 0s 129ms/step - loss: 0.0055 - val_loss: 0.1067\n",
      "Epoch 22/100\n",
      "2/2 [==============================] - 0s 118ms/step - loss: 0.0051 - val_loss: 0.1421\n",
      "Epoch 23/100\n",
      "2/2 [==============================] - 0s 123ms/step - loss: 0.0046 - val_loss: 0.1853\n",
      "Epoch 24/100\n",
      "2/2 [==============================] - 0s 114ms/step - loss: 0.0044 - val_loss: 0.2158\n",
      "Epoch 25/100\n",
      "2/2 [==============================] - 0s 128ms/step - loss: 0.0042 - val_loss: 0.2267\n",
      "Epoch 26/100\n",
      "2/2 [==============================] - 0s 120ms/step - loss: 0.0039 - val_loss: 0.2376\n",
      "Epoch 27/100\n",
      "2/2 [==============================] - 0s 119ms/step - loss: 0.0039 - val_loss: 0.2605\n",
      "Epoch 28/100\n",
      "2/2 [==============================] - 0s 121ms/step - loss: 0.0038 - val_loss: 0.2962\n",
      "Epoch 29/100\n",
      "2/2 [==============================] - 0s 122ms/step - loss: 0.0038 - val_loss: 0.3327\n",
      "Epoch 30/100\n",
      "2/2 [==============================] - 0s 123ms/step - loss: 0.0037 - val_loss: 0.3717\n",
      "Epoch 31/100\n",
      "2/2 [==============================] - 0s 122ms/step - loss: 0.0037 - val_loss: 0.4849\n",
      "Epoch 32/100\n",
      "2/2 [==============================] - 0s 122ms/step - loss: 0.0037 - val_loss: 0.6458\n",
      "Epoch 33/100\n",
      "2/2 [==============================] - 0s 126ms/step - loss: 0.0042 - val_loss: 0.7605\n",
      "Epoch 34/100\n",
      "2/2 [==============================] - 0s 126ms/step - loss: 0.0044 - val_loss: 0.7452\n",
      "Epoch 35/100\n",
      "2/2 [==============================] - 0s 121ms/step - loss: 0.0040 - val_loss: 0.7319\n",
      "Epoch 36/100\n",
      "2/2 [==============================] - 0s 127ms/step - loss: 0.0037 - val_loss: 0.8036\n",
      "Epoch 37/100\n",
      "2/2 [==============================] - 0s 124ms/step - loss: 0.0038 - val_loss: 0.7683\n",
      "Epoch 38/100\n",
      "2/2 [==============================] - 0s 128ms/step - loss: 0.0039 - val_loss: 0.6890\n",
      "Epoch 39/100\n",
      "2/2 [==============================] - 0s 124ms/step - loss: 0.0039 - val_loss: 0.6219\n",
      "Epoch 40/100\n",
      "2/2 [==============================] - 0s 121ms/step - loss: 0.0039 - val_loss: 0.5226\n",
      "Epoch 41/100\n",
      "2/2 [==============================] - 0s 125ms/step - loss: 0.0042 - val_loss: 0.4422\n",
      "Epoch 42/100\n",
      "2/2 [==============================] - 0s 124ms/step - loss: 0.0042 - val_loss: 0.4365\n",
      "Epoch 43/100\n",
      "2/2 [==============================] - 0s 126ms/step - loss: 0.0038 - val_loss: 0.4610\n",
      "Epoch 44/100\n",
      "2/2 [==============================] - 0s 124ms/step - loss: 0.0033 - val_loss: 0.5554\n",
      "Epoch 45/100\n",
      "2/2 [==============================] - 0s 122ms/step - loss: 0.0037 - val_loss: 0.7353\n",
      "Epoch 46/100\n",
      "2/2 [==============================] - 0s 121ms/step - loss: 0.0051 - val_loss: 0.7602\n",
      "Epoch 47/100\n",
      "2/2 [==============================] - 0s 122ms/step - loss: 0.0049 - val_loss: 0.6198\n",
      "Epoch 48/100\n",
      "2/2 [==============================] - 0s 118ms/step - loss: 0.0036 - val_loss: 0.5072\n",
      "Epoch 49/100\n",
      "2/2 [==============================] - 0s 127ms/step - loss: 0.0036 - val_loss: 0.5114\n",
      "Epoch 50/100\n",
      "2/2 [==============================] - 0s 128ms/step - loss: 0.0039 - val_loss: 0.5934\n",
      "Epoch 51/100\n",
      "2/2 [==============================] - 0s 125ms/step - loss: 0.0037 - val_loss: 0.7477\n",
      "Epoch 52/100\n",
      "2/2 [==============================] - 0s 124ms/step - loss: 0.0034 - val_loss: 1.0326\n",
      "Epoch 53/100\n",
      "2/2 [==============================] - 0s 125ms/step - loss: 0.0033 - val_loss: 1.4078\n",
      "Epoch 54/100\n",
      "2/2 [==============================] - 0s 120ms/step - loss: 0.0038 - val_loss: 1.5562\n",
      "Epoch 55/100\n",
      "2/2 [==============================] - 0s 130ms/step - loss: 0.0037 - val_loss: 1.2616\n",
      "Epoch 56/100\n",
      "2/2 [==============================] - 0s 117ms/step - loss: 0.0032 - val_loss: 0.9214\n",
      "Epoch 57/100\n",
      "2/2 [==============================] - 0s 125ms/step - loss: 0.0042 - val_loss: 0.8606\n",
      "Epoch 58/100\n",
      "2/2 [==============================] - 0s 120ms/step - loss: 0.0044 - val_loss: 1.1085\n",
      "Epoch 59/100\n",
      "2/2 [==============================] - 0s 127ms/step - loss: 0.0034 - val_loss: 1.5308\n",
      "Epoch 60/100\n",
      "2/2 [==============================] - 0s 118ms/step - loss: 0.0033 - val_loss: 1.5793\n",
      "Epoch 61/100\n",
      "2/2 [==============================] - 0s 124ms/step - loss: 0.0035 - val_loss: 1.1724\n",
      "Epoch 62/100\n",
      "2/2 [==============================] - 0s 125ms/step - loss: 0.0029 - val_loss: 0.8532\n",
      "Epoch 63/100\n",
      "2/2 [==============================] - 0s 118ms/step - loss: 0.0034 - val_loss: 0.7602\n",
      "Epoch 64/100\n",
      "2/2 [==============================] - 0s 125ms/step - loss: 0.0036 - val_loss: 0.8881\n",
      "Epoch 65/100\n",
      "2/2 [==============================] - 0s 122ms/step - loss: 0.0033 - val_loss: 1.1167\n",
      "Epoch 66/100\n",
      "2/2 [==============================] - 0s 127ms/step - loss: 0.0031 - val_loss: 1.3370\n",
      "Epoch 67/100\n",
      "2/2 [==============================] - 0s 119ms/step - loss: 0.0031 - val_loss: 1.5309\n",
      "Epoch 68/100\n",
      "2/2 [==============================] - 0s 120ms/step - loss: 0.0032 - val_loss: 1.6099\n",
      "Epoch 69/100\n",
      "2/2 [==============================] - 0s 126ms/step - loss: 0.0031 - val_loss: 1.6056\n",
      "Epoch 70/100\n",
      "2/2 [==============================] - 0s 125ms/step - loss: 0.0028 - val_loss: 1.8834\n",
      "Epoch 71/100\n",
      "2/2 [==============================] - 0s 120ms/step - loss: 0.0029 - val_loss: 2.5484\n",
      "Epoch 72/100\n",
      "2/2 [==============================] - 0s 128ms/step - loss: 0.0029 - val_loss: 3.2695\n",
      "Epoch 73/100\n",
      "2/2 [==============================] - 0s 124ms/step - loss: 0.0029 - val_loss: 3.6982\n",
      "Epoch 74/100\n",
      "2/2 [==============================] - 0s 122ms/step - loss: 0.0029 - val_loss: 3.9426\n",
      "Epoch 75/100\n",
      "2/2 [==============================] - 0s 121ms/step - loss: 0.0028 - val_loss: 4.2191\n",
      "Epoch 76/100\n",
      "2/2 [==============================] - 0s 132ms/step - loss: 0.0027 - val_loss: 3.9286\n",
      "Epoch 77/100\n",
      "2/2 [==============================] - 0s 128ms/step - loss: 0.0026 - val_loss: 3.2754\n",
      "Epoch 78/100\n",
      "2/2 [==============================] - 0s 123ms/step - loss: 0.0033 - val_loss: 2.9439\n",
      "Epoch 79/100\n",
      "2/2 [==============================] - 0s 125ms/step - loss: 0.0037 - val_loss: 3.2334\n",
      "Epoch 80/100\n",
      "2/2 [==============================] - 0s 124ms/step - loss: 0.0033 - val_loss: 3.9541\n",
      "Epoch 81/100\n",
      "2/2 [==============================] - 0s 127ms/step - loss: 0.0026 - val_loss: 4.5399\n",
      "Epoch 82/100\n",
      "2/2 [==============================] - 0s 124ms/step - loss: 0.0026 - val_loss: 4.6244\n",
      "Epoch 83/100\n",
      "2/2 [==============================] - 0s 125ms/step - loss: 0.0026 - val_loss: 4.8826\n",
      "Epoch 84/100\n",
      "2/2 [==============================] - 0s 120ms/step - loss: 0.0026 - val_loss: 5.2770\n",
      "Epoch 85/100\n",
      "2/2 [==============================] - 0s 114ms/step - loss: 0.0025 - val_loss: 5.2246\n",
      "Epoch 86/100\n",
      "2/2 [==============================] - 0s 123ms/step - loss: 0.0024 - val_loss: 4.8525\n",
      "Epoch 87/100\n",
      "2/2 [==============================] - 0s 119ms/step - loss: 0.0025 - val_loss: 4.9292\n",
      "Epoch 88/100\n",
      "2/2 [==============================] - 0s 124ms/step - loss: 0.0025 - val_loss: 5.9834\n",
      "Epoch 89/100\n",
      "2/2 [==============================] - 0s 119ms/step - loss: 0.0022 - val_loss: 6.6538\n",
      "Epoch 90/100\n",
      "2/2 [==============================] - 0s 119ms/step - loss: 0.0022 - val_loss: 5.4186\n",
      "Epoch 91/100\n",
      "2/2 [==============================] - 0s 124ms/step - loss: 0.0024 - val_loss: 4.1997\n",
      "Epoch 92/100\n",
      "2/2 [==============================] - 0s 114ms/step - loss: 0.0031 - val_loss: 3.8490\n",
      "Epoch 93/100\n",
      "2/2 [==============================] - 0s 117ms/step - loss: 0.0032 - val_loss: 3.8480\n",
      "Epoch 94/100\n",
      "2/2 [==============================] - 0s 118ms/step - loss: 0.0027 - val_loss: 4.2027\n",
      "Epoch 95/100\n",
      "2/2 [==============================] - 0s 119ms/step - loss: 0.0023 - val_loss: 4.6628\n",
      "Epoch 96/100\n",
      "2/2 [==============================] - 0s 120ms/step - loss: 0.0020 - val_loss: 4.9486\n",
      "Epoch 97/100\n",
      "2/2 [==============================] - 0s 120ms/step - loss: 0.0019 - val_loss: 5.2978\n",
      "Epoch 98/100\n",
      "2/2 [==============================] - 0s 113ms/step - loss: 0.0019 - val_loss: 5.5674\n",
      "Epoch 99/100\n",
      "2/2 [==============================] - 0s 142ms/step - loss: 0.0021 - val_loss: 5.2020\n",
      "Epoch 100/100\n",
      "2/2 [==============================] - 0s 119ms/step - loss: 0.0019 - val_loss: 3.7051\n"
     ]
    },
    {
     "data": {
      "text/plain": [
       "<tensorflow.python.keras.callbacks.History at 0x7f3eca7a90d0>"
      ]
     },
     "execution_count": 18,
     "metadata": {},
     "output_type": "execute_result"
    }
   ],
   "source": [
    "model.fit(X_train,y_train,validation_data=(X_test,ytest),epochs=100,batch_size=64,verbose=1)"
   ]
  },
  {
   "cell_type": "code",
   "execution_count": 19,
   "id": "wired-turkish",
   "metadata": {
    "execution": {
     "iopub.execute_input": "2021-06-29T11:34:05.056266Z",
     "iopub.status.busy": "2021-06-29T11:34:05.055559Z",
     "iopub.status.idle": "2021-06-29T11:34:06.160103Z",
     "shell.execute_reply": "2021-06-29T11:34:06.159435Z",
     "shell.execute_reply.started": "2021-06-29T11:30:28.604661Z"
    },
    "papermill": {
     "duration": 1.247541,
     "end_time": "2021-06-29T11:34:06.160250",
     "exception": false,
     "start_time": "2021-06-29T11:34:04.912709",
     "status": "completed"
    },
    "tags": []
   },
   "outputs": [
    {
     "data": {
      "text/plain": [
       "array([[789.6538 ],\n",
       "       [778.13617],\n",
       "       [767.22095],\n",
       "       [756.8255 ],\n",
       "       [746.6129 ],\n",
       "       [736.59485],\n",
       "       [726.683  ],\n",
       "       [716.5037 ],\n",
       "       [706.19714],\n",
       "       [695.4994 ],\n",
       "       [684.58765],\n",
       "       [673.4393 ],\n",
       "       [662.64056],\n",
       "       [652.5072 ]], dtype=float32)"
      ]
     },
     "execution_count": 19,
     "metadata": {},
     "output_type": "execute_result"
    }
   ],
   "source": [
    "train_predict=model.predict(X_train)\n",
    "test_predict=model.predict(X_test)\n",
    "\n",
    "train_predict=scaler.inverse_transform(train_predict)\n",
    "test_predict=scaler.inverse_transform(test_predict)\n",
    "\n",
    "test_predict"
   ]
  },
  {
   "cell_type": "code",
   "execution_count": 20,
   "id": "preliminary-personal",
   "metadata": {
    "execution": {
     "iopub.execute_input": "2021-06-29T11:34:06.447439Z",
     "iopub.status.busy": "2021-06-29T11:34:06.446831Z",
     "iopub.status.idle": "2021-06-29T11:34:06.497075Z",
     "shell.execute_reply": "2021-06-29T11:34:06.496489Z",
     "shell.execute_reply.started": "2021-06-29T11:31:02.373612Z"
    },
    "papermill": {
     "duration": 0.196163,
     "end_time": "2021-06-29T11:34:06.497234",
     "exception": false,
     "start_time": "2021-06-29T11:34:06.301071",
     "status": "completed"
    },
    "tags": []
   },
   "outputs": [
    {
     "data": {
      "text/plain": [
       "82.03452543636848"
      ]
     },
     "execution_count": 20,
     "metadata": {},
     "output_type": "execute_result"
    }
   ],
   "source": [
    "import math\n",
    "from sklearn.metrics import mean_squared_error\n",
    "math.sqrt(mean_squared_error(y_train,train_predict))"
   ]
  },
  {
   "cell_type": "code",
   "execution_count": 21,
   "id": "invisible-disposal",
   "metadata": {
    "execution": {
     "iopub.execute_input": "2021-06-29T11:34:06.796645Z",
     "iopub.status.busy": "2021-06-29T11:34:06.796014Z",
     "iopub.status.idle": "2021-06-29T11:34:06.803437Z",
     "shell.execute_reply": "2021-06-29T11:34:06.802959Z",
     "shell.execute_reply.started": "2021-06-29T11:31:11.918614Z"
    },
    "papermill": {
     "duration": 0.150969,
     "end_time": "2021-06-29T11:34:06.803562",
     "exception": false,
     "start_time": "2021-06-29T11:34:06.652593",
     "status": "completed"
    },
    "tags": []
   },
   "outputs": [
    {
     "data": {
      "text/plain": [
       "722.1029524056545"
      ]
     },
     "execution_count": 21,
     "metadata": {},
     "output_type": "execute_result"
    }
   ],
   "source": [
    "math.sqrt(mean_squared_error(ytest,test_predict))"
   ]
  },
  {
   "cell_type": "code",
   "execution_count": null,
   "id": "incorporate-winter",
   "metadata": {
    "papermill": {
     "duration": 0.140238,
     "end_time": "2021-06-29T11:34:07.082069",
     "exception": false,
     "start_time": "2021-06-29T11:34:06.941831",
     "status": "completed"
    },
    "tags": []
   },
   "outputs": [],
   "source": []
  },
  {
   "cell_type": "code",
   "execution_count": null,
   "id": "olive-custody",
   "metadata": {
    "papermill": {
     "duration": 0.139862,
     "end_time": "2021-06-29T11:34:07.363253",
     "exception": false,
     "start_time": "2021-06-29T11:34:07.223391",
     "status": "completed"
    },
    "tags": []
   },
   "outputs": [],
   "source": []
  }
 ],
 "metadata": {
  "kernelspec": {
   "display_name": "Python 3",
   "language": "python",
   "name": "python3"
  },
  "language_info": {
   "codemirror_mode": {
    "name": "ipython",
    "version": 3
   },
   "file_extension": ".py",
   "mimetype": "text/x-python",
   "name": "python",
   "nbconvert_exporter": "python",
   "pygments_lexer": "ipython3",
   "version": "3.7.9"
  },
  "papermill": {
   "default_parameters": {},
   "duration": 47.189023,
   "end_time": "2021-06-29T11:34:08.818219",
   "environment_variables": {},
   "exception": null,
   "input_path": "__notebook__.ipynb",
   "output_path": "__notebook__.ipynb",
   "parameters": {},
   "start_time": "2021-06-29T11:33:21.629196",
   "version": "2.3.2"
  }
 },
 "nbformat": 4,
 "nbformat_minor": 5
}
