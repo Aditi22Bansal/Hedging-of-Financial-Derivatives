{
 "cells": [
  {
   "cell_type": "markdown",
   "metadata": {
    "papermill": {
     "duration": 0.057346,
     "end_time": "2020-11-26T15:07:31.828691",
     "exception": false,
     "start_time": "2020-11-26T15:07:31.771345",
     "status": "completed"
    },
    "tags": []
   },
   "source": [
    "### Importing Necessary Libraries "
   ]
  },
  {
   "cell_type": "code",
   "execution_count": 1,
   "metadata": {
    "_cell_guid": "79c7e3d0-c299-4dcb-8224-4455121ee9b0",
    "_uuid": "d629ff2d2480ee46fbb7e2d37f6b5fab8052498a",
    "papermill": {
     "duration": 1.41943,
     "end_time": "2020-11-26T15:07:33.305809",
     "exception": false,
     "start_time": "2020-11-26T15:07:31.886379",
     "status": "completed"
    },
    "tags": []
   },
   "outputs": [],
   "source": [
    "import pandas as pd\n",
    "import numpy as np\n",
    "%matplotlib inline\n",
    "\n",
    "# Load specific forecasting tools\n",
    "from statsmodels.tsa.statespace.sarimax import SARIMAX, SARIMAXResults\n",
    "from statsmodels.tsa.arima_model import ARMA,ARMAResults,ARIMA,ARIMAResults\n",
    "\n",
    "from statsmodels.graphics.tsaplots import plot_acf,plot_pacf # for determining (p,q) orders\n",
    "from statsmodels.tsa.seasonal import seasonal_decompose      # for ETS Plots\n",
    "                          # for determining ARIMA orders\n",
    "\n",
    "# Ignore harmless warnings\n",
    "import warnings\n",
    "warnings.filterwarnings(\"ignore\")\n"
   ]
  },
  {
   "cell_type": "code",
   "execution_count": 2,
   "metadata": {
    "papermill": {
     "duration": 31.92553,
     "end_time": "2020-11-26T15:08:05.411386",
     "exception": false,
     "start_time": "2020-11-26T15:07:33.485856",
     "status": "completed"
    },
    "tags": []
   },
   "outputs": [
    {
     "name": "stdout",
     "output_type": "stream",
     "text": [
      "Requirement already satisfied: pmdarima in /Users/shikarichacha/anaconda3/lib/python3.11/site-packages (2.0.4)\n",
      "Requirement already satisfied: joblib>=0.11 in /Users/shikarichacha/anaconda3/lib/python3.11/site-packages (from pmdarima) (1.2.0)\n",
      "Requirement already satisfied: Cython!=0.29.18,!=0.29.31,>=0.29 in /Users/shikarichacha/anaconda3/lib/python3.11/site-packages (from pmdarima) (3.0.10)\n",
      "Requirement already satisfied: numpy>=1.21.2 in /Users/shikarichacha/anaconda3/lib/python3.11/site-packages (from pmdarima) (1.24.3)\n",
      "Requirement already satisfied: pandas>=0.19 in /Users/shikarichacha/anaconda3/lib/python3.11/site-packages (from pmdarima) (1.5.3)\n",
      "Requirement already satisfied: scikit-learn>=0.22 in /Users/shikarichacha/anaconda3/lib/python3.11/site-packages (from pmdarima) (1.4.2)\n",
      "Requirement already satisfied: scipy>=1.3.2 in /Users/shikarichacha/anaconda3/lib/python3.11/site-packages (from pmdarima) (1.11.1)\n",
      "Requirement already satisfied: statsmodels>=0.13.2 in /Users/shikarichacha/anaconda3/lib/python3.11/site-packages (from pmdarima) (0.14.0)\n",
      "Requirement already satisfied: urllib3 in /Users/shikarichacha/anaconda3/lib/python3.11/site-packages (from pmdarima) (2.2.1)\n",
      "Requirement already satisfied: setuptools!=50.0.0,>=38.6.0 in /Users/shikarichacha/anaconda3/lib/python3.11/site-packages (from pmdarima) (69.0.3)\n",
      "Requirement already satisfied: packaging>=17.1 in /Users/shikarichacha/anaconda3/lib/python3.11/site-packages (from pmdarima) (23.1)\n",
      "Requirement already satisfied: python-dateutil>=2.8.1 in /Users/shikarichacha/anaconda3/lib/python3.11/site-packages (from pandas>=0.19->pmdarima) (2.8.2)\n",
      "Requirement already satisfied: pytz>=2020.1 in /Users/shikarichacha/anaconda3/lib/python3.11/site-packages (from pandas>=0.19->pmdarima) (2023.3.post1)\n",
      "Requirement already satisfied: threadpoolctl>=2.0.0 in /Users/shikarichacha/anaconda3/lib/python3.11/site-packages (from scikit-learn>=0.22->pmdarima) (3.5.0)\n",
      "Requirement already satisfied: patsy>=0.5.2 in /Users/shikarichacha/anaconda3/lib/python3.11/site-packages (from statsmodels>=0.13.2->pmdarima) (0.5.3)\n",
      "Requirement already satisfied: six in /Users/shikarichacha/anaconda3/lib/python3.11/site-packages (from patsy>=0.5.2->statsmodels>=0.13.2->pmdarima) (1.16.0)\n"
     ]
    }
   ],
   "source": [
    "!pip install pmdarima"
   ]
  },
  {
   "cell_type": "code",
   "execution_count": 3,
   "metadata": {
    "papermill": {
     "duration": 0.895086,
     "end_time": "2020-11-26T15:08:06.381285",
     "exception": false,
     "start_time": "2020-11-26T15:08:05.486199",
     "status": "completed"
    },
    "tags": []
   },
   "outputs": [],
   "source": [
    "from pmdarima import auto_arima"
   ]
  },
  {
   "cell_type": "markdown",
   "metadata": {
    "papermill": {
     "duration": 0.070245,
     "end_time": "2020-11-26T15:08:06.519105",
     "exception": false,
     "start_time": "2020-11-26T15:08:06.448860",
     "status": "completed"
    },
    "tags": []
   },
   "source": [
    "### Reading Data\n",
    "The Data has Opening, Highest, Lowest and the Closing Prices of the Stock in every month. For this analysis, only Closing Stock Prices have been considered. "
   ]
  },
  {
   "cell_type": "code",
   "execution_count": 5,
   "metadata": {
    "papermill": {
     "duration": 0.088948,
     "end_time": "2020-11-26T15:08:06.676713",
     "exception": false,
     "start_time": "2020-11-26T15:08:06.587765",
     "status": "completed"
    },
    "tags": []
   },
   "outputs": [],
   "source": [
    "data = pd.read_csv(\"YesBank_StockPrices.csv\", usecols=[\"Date\", \"Close\"])"
   ]
  },
  {
   "cell_type": "code",
   "execution_count": 6,
   "metadata": {
    "papermill": {
     "duration": 0.094073,
     "end_time": "2020-11-26T15:08:06.839031",
     "exception": false,
     "start_time": "2020-11-26T15:08:06.744958",
     "status": "completed"
    },
    "tags": []
   },
   "outputs": [
    {
     "data": {
      "text/html": [
       "<div>\n",
       "<style scoped>\n",
       "    .dataframe tbody tr th:only-of-type {\n",
       "        vertical-align: middle;\n",
       "    }\n",
       "\n",
       "    .dataframe tbody tr th {\n",
       "        vertical-align: top;\n",
       "    }\n",
       "\n",
       "    .dataframe thead th {\n",
       "        text-align: right;\n",
       "    }\n",
       "</style>\n",
       "<table border=\"1\" class=\"dataframe\">\n",
       "  <thead>\n",
       "    <tr style=\"text-align: right;\">\n",
       "      <th></th>\n",
       "      <th>Date</th>\n",
       "      <th>Close</th>\n",
       "    </tr>\n",
       "  </thead>\n",
       "  <tbody>\n",
       "    <tr>\n",
       "      <th>0</th>\n",
       "      <td>Jul-05</td>\n",
       "      <td>12.46</td>\n",
       "    </tr>\n",
       "    <tr>\n",
       "      <th>1</th>\n",
       "      <td>Aug-05</td>\n",
       "      <td>13.42</td>\n",
       "    </tr>\n",
       "    <tr>\n",
       "      <th>2</th>\n",
       "      <td>Sep-05</td>\n",
       "      <td>13.30</td>\n",
       "    </tr>\n",
       "    <tr>\n",
       "      <th>3</th>\n",
       "      <td>Oct-05</td>\n",
       "      <td>12.99</td>\n",
       "    </tr>\n",
       "    <tr>\n",
       "      <th>4</th>\n",
       "      <td>Nov-05</td>\n",
       "      <td>13.41</td>\n",
       "    </tr>\n",
       "  </tbody>\n",
       "</table>\n",
       "</div>"
      ],
      "text/plain": [
       "     Date  Close\n",
       "0  Jul-05  12.46\n",
       "1  Aug-05  13.42\n",
       "2  Sep-05  13.30\n",
       "3  Oct-05  12.99\n",
       "4  Nov-05  13.41"
      ]
     },
     "execution_count": 6,
     "metadata": {},
     "output_type": "execute_result"
    }
   ],
   "source": [
    "data.head()"
   ]
  },
  {
   "cell_type": "code",
   "execution_count": 7,
   "metadata": {
    "papermill": {
     "duration": 0.090359,
     "end_time": "2020-11-26T15:08:06.997786",
     "exception": false,
     "start_time": "2020-11-26T15:08:06.907427",
     "status": "completed"
    },
    "tags": []
   },
   "outputs": [
    {
     "name": "stdout",
     "output_type": "stream",
     "text": [
      "<class 'pandas.core.frame.DataFrame'>\n",
      "RangeIndex: 185 entries, 0 to 184\n",
      "Data columns (total 2 columns):\n",
      " #   Column  Non-Null Count  Dtype  \n",
      "---  ------  --------------  -----  \n",
      " 0   Date    185 non-null    object \n",
      " 1   Close   185 non-null    float64\n",
      "dtypes: float64(1), object(1)\n",
      "memory usage: 3.0+ KB\n"
     ]
    }
   ],
   "source": [
    "data.info()"
   ]
  },
  {
   "cell_type": "code",
   "execution_count": 8,
   "metadata": {
    "papermill": {
     "duration": 0.082908,
     "end_time": "2020-11-26T15:08:07.289629",
     "exception": false,
     "start_time": "2020-11-26T15:08:07.206721",
     "status": "completed"
    },
    "tags": []
   },
   "outputs": [],
   "source": [
    "from datetime import datetime\n",
    "data['Date'] = data['Date'].apply(lambda x: datetime.strptime(x, '%b-%y'))"
   ]
  },
  {
   "cell_type": "code",
   "execution_count": 9,
   "metadata": {
    "papermill": {
     "duration": 0.090296,
     "end_time": "2020-11-26T15:08:07.451720",
     "exception": false,
     "start_time": "2020-11-26T15:08:07.361424",
     "status": "completed"
    },
    "tags": []
   },
   "outputs": [
    {
     "data": {
      "text/html": [
       "<div>\n",
       "<style scoped>\n",
       "    .dataframe tbody tr th:only-of-type {\n",
       "        vertical-align: middle;\n",
       "    }\n",
       "\n",
       "    .dataframe tbody tr th {\n",
       "        vertical-align: top;\n",
       "    }\n",
       "\n",
       "    .dataframe thead th {\n",
       "        text-align: right;\n",
       "    }\n",
       "</style>\n",
       "<table border=\"1\" class=\"dataframe\">\n",
       "  <thead>\n",
       "    <tr style=\"text-align: right;\">\n",
       "      <th></th>\n",
       "      <th>Date</th>\n",
       "      <th>Close</th>\n",
       "    </tr>\n",
       "  </thead>\n",
       "  <tbody>\n",
       "    <tr>\n",
       "      <th>0</th>\n",
       "      <td>2005-07-01</td>\n",
       "      <td>12.46</td>\n",
       "    </tr>\n",
       "    <tr>\n",
       "      <th>1</th>\n",
       "      <td>2005-08-01</td>\n",
       "      <td>13.42</td>\n",
       "    </tr>\n",
       "    <tr>\n",
       "      <th>2</th>\n",
       "      <td>2005-09-01</td>\n",
       "      <td>13.30</td>\n",
       "    </tr>\n",
       "    <tr>\n",
       "      <th>3</th>\n",
       "      <td>2005-10-01</td>\n",
       "      <td>12.99</td>\n",
       "    </tr>\n",
       "    <tr>\n",
       "      <th>4</th>\n",
       "      <td>2005-11-01</td>\n",
       "      <td>13.41</td>\n",
       "    </tr>\n",
       "  </tbody>\n",
       "</table>\n",
       "</div>"
      ],
      "text/plain": [
       "        Date  Close\n",
       "0 2005-07-01  12.46\n",
       "1 2005-08-01  13.42\n",
       "2 2005-09-01  13.30\n",
       "3 2005-10-01  12.99\n",
       "4 2005-11-01  13.41"
      ]
     },
     "execution_count": 9,
     "metadata": {},
     "output_type": "execute_result"
    }
   ],
   "source": [
    "data.head()"
   ]
  },
  {
   "cell_type": "code",
   "execution_count": 10,
   "metadata": {
    "papermill": {
     "duration": 0.091195,
     "end_time": "2020-11-26T15:08:07.638797",
     "exception": false,
     "start_time": "2020-11-26T15:08:07.547602",
     "status": "completed"
    },
    "tags": []
   },
   "outputs": [
    {
     "data": {
      "text/plain": [
       "Date     datetime64[ns]\n",
       "Close           float64\n",
       "dtype: object"
      ]
     },
     "execution_count": 10,
     "metadata": {},
     "output_type": "execute_result"
    }
   ],
   "source": [
    "data.dtypes"
   ]
  },
  {
   "cell_type": "code",
   "execution_count": 11,
   "metadata": {
    "papermill": {
     "duration": 0.080355,
     "end_time": "2020-11-26T15:08:07.789744",
     "exception": false,
     "start_time": "2020-11-26T15:08:07.709389",
     "status": "completed"
    },
    "tags": []
   },
   "outputs": [],
   "source": [
    "ts = data.set_index('Date')"
   ]
  },
  {
   "cell_type": "code",
   "execution_count": 12,
   "metadata": {
    "papermill": {
     "duration": 0.085514,
     "end_time": "2020-11-26T15:08:07.946077",
     "exception": false,
     "start_time": "2020-11-26T15:08:07.860563",
     "status": "completed"
    },
    "tags": []
   },
   "outputs": [],
   "source": [
    "ts.index.freq = 'MS'"
   ]
  },
  {
   "cell_type": "code",
   "execution_count": 13,
   "metadata": {
    "papermill": {
     "duration": 0.0872,
     "end_time": "2020-11-26T15:08:08.105655",
     "exception": false,
     "start_time": "2020-11-26T15:08:08.018455",
     "status": "completed"
    },
    "tags": []
   },
   "outputs": [
    {
     "data": {
      "text/html": [
       "<div>\n",
       "<style scoped>\n",
       "    .dataframe tbody tr th:only-of-type {\n",
       "        vertical-align: middle;\n",
       "    }\n",
       "\n",
       "    .dataframe tbody tr th {\n",
       "        vertical-align: top;\n",
       "    }\n",
       "\n",
       "    .dataframe thead th {\n",
       "        text-align: right;\n",
       "    }\n",
       "</style>\n",
       "<table border=\"1\" class=\"dataframe\">\n",
       "  <thead>\n",
       "    <tr style=\"text-align: right;\">\n",
       "      <th></th>\n",
       "      <th>Close</th>\n",
       "    </tr>\n",
       "    <tr>\n",
       "      <th>Date</th>\n",
       "      <th></th>\n",
       "    </tr>\n",
       "  </thead>\n",
       "  <tbody>\n",
       "    <tr>\n",
       "      <th>2005-07-01</th>\n",
       "      <td>12.46</td>\n",
       "    </tr>\n",
       "    <tr>\n",
       "      <th>2005-08-01</th>\n",
       "      <td>13.42</td>\n",
       "    </tr>\n",
       "    <tr>\n",
       "      <th>2005-09-01</th>\n",
       "      <td>13.30</td>\n",
       "    </tr>\n",
       "    <tr>\n",
       "      <th>2005-10-01</th>\n",
       "      <td>12.99</td>\n",
       "    </tr>\n",
       "    <tr>\n",
       "      <th>2005-11-01</th>\n",
       "      <td>13.41</td>\n",
       "    </tr>\n",
       "  </tbody>\n",
       "</table>\n",
       "</div>"
      ],
      "text/plain": [
       "            Close\n",
       "Date             \n",
       "2005-07-01  12.46\n",
       "2005-08-01  13.42\n",
       "2005-09-01  13.30\n",
       "2005-10-01  12.99\n",
       "2005-11-01  13.41"
      ]
     },
     "execution_count": 13,
     "metadata": {},
     "output_type": "execute_result"
    }
   ],
   "source": [
    "ts.head()"
   ]
  },
  {
   "cell_type": "code",
   "execution_count": 14,
   "metadata": {
    "papermill": {
     "duration": 0.362311,
     "end_time": "2020-11-26T15:08:08.686571",
     "exception": false,
     "start_time": "2020-11-26T15:08:08.324260",
     "status": "completed"
    },
    "tags": []
   },
   "outputs": [
    {
     "data": {
      "image/png": "[encoded data removed]",
      "text/plain": [
       "<Figure size 1200x600 with 1 Axes>"
      ]
     },
     "metadata": {},
     "output_type": "display_data"
    }
   ],
   "source": [
    "#plotting the data\n",
    "\n",
    "ax = ts['Close'].plot(figsize=(12,6))\n",
    "ax.autoscale(axis='x',tight=True)\n"
   ]
  },
  {
   "cell_type": "code",
   "execution_count": 15,
   "metadata": {
    "papermill": {
     "duration": 0.701838,
     "end_time": "2020-11-26T15:08:09.463328",
     "exception": false,
     "start_time": "2020-11-26T15:08:08.761490",
     "status": "completed"
    },
    "tags": []
   },
   "outputs": [
    {
     "data": {
      "image/png": "[encoded data removed]",
      "text/plain": [
       "<Figure size 640x480 with 4 Axes>"
      ]
     },
     "metadata": {},
     "output_type": "display_data"
    }
   ],
   "source": [
    "#TS Decomposition\n",
    "result = seasonal_decompose(ts['Close'], model='add')\n",
    "result.plot();"
   ]
  },
  {
   "cell_type": "code",
   "execution_count": 16,
   "metadata": {
    "papermill": {
     "duration": 0.085343,
     "end_time": "2020-11-26T15:08:09.773090",
     "exception": false,
     "start_time": "2020-11-26T15:08:09.687747",
     "status": "completed"
    },
    "tags": []
   },
   "outputs": [
    {
     "data": {
      "text/plain": [
       "185"
      ]
     },
     "execution_count": 16,
     "metadata": {},
     "output_type": "execute_result"
    }
   ],
   "source": [
    "len(ts)"
   ]
  },
  {
   "cell_type": "code",
   "execution_count": 17,
   "metadata": {
    "papermill": {
     "duration": 0.085392,
     "end_time": "2020-11-26T15:08:09.935155",
     "exception": false,
     "start_time": "2020-11-26T15:08:09.849763",
     "status": "completed"
    },
    "tags": []
   },
   "outputs": [],
   "source": [
    "# Set two years for testing\n",
    "train = ts.iloc[:162]\n",
    "test = ts.iloc[162:]"
   ]
  },
  {
   "cell_type": "code",
   "execution_count": 18,
   "metadata": {
    "papermill": {
     "duration": 0.095103,
     "end_time": "2020-11-26T15:08:10.107631",
     "exception": false,
     "start_time": "2020-11-26T15:08:10.012528",
     "status": "completed"
    },
    "tags": []
   },
   "outputs": [
    {
     "data": {
      "text/html": [
       "<div>\n",
       "<style scoped>\n",
       "    .dataframe tbody tr th:only-of-type {\n",
       "        vertical-align: middle;\n",
       "    }\n",
       "\n",
       "    .dataframe tbody tr th {\n",
       "        vertical-align: top;\n",
       "    }\n",
       "\n",
       "    .dataframe thead th {\n",
       "        text-align: right;\n",
       "    }\n",
       "</style>\n",
       "<table border=\"1\" class=\"dataframe\">\n",
       "  <thead>\n",
       "    <tr style=\"text-align: right;\">\n",
       "      <th></th>\n",
       "      <th>Close</th>\n",
       "    </tr>\n",
       "    <tr>\n",
       "      <th>Date</th>\n",
       "      <th></th>\n",
       "    </tr>\n",
       "  </thead>\n",
       "  <tbody>\n",
       "    <tr>\n",
       "      <th>2019-01-01</th>\n",
       "      <td>194.30</td>\n",
       "    </tr>\n",
       "    <tr>\n",
       "      <th>2019-02-01</th>\n",
       "      <td>231.20</td>\n",
       "    </tr>\n",
       "    <tr>\n",
       "      <th>2019-03-01</th>\n",
       "      <td>275.05</td>\n",
       "    </tr>\n",
       "    <tr>\n",
       "      <th>2019-04-01</th>\n",
       "      <td>168.00</td>\n",
       "    </tr>\n",
       "    <tr>\n",
       "      <th>2019-05-01</th>\n",
       "      <td>147.95</td>\n",
       "    </tr>\n",
       "    <tr>\n",
       "      <th>2019-06-01</th>\n",
       "      <td>108.70</td>\n",
       "    </tr>\n",
       "    <tr>\n",
       "      <th>2019-07-01</th>\n",
       "      <td>91.30</td>\n",
       "    </tr>\n",
       "    <tr>\n",
       "      <th>2019-08-01</th>\n",
       "      <td>59.50</td>\n",
       "    </tr>\n",
       "    <tr>\n",
       "      <th>2019-09-01</th>\n",
       "      <td>41.45</td>\n",
       "    </tr>\n",
       "    <tr>\n",
       "      <th>2019-10-01</th>\n",
       "      <td>70.45</td>\n",
       "    </tr>\n",
       "    <tr>\n",
       "      <th>2019-11-01</th>\n",
       "      <td>68.30</td>\n",
       "    </tr>\n",
       "    <tr>\n",
       "      <th>2019-12-01</th>\n",
       "      <td>46.95</td>\n",
       "    </tr>\n",
       "    <tr>\n",
       "      <th>2020-01-01</th>\n",
       "      <td>39.20</td>\n",
       "    </tr>\n",
       "    <tr>\n",
       "      <th>2020-02-01</th>\n",
       "      <td>34.55</td>\n",
       "    </tr>\n",
       "    <tr>\n",
       "      <th>2020-03-01</th>\n",
       "      <td>22.45</td>\n",
       "    </tr>\n",
       "    <tr>\n",
       "      <th>2020-04-01</th>\n",
       "      <td>27.95</td>\n",
       "    </tr>\n",
       "    <tr>\n",
       "      <th>2020-05-01</th>\n",
       "      <td>26.85</td>\n",
       "    </tr>\n",
       "    <tr>\n",
       "      <th>2020-06-01</th>\n",
       "      <td>25.60</td>\n",
       "    </tr>\n",
       "    <tr>\n",
       "      <th>2020-07-01</th>\n",
       "      <td>11.95</td>\n",
       "    </tr>\n",
       "    <tr>\n",
       "      <th>2020-08-01</th>\n",
       "      <td>14.37</td>\n",
       "    </tr>\n",
       "    <tr>\n",
       "      <th>2020-09-01</th>\n",
       "      <td>13.15</td>\n",
       "    </tr>\n",
       "    <tr>\n",
       "      <th>2020-10-01</th>\n",
       "      <td>12.42</td>\n",
       "    </tr>\n",
       "    <tr>\n",
       "      <th>2020-11-01</th>\n",
       "      <td>14.67</td>\n",
       "    </tr>\n",
       "  </tbody>\n",
       "</table>\n",
       "</div>"
      ],
      "text/plain": [
       "             Close\n",
       "Date              \n",
       "2019-01-01  194.30\n",
       "2019-02-01  231.20\n",
       "2019-03-01  275.05\n",
       "2019-04-01  168.00\n",
       "2019-05-01  147.95\n",
       "2019-06-01  108.70\n",
       "2019-07-01   91.30\n",
       "2019-08-01   59.50\n",
       "2019-09-01   41.45\n",
       "2019-10-01   70.45\n",
       "2019-11-01   68.30\n",
       "2019-12-01   46.95\n",
       "2020-01-01   39.20\n",
       "2020-02-01   34.55\n",
       "2020-03-01   22.45\n",
       "2020-04-01   27.95\n",
       "2020-05-01   26.85\n",
       "2020-06-01   25.60\n",
       "2020-07-01   11.95\n",
       "2020-08-01   14.37\n",
       "2020-09-01   13.15\n",
       "2020-10-01   12.42\n",
       "2020-11-01   14.67"
      ]
     },
     "execution_count": 18,
     "metadata": {},
     "output_type": "execute_result"
    }
   ],
   "source": [
    "test"
   ]
  },
  {
   "cell_type": "code",
   "execution_count": 19,
   "metadata": {
    "papermill": {
     "duration": 5.961205,
     "end_time": "2020-11-26T15:08:16.301229",
     "exception": false,
     "start_time": "2020-11-26T15:08:10.340024",
     "status": "completed"
    },
    "tags": []
   },
   "outputs": [
    {
     "data": {
      "text/html": [
       "<table class=\"simpletable\">\n",
       "<caption>SARIMAX Results</caption>\n",
       "<tr>\n",
       "  <th>Dep. Variable:</th>           <td>y</td>        <th>  No. Observations:  </th>    <td>185</td>  \n",
       "</tr>\n",
       "<tr>\n",
       "  <th>Model:</th>           <td>SARIMAX(1, 1, 1)</td> <th>  Log Likelihood     </th> <td>-812.490</td>\n",
       "</tr>\n",
       "<tr>\n",
       "  <th>Date:</th>            <td>Wed, 31 Jul 2024</td> <th>  AIC                </th> <td>1630.979</td>\n",
       "</tr>\n",
       "<tr>\n",
       "  <th>Time:</th>                <td>21:48:43</td>     <th>  BIC                </th> <td>1640.624</td>\n",
       "</tr>\n",
       "<tr>\n",
       "  <th>Sample:</th>             <td>07-01-2005</td>    <th>  HQIC               </th> <td>1634.888</td>\n",
       "</tr>\n",
       "<tr>\n",
       "  <th></th>                   <td>- 11-01-2020</td>   <th>                     </th>     <td> </td>   \n",
       "</tr>\n",
       "<tr>\n",
       "  <th>Covariance Type:</th>        <td>opg</td>       <th>                     </th>     <td> </td>   \n",
       "</tr>\n",
       "</table>\n",
       "<table class=\"simpletable\">\n",
       "<tr>\n",
       "     <td></td>       <th>coef</th>     <th>std err</th>      <th>z</th>      <th>P>|z|</th>  <th>[0.025</th>    <th>0.975]</th>  \n",
       "</tr>\n",
       "<tr>\n",
       "  <th>ar.L1</th>  <td>   -0.8165</td> <td>    0.049</td> <td>  -16.784</td> <td> 0.000</td> <td>   -0.912</td> <td>   -0.721</td>\n",
       "</tr>\n",
       "<tr>\n",
       "  <th>ma.L1</th>  <td>    0.9483</td> <td>    0.025</td> <td>   38.149</td> <td> 0.000</td> <td>    0.900</td> <td>    0.997</td>\n",
       "</tr>\n",
       "<tr>\n",
       "  <th>sigma2</th> <td>  399.9167</td> <td>   17.929</td> <td>   22.305</td> <td> 0.000</td> <td>  364.776</td> <td>  435.058</td>\n",
       "</tr>\n",
       "</table>\n",
       "<table class=\"simpletable\">\n",
       "<tr>\n",
       "  <th>Ljung-Box (L1) (Q):</th>     <td>0.20</td>  <th>  Jarque-Bera (JB):  </th> <td>3090.85</td>\n",
       "</tr>\n",
       "<tr>\n",
       "  <th>Prob(Q):</th>                <td>0.65</td>  <th>  Prob(JB):          </th>  <td>0.00</td>  \n",
       "</tr>\n",
       "<tr>\n",
       "  <th>Heteroskedasticity (H):</th> <td>73.32</td> <th>  Skew:              </th>  <td>-2.56</td> \n",
       "</tr>\n",
       "<tr>\n",
       "  <th>Prob(H) (two-sided):</th>    <td>0.00</td>  <th>  Kurtosis:          </th>  <td>22.41</td> \n",
       "</tr>\n",
       "</table><br/><br/>Warnings:<br/>[1] Covariance matrix calculated using the outer product of gradients (complex-step)."
      ],
      "text/latex": [
       "\\begin{center}\n",
       "\\begin{tabular}{lclc}\n",
       "\\toprule\n",
       "\\textbf{Dep. Variable:}          &        y         & \\textbf{  No. Observations:  } &    185      \\\\\n",
       "\\textbf{Model:}                  & SARIMAX(1, 1, 1) & \\textbf{  Log Likelihood     } &  -812.490   \\\\\n",
       "\\textbf{Date:}                   & Wed, 31 Jul 2024 & \\textbf{  AIC                } &  1630.979   \\\\\n",
       "\\textbf{Time:}                   &     21:48:43     & \\textbf{  BIC                } &  1640.624   \\\\\n",
       "\\textbf{Sample:}                 &    07-01-2005    & \\textbf{  HQIC               } &  1634.888   \\\\\n",
       "\\textbf{}                        &   - 11-01-2020   & \\textbf{                     } &             \\\\\n",
       "\\textbf{Covariance Type:}        &       opg        & \\textbf{                     } &             \\\\\n",
       "\\bottomrule\n",
       "\\end{tabular}\n",
       "\\begin{tabular}{lcccccc}\n",
       "                & \\textbf{coef} & \\textbf{std err} & \\textbf{z} & \\textbf{P$> |$z$|$} & \\textbf{[0.025} & \\textbf{0.975]}  \\\\\n",
       "\\midrule\n",
       "\\textbf{ar.L1}  &      -0.8165  &        0.049     &   -16.784  &         0.000        &       -0.912    &       -0.721     \\\\\n",
       "\\textbf{ma.L1}  &       0.9483  &        0.025     &    38.149  &         0.000        &        0.900    &        0.997     \\\\\n",
       "\\textbf{sigma2} &     399.9167  &       17.929     &    22.305  &         0.000        &      364.776    &      435.058     \\\\\n",
       "\\bottomrule\n",
       "\\end{tabular}\n",
       "\\begin{tabular}{lclc}\n",
       "\\textbf{Ljung-Box (L1) (Q):}     &  0.20 & \\textbf{  Jarque-Bera (JB):  } & 3090.85  \\\\\n",
       "\\textbf{Prob(Q):}                &  0.65 & \\textbf{  Prob(JB):          } &   0.00   \\\\\n",
       "\\textbf{Heteroskedasticity (H):} & 73.32 & \\textbf{  Skew:              } &  -2.56   \\\\\n",
       "\\textbf{Prob(H) (two-sided):}    &  0.00 & \\textbf{  Kurtosis:          } &  22.41   \\\\\n",
       "\\bottomrule\n",
       "\\end{tabular}\n",
       "%\\caption{SARIMAX Results}\n",
       "\\end{center}\n",
       "\n",
       "Warnings: \\newline\n",
       " [1] Covariance matrix calculated using the outer product of gradients (complex-step)."
      ],
      "text/plain": [
       "<class 'statsmodels.iolib.summary.Summary'>\n",
       "\"\"\"\n",
       "                               SARIMAX Results                                \n",
       "==============================================================================\n",
       "Dep. Variable:                      y   No. Observations:                  185\n",
       "Model:               SARIMAX(1, 1, 1)   Log Likelihood                -812.490\n",
       "Date:                Wed, 31 Jul 2024   AIC                           1630.979\n",
       "Time:                        21:48:43   BIC                           1640.624\n",
       "Sample:                    07-01-2005   HQIC                          1634.888\n",
       "                         - 11-01-2020                                         \n",
       "Covariance Type:                  opg                                         \n",
       "==============================================================================\n",
       "                 coef    std err          z      P>|z|      [0.025      0.975]\n",
       "------------------------------------------------------------------------------\n",
       "ar.L1         -0.8165      0.049    -16.784      0.000      -0.912      -0.721\n",
       "ma.L1          0.9483      0.025     38.149      0.000       0.900       0.997\n",
       "sigma2       399.9167     17.929     22.305      0.000     364.776     435.058\n",
       "===================================================================================\n",
       "Ljung-Box (L1) (Q):                   0.20   Jarque-Bera (JB):              3090.85\n",
       "Prob(Q):                              0.65   Prob(JB):                         0.00\n",
       "Heteroskedasticity (H):              73.32   Skew:                            -2.56\n",
       "Prob(H) (two-sided):                  0.00   Kurtosis:                        22.41\n",
       "===================================================================================\n",
       "\n",
       "Warnings:\n",
       "[1] Covariance matrix calculated using the outer product of gradients (complex-step).\n",
       "\"\"\""
      ]
     },
     "execution_count": 19,
     "metadata": {},
     "output_type": "execute_result"
    }
   ],
   "source": [
    "#Applying the Auto ARIMA Function\n",
    "auto_arima(ts['Close'],m=12,seasonal = True,maxiter=200).summary()"
   ]
  },
  {
   "cell_type": "code",
   "execution_count": 20,
   "metadata": {
    "papermill": {
     "duration": 0.213298,
     "end_time": "2020-11-26T15:08:16.593082",
     "exception": false,
     "start_time": "2020-11-26T15:08:16.379784",
     "status": "completed"
    },
    "tags": []
   },
   "outputs": [
    {
     "name": "stdout",
     "output_type": "stream",
     "text": [
      "RUNNING THE L-BFGS-B CODE\n",
      "\n",
      "           * * *\n",
      "\n",
      "Machine precision = 2.220D-16\n",
      " N =            3     M =           10\n",
      "\n",
      "At X0         0 variables are exactly at the bounds\n",
      "\n",
      "At iterate    0    f=  4.32611D+00    |proj g|=  3.00040D-02\n",
      "\n",
      "At iterate    5    f=  4.32435D+00    |proj g|=  5.46281D-03\n",
      "\n",
      "At iterate   10    f=  4.31978D+00    |proj g|=  1.02066D-02\n",
      "\n",
      "At iterate   15    f=  4.31642D+00    |proj g|=  8.88362D-05\n",
      "\n",
      "           * * *\n",
      "\n",
      "Tit   = total number of iterations\n",
      "Tnf   = total number of function evaluations\n",
      "Tnint = total number of segments explored during Cauchy searches\n",
      "Skip  = number of BFGS updates skipped\n",
      "Nact  = number of active bounds at final generalized Cauchy point\n",
      "Projg = norm of the final projected gradient\n",
      "F     = final function value\n",
      "\n",
      "           * * *\n",
      "\n",
      "   N    Tit     Tnf  Tnint  Skip  Nact     Projg        F\n",
      "    3     16     21      1     0     0   5.555D-06   4.316D+00\n",
      "  F =   4.3164196459162198     \n",
      "\n",
      "CONVERGENCE: NORM_OF_PROJECTED_GRADIENT_<=_PGTOL            \n"
     ]
    },
    {
     "name": "stderr",
     "output_type": "stream",
     "text": [
      " This problem is unconstrained.\n"
     ]
    },
    {
     "data": {
      "text/html": [
       "<table class=\"simpletable\">\n",
       "<caption>SARIMAX Results</caption>\n",
       "<tr>\n",
       "  <th>Dep. Variable:</th>         <td>Close</td>      <th>  No. Observations:  </th>    <td>162</td>  \n",
       "</tr>\n",
       "<tr>\n",
       "  <th>Model:</th>           <td>SARIMAX(1, 1, 1)</td> <th>  Log Likelihood     </th> <td>-699.260</td>\n",
       "</tr>\n",
       "<tr>\n",
       "  <th>Date:</th>            <td>Wed, 31 Jul 2024</td> <th>  AIC                </th> <td>1404.520</td>\n",
       "</tr>\n",
       "<tr>\n",
       "  <th>Time:</th>                <td>21:48:45</td>     <th>  BIC                </th> <td>1413.764</td>\n",
       "</tr>\n",
       "<tr>\n",
       "  <th>Sample:</th>             <td>07-01-2005</td>    <th>  HQIC               </th> <td>1408.273</td>\n",
       "</tr>\n",
       "<tr>\n",
       "  <th></th>                   <td>- 12-01-2018</td>   <th>                     </th>     <td> </td>   \n",
       "</tr>\n",
       "<tr>\n",
       "  <th>Covariance Type:</th>        <td>opg</td>       <th>                     </th>     <td> </td>   \n",
       "</tr>\n",
       "</table>\n",
       "<table class=\"simpletable\">\n",
       "<tr>\n",
       "     <td></td>       <th>coef</th>     <th>std err</th>      <th>z</th>      <th>P>|z|</th>  <th>[0.025</th>    <th>0.975]</th>  \n",
       "</tr>\n",
       "<tr>\n",
       "  <th>ar.L1</th>  <td>   -0.8875</td> <td>    0.079</td> <td>  -11.189</td> <td> 0.000</td> <td>   -1.043</td> <td>   -0.732</td>\n",
       "</tr>\n",
       "<tr>\n",
       "  <th>ma.L1</th>  <td>    0.9695</td> <td>    0.036</td> <td>   26.646</td> <td> 0.000</td> <td>    0.898</td> <td>    1.041</td>\n",
       "</tr>\n",
       "<tr>\n",
       "  <th>sigma2</th> <td>  345.8068</td> <td>   15.081</td> <td>   22.930</td> <td> 0.000</td> <td>  316.248</td> <td>  375.365</td>\n",
       "</tr>\n",
       "</table>\n",
       "<table class=\"simpletable\">\n",
       "<tr>\n",
       "  <th>Ljung-Box (L1) (Q):</th>     <td>0.10</td>  <th>  Jarque-Bera (JB):  </th> <td>5529.42</td>\n",
       "</tr>\n",
       "<tr>\n",
       "  <th>Prob(Q):</th>                <td>0.75</td>  <th>  Prob(JB):          </th>  <td>0.00</td>  \n",
       "</tr>\n",
       "<tr>\n",
       "  <th>Heteroskedasticity (H):</th> <td>60.41</td> <th>  Skew:              </th>  <td>-2.99</td> \n",
       "</tr>\n",
       "<tr>\n",
       "  <th>Prob(H) (two-sided):</th>    <td>0.00</td>  <th>  Kurtosis:          </th>  <td>31.08</td> \n",
       "</tr>\n",
       "</table><br/><br/>Warnings:<br/>[1] Covariance matrix calculated using the outer product of gradients (complex-step)."
      ],
      "text/latex": [
       "\\begin{center}\n",
       "\\begin{tabular}{lclc}\n",
       "\\toprule\n",
       "\\textbf{Dep. Variable:}          &      Close       & \\textbf{  No. Observations:  } &    162      \\\\\n",
       "\\textbf{Model:}                  & SARIMAX(1, 1, 1) & \\textbf{  Log Likelihood     } &  -699.260   \\\\\n",
       "\\textbf{Date:}                   & Wed, 31 Jul 2024 & \\textbf{  AIC                } &  1404.520   \\\\\n",
       "\\textbf{Time:}                   &     21:48:45     & \\textbf{  BIC                } &  1413.764   \\\\\n",
       "\\textbf{Sample:}                 &    07-01-2005    & \\textbf{  HQIC               } &  1408.273   \\\\\n",
       "\\textbf{}                        &   - 12-01-2018   & \\textbf{                     } &             \\\\\n",
       "\\textbf{Covariance Type:}        &       opg        & \\textbf{                     } &             \\\\\n",
       "\\bottomrule\n",
       "\\end{tabular}\n",
       "\\begin{tabular}{lcccccc}\n",
       "                & \\textbf{coef} & \\textbf{std err} & \\textbf{z} & \\textbf{P$> |$z$|$} & \\textbf{[0.025} & \\textbf{0.975]}  \\\\\n",
       "\\midrule\n",
       "\\textbf{ar.L1}  &      -0.8875  &        0.079     &   -11.189  &         0.000        &       -1.043    &       -0.732     \\\\\n",
       "\\textbf{ma.L1}  &       0.9695  &        0.036     &    26.646  &         0.000        &        0.898    &        1.041     \\\\\n",
       "\\textbf{sigma2} &     345.8068  &       15.081     &    22.930  &         0.000        &      316.248    &      375.365     \\\\\n",
       "\\bottomrule\n",
       "\\end{tabular}\n",
       "\\begin{tabular}{lclc}\n",
       "\\textbf{Ljung-Box (L1) (Q):}     &  0.10 & \\textbf{  Jarque-Bera (JB):  } & 5529.42  \\\\\n",
       "\\textbf{Prob(Q):}                &  0.75 & \\textbf{  Prob(JB):          } &   0.00   \\\\\n",
       "\\textbf{Heteroskedasticity (H):} & 60.41 & \\textbf{  Skew:              } &  -2.99   \\\\\n",
       "\\textbf{Prob(H) (two-sided):}    &  0.00 & \\textbf{  Kurtosis:          } &  31.08   \\\\\n",
       "\\bottomrule\n",
       "\\end{tabular}\n",
       "%\\caption{SARIMAX Results}\n",
       "\\end{center}\n",
       "\n",
       "Warnings: \\newline\n",
       " [1] Covariance matrix calculated using the outer product of gradients (complex-step)."
      ],
      "text/plain": [
       "<class 'statsmodels.iolib.summary.Summary'>\n",
       "\"\"\"\n",
       "                               SARIMAX Results                                \n",
       "==============================================================================\n",
       "Dep. Variable:                  Close   No. Observations:                  162\n",
       "Model:               SARIMAX(1, 1, 1)   Log Likelihood                -699.260\n",
       "Date:                Wed, 31 Jul 2024   AIC                           1404.520\n",
       "Time:                        21:48:45   BIC                           1413.764\n",
       "Sample:                    07-01-2005   HQIC                          1408.273\n",
       "                         - 12-01-2018                                         \n",
       "Covariance Type:                  opg                                         \n",
       "==============================================================================\n",
       "                 coef    std err          z      P>|z|      [0.025      0.975]\n",
       "------------------------------------------------------------------------------\n",
       "ar.L1         -0.8875      0.079    -11.189      0.000      -1.043      -0.732\n",
       "ma.L1          0.9695      0.036     26.646      0.000       0.898       1.041\n",
       "sigma2       345.8068     15.081     22.930      0.000     316.248     375.365\n",
       "===================================================================================\n",
       "Ljung-Box (L1) (Q):                   0.10   Jarque-Bera (JB):              5529.42\n",
       "Prob(Q):                              0.75   Prob(JB):                         0.00\n",
       "Heteroskedasticity (H):              60.41   Skew:                            -2.99\n",
       "Prob(H) (two-sided):                  0.00   Kurtosis:                        31.08\n",
       "===================================================================================\n",
       "\n",
       "Warnings:\n",
       "[1] Covariance matrix calculated using the outer product of gradients (complex-step).\n",
       "\"\"\""
      ]
     },
     "execution_count": 20,
     "metadata": {},
     "output_type": "execute_result"
    }
   ],
   "source": [
    "#statsmodel function implementation\n",
    "model = SARIMAX(train['Close'],order=(1,1,1))\n",
    "results = model.fit(maxiter=200)\n",
    "results.summary()"
   ]
  },
  {
   "cell_type": "code",
   "execution_count": 21,
   "metadata": {
    "papermill": {
     "duration": 0.102628,
     "end_time": "2020-11-26T15:08:16.776866",
     "exception": false,
     "start_time": "2020-11-26T15:08:16.674238",
     "status": "completed"
    },
    "tags": []
   },
   "outputs": [],
   "source": [
    "# Obtain predicted values\n",
    "start=len(train)\n",
    "end=len(train)+len(test)-1\n",
    "predictions = results.predict(start=start, end=end, dynamic=False, typ='levels', full_results = True).rename('SARIMA Predictions')"
   ]
  },
  {
   "cell_type": "code",
   "execution_count": 22,
   "metadata": {
    "papermill": {
     "duration": 0.094434,
     "end_time": "2020-11-26T15:08:16.949612",
     "exception": false,
     "start_time": "2020-11-26T15:08:16.855178",
     "status": "completed"
    },
    "tags": []
   },
   "outputs": [
    {
     "name": "stdout",
     "output_type": "stream",
     "text": [
      "predicted=189.0590448, expected=194.3\n",
      "predicted=182.5723582, expected=231.2\n",
      "predicted=188.3292121, expected=275.05\n",
      "predicted=183.2200756, expected=168.0\n",
      "predicted=187.7543709, expected=147.95\n",
      "predicted=183.7302401, expected=108.7\n",
      "predicted=187.3016063, expected=91.3\n",
      "predicted=184.1320631, expected=59.5\n",
      "predicted=186.9449934, expected=41.45\n",
      "predicted=184.4485526, expected=70.45\n",
      "predicted=186.6641128, expected=68.3\n",
      "predicted=184.6978306, expected=46.95\n",
      "predicted=186.4428817, expected=39.2\n",
      "predicted=184.8941705, expected=34.55\n",
      "predicted=186.2686325, expected=22.45\n",
      "predicted=185.0488145, expected=27.95\n",
      "predicted=186.1313879, expected=26.85\n",
      "predicted=185.1706175, expected=25.6\n",
      "predicted=186.0232893, expected=11.95\n",
      "predicted=185.2665536, expected=14.37\n",
      "predicted=185.9381471, expected=13.15\n",
      "predicted=185.3421162, expected=12.42\n",
      "predicted=185.8710863, expected=14.67\n"
     ]
    }
   ],
   "source": [
    "# Compare predictions to expected values\n",
    "for i in range(len(predictions)):\n",
    "    print(f\"predicted={predictions[i]:<11.10}, expected={test['Close'][i]}\")"
   ]
  },
  {
   "cell_type": "code",
   "execution_count": 24,
   "metadata": {
    "papermill": {
     "duration": 0.10661,
     "end_time": "2020-11-26T15:08:17.565766",
     "exception": false,
     "start_time": "2020-11-26T15:08:17.459156",
     "status": "completed"
    },
    "tags": []
   },
   "outputs": [
    {
     "name": "stdout",
     "output_type": "stream",
     "text": [
      "SARIMA MSE Error: 17585.44142\n"
     ]
    }
   ],
   "source": [
    "#Calcalutaing MSE\n",
    "from sklearn.metrics import mean_squared_error\n",
    "\n",
    "error = mean_squared_error(test['Close'], predictions)\n",
    "print(f'SARIMA MSE Error: {error:11.10}')"
   ]
  },
  {
   "cell_type": "code",
   "execution_count": 25,
   "metadata": {
    "papermill": {
     "duration": 0.091599,
     "end_time": "2020-11-26T15:08:17.749308",
     "exception": false,
     "start_time": "2020-11-26T15:08:17.657709",
     "status": "completed"
    },
    "tags": []
   },
   "outputs": [
    {
     "name": "stdout",
     "output_type": "stream",
     "text": [
      "SARIMA RMSE Error: 132.6101106\n"
     ]
    }
   ],
   "source": [
    "#Calculating RMSE\n",
    "from statsmodels.tools.eval_measures import rmse\n",
    "\n",
    "error = rmse(test['Close'], predictions)\n",
    "print(f'SARIMA RMSE Error: {error:11.10}')"
   ]
  },
  {
   "cell_type": "code",
   "execution_count": 26,
   "metadata": {
    "papermill": {
     "duration": 0.199913,
     "end_time": "2020-11-26T15:08:18.031747",
     "exception": false,
     "start_time": "2020-11-26T15:08:17.831834",
     "status": "completed"
    },
    "tags": []
   },
   "outputs": [
    {
     "name": "stdout",
     "output_type": "stream",
     "text": [
      "RUNNING THE L-BFGS-B CODE\n",
      "\n",
      "           * * *\n",
      "\n",
      "Machine precision = 2.220D-16\n",
      " N =            3     M =           10\n",
      "\n",
      "At X0         0 variables are exactly at the bounds\n",
      "\n",
      "At iterate    0    f=  4.41137D+00    |proj g|=  2.90799D-02\n",
      "\n",
      "At iterate    5    f=  4.39297D+00    |proj g|=  2.82350D-03\n",
      "\n",
      "At iterate   10    f=  4.39184D+00    |proj g|=  6.52278D-07\n",
      "\n",
      "           * * *\n",
      "\n",
      "Tit   = total number of iterations\n",
      "Tnf   = total number of function evaluations\n",
      "Tnint = total number of segments explored during Cauchy searches\n",
      "Skip  = number of BFGS updates skipped\n",
      "Nact  = number of active bounds at final generalized Cauchy point\n",
      "Projg = norm of the final projected gradient\n",
      "F     = final function value\n",
      "\n",
      "           * * *\n",
      "\n",
      "   N    Tit     Tnf  Tnint  Skip  Nact     Projg        F\n",
      "    3     10     16      1     0     0   6.523D-07   4.392D+00\n",
      "  F =   4.3918357293474353     \n",
      "\n",
      "CONVERGENCE: NORM_OF_PROJECTED_GRADIENT_<=_PGTOL            \n"
     ]
    },
    {
     "name": "stderr",
     "output_type": "stream",
     "text": [
      " This problem is unconstrained.\n"
     ]
    }
   ],
   "source": [
    "#Making Future Predictions of next year that is 2021\n",
    "model = SARIMAX(ts['Close'],order=(1,1,1))\n",
    "results = model.fit(maxiter=200)\n",
    "fcast = results.predict(len(ts),len(ts)+11,typ='levels').rename('SARIMA Forecast')"
   ]
  },
  {
   "cell_type": "code",
   "execution_count": 29,
   "metadata": {
    "papermill": {
     "duration": 0.342926,
     "end_time": "2020-11-26T15:08:18.460776",
     "exception": false,
     "start_time": "2020-11-26T15:08:18.117850",
     "status": "completed"
    },
    "tags": []
   },
   "outputs": [
    {
     "data": {
      "image/png": "[encoded data removed]",
      "text/plain": [
       "<Figure size 1200x600 with 1 Axes>"
      ]
     },
     "metadata": {},
     "output_type": "display_data"
    }
   ],
   "source": [
    "import matplotlib.pyplot as plt\n",
    "# Plotting the original data\n",
    "plt.figure(figsize=(12, 6))\n",
    "plt.plot(ts['Close'], label='Original Data')\n",
    "\n",
    "# Plotting the forecast data\n",
    "plt.plot(fcast, label='Forecast', color='red')\n",
    "\n",
    "plt.legend()\n",
    "plt.xlabel('Date')\n",
    "plt.ylabel('Close Price')\n",
    "plt.title('Original Data and Forecast')\n",
    "plt.show()"
   ]
  },
  {
   "cell_type": "markdown",
   "metadata": {
    "papermill": {
     "duration": 0.083931,
     "end_time": "2020-11-26T15:08:18.848539",
     "exception": false,
     "start_time": "2020-11-26T15:08:18.764608",
     "status": "completed"
    },
    "tags": []
   },
   "source": [
    "### Model for 2017 as Test set"
   ]
  },
  {
   "cell_type": "code",
   "execution_count": 30,
   "metadata": {
    "papermill": {
     "duration": 0.097337,
     "end_time": "2020-11-26T15:08:19.029504",
     "exception": false,
     "start_time": "2020-11-26T15:08:18.932167",
     "status": "completed"
    },
    "tags": []
   },
   "outputs": [],
   "source": [
    "ts2017 = ts.iloc[:150]\n",
    "train2017 = ts.iloc[:138]\n",
    "test2017 = ts.iloc[138:150]"
   ]
  },
  {
   "cell_type": "code",
   "execution_count": 31,
   "metadata": {
    "papermill": {
     "duration": 0.290165,
     "end_time": "2020-11-26T15:08:19.409467",
     "exception": false,
     "start_time": "2020-11-26T15:08:19.119302",
     "status": "completed"
    },
    "tags": []
   },
   "outputs": [
    {
     "data": {
      "image/png": "[encoded data removed]",
      "text/plain": [
       "<Figure size 1200x600 with 1 Axes>"
      ]
     },
     "metadata": {},
     "output_type": "display_data"
    }
   ],
   "source": [
    "#plotting the data\n",
    "\n",
    "ax = ts2017['Close'].plot(figsize=(12,6))\n",
    "ax.autoscale(axis='x',tight=True)"
   ]
  },
  {
   "cell_type": "code",
   "execution_count": 32,
   "metadata": {
    "papermill": {
     "duration": 0.104963,
     "end_time": "2020-11-26T15:08:19.601001",
     "exception": false,
     "start_time": "2020-11-26T15:08:19.496038",
     "status": "completed"
    },
    "tags": []
   },
   "outputs": [
    {
     "data": {
      "text/html": [
       "<div>\n",
       "<style scoped>\n",
       "    .dataframe tbody tr th:only-of-type {\n",
       "        vertical-align: middle;\n",
       "    }\n",
       "\n",
       "    .dataframe tbody tr th {\n",
       "        vertical-align: top;\n",
       "    }\n",
       "\n",
       "    .dataframe thead th {\n",
       "        text-align: right;\n",
       "    }\n",
       "</style>\n",
       "<table border=\"1\" class=\"dataframe\">\n",
       "  <thead>\n",
       "    <tr style=\"text-align: right;\">\n",
       "      <th></th>\n",
       "      <th>Close</th>\n",
       "    </tr>\n",
       "    <tr>\n",
       "      <th>Date</th>\n",
       "      <th></th>\n",
       "    </tr>\n",
       "  </thead>\n",
       "  <tbody>\n",
       "    <tr>\n",
       "      <th>2017-01-01</th>\n",
       "      <td>279.10</td>\n",
       "    </tr>\n",
       "    <tr>\n",
       "      <th>2017-02-01</th>\n",
       "      <td>290.56</td>\n",
       "    </tr>\n",
       "    <tr>\n",
       "      <th>2017-03-01</th>\n",
       "      <td>309.82</td>\n",
       "    </tr>\n",
       "    <tr>\n",
       "      <th>2017-04-01</th>\n",
       "      <td>326.14</td>\n",
       "    </tr>\n",
       "    <tr>\n",
       "      <th>2017-05-01</th>\n",
       "      <td>286.38</td>\n",
       "    </tr>\n",
       "    <tr>\n",
       "      <th>2017-06-01</th>\n",
       "      <td>292.37</td>\n",
       "    </tr>\n",
       "    <tr>\n",
       "      <th>2017-07-01</th>\n",
       "      <td>361.96</td>\n",
       "    </tr>\n",
       "    <tr>\n",
       "      <th>2017-08-01</th>\n",
       "      <td>351.15</td>\n",
       "    </tr>\n",
       "    <tr>\n",
       "      <th>2017-09-01</th>\n",
       "      <td>350.00</td>\n",
       "    </tr>\n",
       "    <tr>\n",
       "      <th>2017-10-01</th>\n",
       "      <td>314.35</td>\n",
       "    </tr>\n",
       "    <tr>\n",
       "      <th>2017-11-01</th>\n",
       "      <td>306.80</td>\n",
       "    </tr>\n",
       "    <tr>\n",
       "      <th>2017-12-01</th>\n",
       "      <td>315.05</td>\n",
       "    </tr>\n",
       "  </tbody>\n",
       "</table>\n",
       "</div>"
      ],
      "text/plain": [
       "             Close\n",
       "Date              \n",
       "2017-01-01  279.10\n",
       "2017-02-01  290.56\n",
       "2017-03-01  309.82\n",
       "2017-04-01  326.14\n",
       "2017-05-01  286.38\n",
       "2017-06-01  292.37\n",
       "2017-07-01  361.96\n",
       "2017-08-01  351.15\n",
       "2017-09-01  350.00\n",
       "2017-10-01  314.35\n",
       "2017-11-01  306.80\n",
       "2017-12-01  315.05"
      ]
     },
     "execution_count": 32,
     "metadata": {},
     "output_type": "execute_result"
    }
   ],
   "source": [
    "test2017"
   ]
  },
  {
   "cell_type": "code",
   "execution_count": 33,
   "metadata": {
    "papermill": {
     "duration": 3.16454,
     "end_time": "2020-11-26T15:08:22.851919",
     "exception": false,
     "start_time": "2020-11-26T15:08:19.687379",
     "status": "completed"
    },
    "tags": []
   },
   "outputs": [
    {
     "data": {
      "text/html": [
       "<table class=\"simpletable\">\n",
       "<caption>SARIMAX Results</caption>\n",
       "<tr>\n",
       "  <th>Dep. Variable:</th>           <td>y</td>        <th>  No. Observations:  </th>    <td>150</td>  \n",
       "</tr>\n",
       "<tr>\n",
       "  <th>Model:</th>           <td>SARIMAX(0, 1, 0)</td> <th>  Log Likelihood     </th> <td>-585.994</td>\n",
       "</tr>\n",
       "<tr>\n",
       "  <th>Date:</th>            <td>Wed, 31 Jul 2024</td> <th>  AIC                </th> <td>1175.988</td>\n",
       "</tr>\n",
       "<tr>\n",
       "  <th>Time:</th>                <td>21:50:21</td>     <th>  BIC                </th> <td>1181.996</td>\n",
       "</tr>\n",
       "<tr>\n",
       "  <th>Sample:</th>             <td>07-01-2005</td>    <th>  HQIC               </th> <td>1178.429</td>\n",
       "</tr>\n",
       "<tr>\n",
       "  <th></th>                   <td>- 12-01-2017</td>   <th>                     </th>     <td> </td>   \n",
       "</tr>\n",
       "<tr>\n",
       "  <th>Covariance Type:</th>        <td>opg</td>       <th>                     </th>     <td> </td>   \n",
       "</tr>\n",
       "</table>\n",
       "<table class=\"simpletable\">\n",
       "<tr>\n",
       "      <td></td>         <th>coef</th>     <th>std err</th>      <th>z</th>      <th>P>|z|</th>  <th>[0.025</th>    <th>0.975]</th>  \n",
       "</tr>\n",
       "<tr>\n",
       "  <th>intercept</th> <td>    2.0308</td> <td>    1.079</td> <td>    1.883</td> <td> 0.060</td> <td>   -0.083</td> <td>    4.145</td>\n",
       "</tr>\n",
       "<tr>\n",
       "  <th>sigma2</th>    <td>  152.5996</td> <td>    8.693</td> <td>   17.555</td> <td> 0.000</td> <td>  135.562</td> <td>  169.637</td>\n",
       "</tr>\n",
       "</table>\n",
       "<table class=\"simpletable\">\n",
       "<tr>\n",
       "  <th>Ljung-Box (L1) (Q):</th>     <td>0.49</td>  <th>  Jarque-Bera (JB):  </th> <td>367.61</td>\n",
       "</tr>\n",
       "<tr>\n",
       "  <th>Prob(Q):</th>                <td>0.48</td>  <th>  Prob(JB):          </th>  <td>0.00</td> \n",
       "</tr>\n",
       "<tr>\n",
       "  <th>Heteroskedasticity (H):</th> <td>20.08</td> <th>  Skew:              </th>  <td>1.06</td> \n",
       "</tr>\n",
       "<tr>\n",
       "  <th>Prob(H) (two-sided):</th>    <td>0.00</td>  <th>  Kurtosis:          </th>  <td>10.40</td>\n",
       "</tr>\n",
       "</table><br/><br/>Warnings:<br/>[1] Covariance matrix calculated using the outer product of gradients (complex-step)."
      ],
      "text/latex": [
       "\\begin{center}\n",
       "\\begin{tabular}{lclc}\n",
       "\\toprule\n",
       "\\textbf{Dep. Variable:}          &        y         & \\textbf{  No. Observations:  } &    150      \\\\\n",
       "\\textbf{Model:}                  & SARIMAX(0, 1, 0) & \\textbf{  Log Likelihood     } &  -585.994   \\\\\n",
       "\\textbf{Date:}                   & Wed, 31 Jul 2024 & \\textbf{  AIC                } &  1175.988   \\\\\n",
       "\\textbf{Time:}                   &     21:50:21     & \\textbf{  BIC                } &  1181.996   \\\\\n",
       "\\textbf{Sample:}                 &    07-01-2005    & \\textbf{  HQIC               } &  1178.429   \\\\\n",
       "\\textbf{}                        &   - 12-01-2017   & \\textbf{                     } &             \\\\\n",
       "\\textbf{Covariance Type:}        &       opg        & \\textbf{                     } &             \\\\\n",
       "\\bottomrule\n",
       "\\end{tabular}\n",
       "\\begin{tabular}{lcccccc}\n",
       "                   & \\textbf{coef} & \\textbf{std err} & \\textbf{z} & \\textbf{P$> |$z$|$} & \\textbf{[0.025} & \\textbf{0.975]}  \\\\\n",
       "\\midrule\n",
       "\\textbf{intercept} &       2.0308  &        1.079     &     1.883  &         0.060        &       -0.083    &        4.145     \\\\\n",
       "\\textbf{sigma2}    &     152.5996  &        8.693     &    17.555  &         0.000        &      135.562    &      169.637     \\\\\n",
       "\\bottomrule\n",
       "\\end{tabular}\n",
       "\\begin{tabular}{lclc}\n",
       "\\textbf{Ljung-Box (L1) (Q):}     &  0.49 & \\textbf{  Jarque-Bera (JB):  } & 367.61  \\\\\n",
       "\\textbf{Prob(Q):}                &  0.48 & \\textbf{  Prob(JB):          } &  0.00   \\\\\n",
       "\\textbf{Heteroskedasticity (H):} & 20.08 & \\textbf{  Skew:              } &  1.06   \\\\\n",
       "\\textbf{Prob(H) (two-sided):}    &  0.00 & \\textbf{  Kurtosis:          } & 10.40   \\\\\n",
       "\\bottomrule\n",
       "\\end{tabular}\n",
       "%\\caption{SARIMAX Results}\n",
       "\\end{center}\n",
       "\n",
       "Warnings: \\newline\n",
       " [1] Covariance matrix calculated using the outer product of gradients (complex-step)."
      ],
      "text/plain": [
       "<class 'statsmodels.iolib.summary.Summary'>\n",
       "\"\"\"\n",
       "                               SARIMAX Results                                \n",
       "==============================================================================\n",
       "Dep. Variable:                      y   No. Observations:                  150\n",
       "Model:               SARIMAX(0, 1, 0)   Log Likelihood                -585.994\n",
       "Date:                Wed, 31 Jul 2024   AIC                           1175.988\n",
       "Time:                        21:50:21   BIC                           1181.996\n",
       "Sample:                    07-01-2005   HQIC                          1178.429\n",
       "                         - 12-01-2017                                         \n",
       "Covariance Type:                  opg                                         \n",
       "==============================================================================\n",
       "                 coef    std err          z      P>|z|      [0.025      0.975]\n",
       "------------------------------------------------------------------------------\n",
       "intercept      2.0308      1.079      1.883      0.060      -0.083       4.145\n",
       "sigma2       152.5996      8.693     17.555      0.000     135.562     169.637\n",
       "===================================================================================\n",
       "Ljung-Box (L1) (Q):                   0.49   Jarque-Bera (JB):               367.61\n",
       "Prob(Q):                              0.48   Prob(JB):                         0.00\n",
       "Heteroskedasticity (H):              20.08   Skew:                             1.06\n",
       "Prob(H) (two-sided):                  0.00   Kurtosis:                        10.40\n",
       "===================================================================================\n",
       "\n",
       "Warnings:\n",
       "[1] Covariance matrix calculated using the outer product of gradients (complex-step).\n",
       "\"\"\""
      ]
     },
     "execution_count": 33,
     "metadata": {},
     "output_type": "execute_result"
    }
   ],
   "source": [
    "#Applying the Auto ARIMA Function\n",
    "auto_arima(ts2017['Close'],m=12,seasonal = True,maxiter=200).summary()"
   ]
  },
  {
   "cell_type": "code",
   "execution_count": 34,
   "metadata": {
    "papermill": {
     "duration": 0.140497,
     "end_time": "2020-11-26T15:08:23.080712",
     "exception": false,
     "start_time": "2020-11-26T15:08:22.940215",
     "status": "completed"
    },
    "tags": []
   },
   "outputs": [
    {
     "name": "stdout",
     "output_type": "stream",
     "text": [
      "RUNNING THE L-BFGS-B CODE\n",
      "\n",
      "           * * *\n",
      "\n",
      "Machine precision = 2.220D-16\n",
      " N =            1     M =           10\n",
      "\n",
      "At X0         0 variables are exactly at the bounds\n",
      "\n",
      "At iterate    0    f=  3.64190D+00    |proj g|=  7.66789D-04\n",
      "\n",
      "           * * *\n",
      "\n",
      "Tit   = total number of iterations\n",
      "Tnf   = total number of function evaluations\n",
      "Tnint = total number of segments explored during Cauchy searches\n",
      "Skip  = number of BFGS updates skipped\n",
      "Nact  = number of active bounds at final generalized Cauchy point\n",
      "Projg = norm of the final projected gradient\n",
      "F     = final function value\n",
      "\n",
      "           * * *\n",
      "\n",
      "   N    Tit     Tnf  Tnint  Skip  Nact     Projg        F\n",
      "    1      2      4      1     0     0   1.246D-07   3.642D+00\n",
      "  F =   3.6418901967916373     \n",
      "\n",
      "CONVERGENCE: NORM_OF_PROJECTED_GRADIENT_<=_PGTOL            \n"
     ]
    },
    {
     "name": "stderr",
     "output_type": "stream",
     "text": [
      " This problem is unconstrained.\n"
     ]
    },
    {
     "data": {
      "text/html": [
       "<table class=\"simpletable\">\n",
       "<caption>SARIMAX Results</caption>\n",
       "<tr>\n",
       "  <th>Dep. Variable:</th>         <td>Close</td>      <th>  No. Observations:  </th>    <td>138</td>  \n",
       "</tr>\n",
       "<tr>\n",
       "  <th>Model:</th>           <td>SARIMAX(0, 1, 0)</td> <th>  Log Likelihood     </th> <td>-502.581</td>\n",
       "</tr>\n",
       "<tr>\n",
       "  <th>Date:</th>            <td>Wed, 31 Jul 2024</td> <th>  AIC                </th> <td>1007.162</td>\n",
       "</tr>\n",
       "<tr>\n",
       "  <th>Time:</th>                <td>21:50:21</td>     <th>  BIC                </th> <td>1010.082</td>\n",
       "</tr>\n",
       "<tr>\n",
       "  <th>Sample:</th>             <td>07-01-2005</td>    <th>  HQIC               </th> <td>1008.348</td>\n",
       "</tr>\n",
       "<tr>\n",
       "  <th></th>                   <td>- 12-01-2016</td>   <th>                     </th>     <td> </td>   \n",
       "</tr>\n",
       "<tr>\n",
       "  <th>Covariance Type:</th>        <td>opg</td>       <th>                     </th>     <td> </td>   \n",
       "</tr>\n",
       "</table>\n",
       "<table class=\"simpletable\">\n",
       "<tr>\n",
       "     <td></td>       <th>coef</th>     <th>std err</th>      <th>z</th>      <th>P>|z|</th>  <th>[0.025</th>    <th>0.975]</th>  \n",
       "</tr>\n",
       "<tr>\n",
       "  <th>sigma2</th> <td>   89.9334</td> <td>    7.309</td> <td>   12.304</td> <td> 0.000</td> <td>   75.607</td> <td>  104.260</td>\n",
       "</tr>\n",
       "</table>\n",
       "<table class=\"simpletable\">\n",
       "<tr>\n",
       "  <th>Ljung-Box (L1) (Q):</th>     <td>2.37</td>  <th>  Jarque-Bera (JB):  </th> <td>34.07</td>\n",
       "</tr>\n",
       "<tr>\n",
       "  <th>Prob(Q):</th>                <td>0.12</td>  <th>  Prob(JB):          </th> <td>0.00</td> \n",
       "</tr>\n",
       "<tr>\n",
       "  <th>Heteroskedasticity (H):</th> <td>13.24</td> <th>  Skew:              </th> <td>0.26</td> \n",
       "</tr>\n",
       "<tr>\n",
       "  <th>Prob(H) (two-sided):</th>    <td>0.00</td>  <th>  Kurtosis:          </th> <td>5.39</td> \n",
       "</tr>\n",
       "</table><br/><br/>Warnings:<br/>[1] Covariance matrix calculated using the outer product of gradients (complex-step)."
      ],
      "text/latex": [
       "\\begin{center}\n",
       "\\begin{tabular}{lclc}\n",
       "\\toprule\n",
       "\\textbf{Dep. Variable:}          &      Close       & \\textbf{  No. Observations:  } &    138      \\\\\n",
       "\\textbf{Model:}                  & SARIMAX(0, 1, 0) & \\textbf{  Log Likelihood     } &  -502.581   \\\\\n",
       "\\textbf{Date:}                   & Wed, 31 Jul 2024 & \\textbf{  AIC                } &  1007.162   \\\\\n",
       "\\textbf{Time:}                   &     21:50:21     & \\textbf{  BIC                } &  1010.082   \\\\\n",
       "\\textbf{Sample:}                 &    07-01-2005    & \\textbf{  HQIC               } &  1008.348   \\\\\n",
       "\\textbf{}                        &   - 12-01-2016   & \\textbf{                     } &             \\\\\n",
       "\\textbf{Covariance Type:}        &       opg        & \\textbf{                     } &             \\\\\n",
       "\\bottomrule\n",
       "\\end{tabular}\n",
       "\\begin{tabular}{lcccccc}\n",
       "                & \\textbf{coef} & \\textbf{std err} & \\textbf{z} & \\textbf{P$> |$z$|$} & \\textbf{[0.025} & \\textbf{0.975]}  \\\\\n",
       "\\midrule\n",
       "\\textbf{sigma2} &      89.9334  &        7.309     &    12.304  &         0.000        &       75.607    &      104.260     \\\\\n",
       "\\bottomrule\n",
       "\\end{tabular}\n",
       "\\begin{tabular}{lclc}\n",
       "\\textbf{Ljung-Box (L1) (Q):}     &  2.37 & \\textbf{  Jarque-Bera (JB):  } & 34.07  \\\\\n",
       "\\textbf{Prob(Q):}                &  0.12 & \\textbf{  Prob(JB):          } &  0.00  \\\\\n",
       "\\textbf{Heteroskedasticity (H):} & 13.24 & \\textbf{  Skew:              } &  0.26  \\\\\n",
       "\\textbf{Prob(H) (two-sided):}    &  0.00 & \\textbf{  Kurtosis:          } &  5.39  \\\\\n",
       "\\bottomrule\n",
       "\\end{tabular}\n",
       "%\\caption{SARIMAX Results}\n",
       "\\end{center}\n",
       "\n",
       "Warnings: \\newline\n",
       " [1] Covariance matrix calculated using the outer product of gradients (complex-step)."
      ],
      "text/plain": [
       "<class 'statsmodels.iolib.summary.Summary'>\n",
       "\"\"\"\n",
       "                               SARIMAX Results                                \n",
       "==============================================================================\n",
       "Dep. Variable:                  Close   No. Observations:                  138\n",
       "Model:               SARIMAX(0, 1, 0)   Log Likelihood                -502.581\n",
       "Date:                Wed, 31 Jul 2024   AIC                           1007.162\n",
       "Time:                        21:50:21   BIC                           1010.082\n",
       "Sample:                    07-01-2005   HQIC                          1008.348\n",
       "                         - 12-01-2016                                         \n",
       "Covariance Type:                  opg                                         \n",
       "==============================================================================\n",
       "                 coef    std err          z      P>|z|      [0.025      0.975]\n",
       "------------------------------------------------------------------------------\n",
       "sigma2        89.9334      7.309     12.304      0.000      75.607     104.260\n",
       "===================================================================================\n",
       "Ljung-Box (L1) (Q):                   2.37   Jarque-Bera (JB):                34.07\n",
       "Prob(Q):                              0.12   Prob(JB):                         0.00\n",
       "Heteroskedasticity (H):              13.24   Skew:                             0.26\n",
       "Prob(H) (two-sided):                  0.00   Kurtosis:                         5.39\n",
       "===================================================================================\n",
       "\n",
       "Warnings:\n",
       "[1] Covariance matrix calculated using the outer product of gradients (complex-step).\n",
       "\"\"\""
      ]
     },
     "execution_count": 34,
     "metadata": {},
     "output_type": "execute_result"
    }
   ],
   "source": [
    "#statsmodel function implementation\n",
    "model2017 = SARIMAX(train2017['Close'],order=(0,1,0))\n",
    "results2017 = model2017.fit(maxiter=200)\n",
    "results2017.summary()"
   ]
  },
  {
   "cell_type": "code",
   "execution_count": 35,
   "metadata": {
    "papermill": {
     "duration": 0.111762,
     "end_time": "2020-11-26T15:08:23.280802",
     "exception": false,
     "start_time": "2020-11-26T15:08:23.169040",
     "status": "completed"
    },
    "tags": []
   },
   "outputs": [],
   "source": [
    "# Obtain predicted values\n",
    "start2017=len(train2017)\n",
    "end2017=len(train2017)+len(test2017)-1\n",
    "predictions2017 = results2017.predict(start=start2017, end=end2017, dynamic=False, typ='levels', full_results = True).rename('SARIMA Predictions 2017')"
   ]
  },
  {
   "cell_type": "code",
   "execution_count": 36,
   "metadata": {
    "papermill": {
     "duration": 0.099185,
     "end_time": "2020-11-26T15:08:23.466958",
     "exception": false,
     "start_time": "2020-11-26T15:08:23.367773",
     "status": "completed"
    },
    "tags": []
   },
   "outputs": [
    {
     "name": "stdout",
     "output_type": "stream",
     "text": [
      "predicted=231.26     , expected=279.1\n",
      "predicted=231.26     , expected=290.56\n",
      "predicted=231.26     , expected=309.82\n",
      "predicted=231.26     , expected=326.14\n",
      "predicted=231.26     , expected=286.38\n",
      "predicted=231.26     , expected=292.37\n",
      "predicted=231.26     , expected=361.96\n",
      "predicted=231.26     , expected=351.15\n",
      "predicted=231.26     , expected=350.0\n",
      "predicted=231.26     , expected=314.35\n",
      "predicted=231.26     , expected=306.8\n",
      "predicted=231.26     , expected=315.05\n"
     ]
    }
   ],
   "source": [
    "# Compare predictions to expected values\n",
    "for i in range(len(predictions2017)):\n",
    "    print(f\"predicted={predictions2017[i]:<11.10}, expected={test2017['Close'][i]}\")"
   ]
  },
  {
   "cell_type": "code",
   "execution_count": 38,
   "metadata": {
    "papermill": {
     "duration": 0.427638,
     "end_time": "2020-11-26T15:08:23.985498",
     "exception": false,
     "start_time": "2020-11-26T15:08:23.557860",
     "status": "completed"
    },
    "tags": []
   },
   "outputs": [
    {
     "data": {
      "image/png": "[encoded data removed]",
      "text/plain": [
       "<Figure size 1200x600 with 1 Axes>"
      ]
     },
     "metadata": {},
     "output_type": "display_data"
    }
   ],
   "source": [
    "import matplotlib.pyplot as plt\n",
    "\n",
    "# Plot the original data\n",
    "plt.figure(figsize=(12, 6))\n",
    "plt.plot(test2017['Close'], label='Original Data', color='blue')\n",
    "\n",
    "# Plot the predictions\n",
    "plt.plot(predictions2017, label='Predictions', color='red')\n",
    "\n",
    "# Add labels and title\n",
    "plt.xlabel('Date')\n",
    "plt.ylabel('Close Price')\n",
    "plt.title('Original Data and Predictions')\n",
    "plt.legend()\n",
    "\n",
    "# Show the plot\n",
    "plt.show()\n"
   ]
  },
  {
   "cell_type": "code",
   "execution_count": 39,
   "metadata": {
    "papermill": {
     "duration": 0.103237,
     "end_time": "2020-11-26T15:08:24.180003",
     "exception": false,
     "start_time": "2020-11-26T15:08:24.076766",
     "status": "completed"
    },
    "tags": []
   },
   "outputs": [
    {
     "name": "stdout",
     "output_type": "stream",
     "text": [
      "SARIMA MSE Error: 7744.831967\n"
     ]
    }
   ],
   "source": [
    "from sklearn.metrics import mean_squared_error\n",
    "\n",
    "error = mean_squared_error(test2017['Close'], predictions2017)\n",
    "print(f'SARIMA MSE Error: {error:11.10}')"
   ]
  },
  {
   "cell_type": "code",
   "execution_count": 40,
   "metadata": {
    "papermill": {
     "duration": 0.123191,
     "end_time": "2020-11-26T15:08:24.754643",
     "exception": false,
     "start_time": "2020-11-26T15:08:24.631452",
     "status": "completed"
    },
    "tags": []
   },
   "outputs": [
    {
     "name": "stdout",
     "output_type": "stream",
     "text": [
      "Results of Dickey-Fuller Test:\n",
      "Test Statistic                   0.430335\n",
      "p-value                          0.982595\n",
      "#Lags Used                       6.000000\n",
      "Number of Observations Used    143.000000\n",
      "Critical Value (1%)             -3.476927\n",
      "Critical Value (5%)             -2.881973\n",
      "Critical Value (10%)            -2.577665\n",
      "dtype: float64\n"
     ]
    }
   ],
   "source": [
    "from statsmodels.tsa.stattools import adfuller\n",
    "def adf_test(timeseries):\n",
    "    #Perform Dickey-Fuller test:\n",
    "    print ('Results of Dickey-Fuller Test:')\n",
    "    dftest = adfuller(timeseries, autolag='AIC')\n",
    "    dfoutput = pd.Series(dftest[0:4], index=['Test Statistic','p-value','#Lags Used','Number of Observations Used'])\n",
    "    for key,value in dftest[4].items():\n",
    "       dfoutput['Critical Value (%s)'%key] = value\n",
    "    print (dfoutput)\n",
    "\n",
    "\n",
    "#apply adf test on the series\n",
    "adf_test(ts2017['Close'])\n",
    "\n",
    "#if test statistic < critical value, series is stationary\n",
    "#series not stationary"
   ]
  },
  {
   "cell_type": "code",
   "execution_count": 41,
   "metadata": {
    "papermill": {
     "duration": 0.301681,
     "end_time": "2020-11-26T15:08:25.331351",
     "exception": false,
     "start_time": "2020-11-26T15:08:25.029670",
     "status": "completed"
    },
    "tags": []
   },
   "outputs": [
    {
     "data": {
      "text/plain": [
       "Text(0.5, 1.0, 'Stock Prices detrended by subtracting the trend component')"
      ]
     },
     "execution_count": 41,
     "metadata": {},
     "output_type": "execute_result"
    },
    {
     "data": {
      "image/png": "[encoded data removed]",
      "text/plain": [
       "<Figure size 640x480 with 1 Axes>"
      ]
     },
     "metadata": {},
     "output_type": "display_data"
    }
   ],
   "source": [
    "# Using statmodels: Subtracting the Trend Component.\n",
    "import matplotlib.pyplot as plt\n",
    "from statsmodels.tsa.seasonal import seasonal_decompose\n",
    "res = seasonal_decompose(ts2017['Close'], extrapolate_trend='freq')\n",
    "detrended = ts2017.Close.values - res.trend\n",
    "plt.plot(detrended)\n",
    "plt.title('Stock Prices detrended by subtracting the trend component', fontsize=16)"
   ]
  },
  {
   "cell_type": "code",
   "execution_count": 42,
   "metadata": {
    "papermill": {
     "duration": 0.109309,
     "end_time": "2020-11-26T15:08:25.534980",
     "exception": false,
     "start_time": "2020-11-26T15:08:25.425671",
     "status": "completed"
    },
    "tags": []
   },
   "outputs": [
    {
     "data": {
      "text/plain": [
       "Date\n",
       "2005-07-01     3.384393\n",
       "2005-08-01     3.424186\n",
       "2005-09-01     2.383979\n",
       "2005-10-01     1.153772\n",
       "2005-11-01     0.653565\n",
       "                ...    \n",
       "2017-08-01    14.190391\n",
       "2017-09-01     4.286888\n",
       "2017-10-01   -40.116616\n",
       "2017-11-01   -56.420120\n",
       "2017-12-01   -56.923624\n",
       "Freq: MS, Name: trend, Length: 150, dtype: float64"
      ]
     },
     "execution_count": 42,
     "metadata": {},
     "output_type": "execute_result"
    }
   ],
   "source": [
    "detrended"
   ]
  },
  {
   "cell_type": "code",
   "execution_count": 43,
   "metadata": {
    "papermill": {
     "duration": 0.103282,
     "end_time": "2020-11-26T15:08:25.731941",
     "exception": false,
     "start_time": "2020-11-26T15:08:25.628659",
     "status": "completed"
    },
    "tags": []
   },
   "outputs": [],
   "source": [
    "detrended =  pd.DataFrame(detrended)"
   ]
  },
  {
   "cell_type": "code",
   "execution_count": 44,
   "metadata": {
    "papermill": {
     "duration": 0.122443,
     "end_time": "2020-11-26T15:08:26.133977",
     "exception": false,
     "start_time": "2020-11-26T15:08:26.011534",
     "status": "completed"
    },
    "tags": []
   },
   "outputs": [
    {
     "name": "stdout",
     "output_type": "stream",
     "text": [
      "Results of Dickey-Fuller Test:\n",
      "Test Statistic                  -5.548965\n",
      "p-value                          0.000002\n",
      "#Lags Used                       6.000000\n",
      "Number of Observations Used    143.000000\n",
      "Critical Value (1%)             -3.476927\n",
      "Critical Value (5%)             -2.881973\n",
      "Critical Value (10%)            -2.577665\n",
      "dtype: float64\n"
     ]
    }
   ],
   "source": [
    "adf_test(detrended.trend)"
   ]
  },
  {
   "cell_type": "code",
   "execution_count": 45,
   "metadata": {
    "papermill": {
     "duration": 0.109491,
     "end_time": "2020-11-26T15:08:26.535136",
     "exception": false,
     "start_time": "2020-11-26T15:08:26.425645",
     "status": "completed"
    },
    "tags": []
   },
   "outputs": [
    {
     "data": {
      "text/plain": [
       "150"
      ]
     },
     "execution_count": 45,
     "metadata": {},
     "output_type": "execute_result"
    }
   ],
   "source": [
    "len(detrended)"
   ]
  },
  {
   "cell_type": "code",
   "execution_count": 46,
   "metadata": {
    "papermill": {
     "duration": 0.109344,
     "end_time": "2020-11-26T15:08:26.741949",
     "exception": false,
     "start_time": "2020-11-26T15:08:26.632605",
     "status": "completed"
    },
    "tags": []
   },
   "outputs": [],
   "source": [
    "# Set one year for testing\n",
    "strain = detrended.iloc[:138]\n",
    "stest = detrended.iloc[138:150]"
   ]
  },
  {
   "cell_type": "code",
   "execution_count": 47,
   "metadata": {
    "papermill": {
     "duration": 0.110083,
     "end_time": "2020-11-26T15:08:26.947588",
     "exception": false,
     "start_time": "2020-11-26T15:08:26.837505",
     "status": "completed"
    },
    "tags": []
   },
   "outputs": [
    {
     "data": {
      "text/html": [
       "<div>\n",
       "<style scoped>\n",
       "    .dataframe tbody tr th:only-of-type {\n",
       "        vertical-align: middle;\n",
       "    }\n",
       "\n",
       "    .dataframe tbody tr th {\n",
       "        vertical-align: top;\n",
       "    }\n",
       "\n",
       "    .dataframe thead th {\n",
       "        text-align: right;\n",
       "    }\n",
       "</style>\n",
       "<table border=\"1\" class=\"dataframe\">\n",
       "  <thead>\n",
       "    <tr style=\"text-align: right;\">\n",
       "      <th></th>\n",
       "      <th>trend</th>\n",
       "    </tr>\n",
       "    <tr>\n",
       "      <th>Date</th>\n",
       "      <th></th>\n",
       "    </tr>\n",
       "  </thead>\n",
       "  <tbody>\n",
       "    <tr>\n",
       "      <th>2017-01-01</th>\n",
       "      <td>1.638333</td>\n",
       "    </tr>\n",
       "    <tr>\n",
       "      <th>2017-02-01</th>\n",
       "      <td>4.885417</td>\n",
       "    </tr>\n",
       "    <tr>\n",
       "      <th>2017-03-01</th>\n",
       "      <td>16.739583</td>\n",
       "    </tr>\n",
       "    <tr>\n",
       "      <th>2017-04-01</th>\n",
       "      <td>26.393750</td>\n",
       "    </tr>\n",
       "    <tr>\n",
       "      <th>2017-05-01</th>\n",
       "      <td>-18.922500</td>\n",
       "    </tr>\n",
       "    <tr>\n",
       "      <th>2017-06-01</th>\n",
       "      <td>-19.445417</td>\n",
       "    </tr>\n",
       "    <tr>\n",
       "      <th>2017-07-01</th>\n",
       "      <td>33.753895</td>\n",
       "    </tr>\n",
       "    <tr>\n",
       "      <th>2017-08-01</th>\n",
       "      <td>14.190391</td>\n",
       "    </tr>\n",
       "    <tr>\n",
       "      <th>2017-09-01</th>\n",
       "      <td>4.286888</td>\n",
       "    </tr>\n",
       "    <tr>\n",
       "      <th>2017-10-01</th>\n",
       "      <td>-40.116616</td>\n",
       "    </tr>\n",
       "    <tr>\n",
       "      <th>2017-11-01</th>\n",
       "      <td>-56.420120</td>\n",
       "    </tr>\n",
       "    <tr>\n",
       "      <th>2017-12-01</th>\n",
       "      <td>-56.923624</td>\n",
       "    </tr>\n",
       "  </tbody>\n",
       "</table>\n",
       "</div>"
      ],
      "text/plain": [
       "                trend\n",
       "Date                 \n",
       "2017-01-01   1.638333\n",
       "2017-02-01   4.885417\n",
       "2017-03-01  16.739583\n",
       "2017-04-01  26.393750\n",
       "2017-05-01 -18.922500\n",
       "2017-06-01 -19.445417\n",
       "2017-07-01  33.753895\n",
       "2017-08-01  14.190391\n",
       "2017-09-01   4.286888\n",
       "2017-10-01 -40.116616\n",
       "2017-11-01 -56.420120\n",
       "2017-12-01 -56.923624"
      ]
     },
     "execution_count": 47,
     "metadata": {},
     "output_type": "execute_result"
    }
   ],
   "source": [
    "stest"
   ]
  },
  {
   "cell_type": "code",
   "execution_count": 48,
   "metadata": {
    "papermill": {
     "duration": 27.61052,
     "end_time": "2020-11-26T15:08:54.657079",
     "exception": false,
     "start_time": "2020-11-26T15:08:27.046559",
     "status": "completed"
    },
    "tags": []
   },
   "outputs": [
    {
     "data": {
      "text/html": [
       "<table class=\"simpletable\">\n",
       "<caption>SARIMAX Results</caption>\n",
       "<tr>\n",
       "  <th>Dep. Variable:</th>           <td>y</td>        <th>  No. Observations:  </th>    <td>150</td>  \n",
       "</tr>\n",
       "<tr>\n",
       "  <th>Model:</th>           <td>SARIMAX(4, 0, 2)</td> <th>  Log Likelihood     </th> <td>-552.339</td>\n",
       "</tr>\n",
       "<tr>\n",
       "  <th>Date:</th>            <td>Wed, 31 Jul 2024</td> <th>  AIC                </th> <td>1118.678</td>\n",
       "</tr>\n",
       "<tr>\n",
       "  <th>Time:</th>                <td>21:51:50</td>     <th>  BIC                </th> <td>1139.752</td>\n",
       "</tr>\n",
       "<tr>\n",
       "  <th>Sample:</th>             <td>07-01-2005</td>    <th>  HQIC               </th> <td>1127.240</td>\n",
       "</tr>\n",
       "<tr>\n",
       "  <th></th>                   <td>- 12-01-2017</td>   <th>                     </th>     <td> </td>   \n",
       "</tr>\n",
       "<tr>\n",
       "  <th>Covariance Type:</th>        <td>opg</td>       <th>                     </th>     <td> </td>   \n",
       "</tr>\n",
       "</table>\n",
       "<table class=\"simpletable\">\n",
       "<tr>\n",
       "     <td></td>       <th>coef</th>     <th>std err</th>      <th>z</th>      <th>P>|z|</th>  <th>[0.025</th>    <th>0.975]</th>  \n",
       "</tr>\n",
       "<tr>\n",
       "  <th>ar.L1</th>  <td>    0.0695</td> <td>    0.079</td> <td>    0.883</td> <td> 0.377</td> <td>   -0.085</td> <td>    0.224</td>\n",
       "</tr>\n",
       "<tr>\n",
       "  <th>ar.L2</th>  <td>   -0.5735</td> <td>    0.079</td> <td>   -7.246</td> <td> 0.000</td> <td>   -0.729</td> <td>   -0.418</td>\n",
       "</tr>\n",
       "<tr>\n",
       "  <th>ar.L3</th>  <td>    0.4321</td> <td>    0.051</td> <td>    8.534</td> <td> 0.000</td> <td>    0.333</td> <td>    0.531</td>\n",
       "</tr>\n",
       "<tr>\n",
       "  <th>ar.L4</th>  <td>   -0.4346</td> <td>    0.103</td> <td>   -4.234</td> <td> 0.000</td> <td>   -0.636</td> <td>   -0.233</td>\n",
       "</tr>\n",
       "<tr>\n",
       "  <th>ma.L1</th>  <td>    0.6965</td> <td>    0.051</td> <td>   13.629</td> <td> 0.000</td> <td>    0.596</td> <td>    0.797</td>\n",
       "</tr>\n",
       "<tr>\n",
       "  <th>ma.L2</th>  <td>    0.9425</td> <td>    0.056</td> <td>   16.706</td> <td> 0.000</td> <td>    0.832</td> <td>    1.053</td>\n",
       "</tr>\n",
       "<tr>\n",
       "  <th>sigma2</th> <td>   90.6433</td> <td>    6.551</td> <td>   13.836</td> <td> 0.000</td> <td>   77.803</td> <td>  103.484</td>\n",
       "</tr>\n",
       "</table>\n",
       "<table class=\"simpletable\">\n",
       "<tr>\n",
       "  <th>Ljung-Box (L1) (Q):</th>     <td>0.05</td>  <th>  Jarque-Bera (JB):  </th> <td>131.29</td>\n",
       "</tr>\n",
       "<tr>\n",
       "  <th>Prob(Q):</th>                <td>0.82</td>  <th>  Prob(JB):          </th>  <td>0.00</td> \n",
       "</tr>\n",
       "<tr>\n",
       "  <th>Heteroskedasticity (H):</th> <td>17.85</td> <th>  Skew:              </th>  <td>-0.05</td>\n",
       "</tr>\n",
       "<tr>\n",
       "  <th>Prob(H) (two-sided):</th>    <td>0.00</td>  <th>  Kurtosis:          </th>  <td>7.58</td> \n",
       "</tr>\n",
       "</table><br/><br/>Warnings:<br/>[1] Covariance matrix calculated using the outer product of gradients (complex-step)."
      ],
      "text/latex": [
       "\\begin{center}\n",
       "\\begin{tabular}{lclc}\n",
       "\\toprule\n",
       "\\textbf{Dep. Variable:}          &        y         & \\textbf{  No. Observations:  } &    150      \\\\\n",
       "\\textbf{Model:}                  & SARIMAX(4, 0, 2) & \\textbf{  Log Likelihood     } &  -552.339   \\\\\n",
       "\\textbf{Date:}                   & Wed, 31 Jul 2024 & \\textbf{  AIC                } &  1118.678   \\\\\n",
       "\\textbf{Time:}                   &     21:51:50     & \\textbf{  BIC                } &  1139.752   \\\\\n",
       "\\textbf{Sample:}                 &    07-01-2005    & \\textbf{  HQIC               } &  1127.240   \\\\\n",
       "\\textbf{}                        &   - 12-01-2017   & \\textbf{                     } &             \\\\\n",
       "\\textbf{Covariance Type:}        &       opg        & \\textbf{                     } &             \\\\\n",
       "\\bottomrule\n",
       "\\end{tabular}\n",
       "\\begin{tabular}{lcccccc}\n",
       "                & \\textbf{coef} & \\textbf{std err} & \\textbf{z} & \\textbf{P$> |$z$|$} & \\textbf{[0.025} & \\textbf{0.975]}  \\\\\n",
       "\\midrule\n",
       "\\textbf{ar.L1}  &       0.0695  &        0.079     &     0.883  &         0.377        &       -0.085    &        0.224     \\\\\n",
       "\\textbf{ar.L2}  &      -0.5735  &        0.079     &    -7.246  &         0.000        &       -0.729    &       -0.418     \\\\\n",
       "\\textbf{ar.L3}  &       0.4321  &        0.051     &     8.534  &         0.000        &        0.333    &        0.531     \\\\\n",
       "\\textbf{ar.L4}  &      -0.4346  &        0.103     &    -4.234  &         0.000        &       -0.636    &       -0.233     \\\\\n",
       "\\textbf{ma.L1}  &       0.6965  &        0.051     &    13.629  &         0.000        &        0.596    &        0.797     \\\\\n",
       "\\textbf{ma.L2}  &       0.9425  &        0.056     &    16.706  &         0.000        &        0.832    &        1.053     \\\\\n",
       "\\textbf{sigma2} &      90.6433  &        6.551     &    13.836  &         0.000        &       77.803    &      103.484     \\\\\n",
       "\\bottomrule\n",
       "\\end{tabular}\n",
       "\\begin{tabular}{lclc}\n",
       "\\textbf{Ljung-Box (L1) (Q):}     &  0.05 & \\textbf{  Jarque-Bera (JB):  } & 131.29  \\\\\n",
       "\\textbf{Prob(Q):}                &  0.82 & \\textbf{  Prob(JB):          } &  0.00   \\\\\n",
       "\\textbf{Heteroskedasticity (H):} & 17.85 & \\textbf{  Skew:              } & -0.05   \\\\\n",
       "\\textbf{Prob(H) (two-sided):}    &  0.00 & \\textbf{  Kurtosis:          } &  7.58   \\\\\n",
       "\\bottomrule\n",
       "\\end{tabular}\n",
       "%\\caption{SARIMAX Results}\n",
       "\\end{center}\n",
       "\n",
       "Warnings: \\newline\n",
       " [1] Covariance matrix calculated using the outer product of gradients (complex-step)."
      ],
      "text/plain": [
       "<class 'statsmodels.iolib.summary.Summary'>\n",
       "\"\"\"\n",
       "                               SARIMAX Results                                \n",
       "==============================================================================\n",
       "Dep. Variable:                      y   No. Observations:                  150\n",
       "Model:               SARIMAX(4, 0, 2)   Log Likelihood                -552.339\n",
       "Date:                Wed, 31 Jul 2024   AIC                           1118.678\n",
       "Time:                        21:51:50   BIC                           1139.752\n",
       "Sample:                    07-01-2005   HQIC                          1127.240\n",
       "                         - 12-01-2017                                         \n",
       "Covariance Type:                  opg                                         \n",
       "==============================================================================\n",
       "                 coef    std err          z      P>|z|      [0.025      0.975]\n",
       "------------------------------------------------------------------------------\n",
       "ar.L1          0.0695      0.079      0.883      0.377      -0.085       0.224\n",
       "ar.L2         -0.5735      0.079     -7.246      0.000      -0.729      -0.418\n",
       "ar.L3          0.4321      0.051      8.534      0.000       0.333       0.531\n",
       "ar.L4         -0.4346      0.103     -4.234      0.000      -0.636      -0.233\n",
       "ma.L1          0.6965      0.051     13.629      0.000       0.596       0.797\n",
       "ma.L2          0.9425      0.056     16.706      0.000       0.832       1.053\n",
       "sigma2        90.6433      6.551     13.836      0.000      77.803     103.484\n",
       "===================================================================================\n",
       "Ljung-Box (L1) (Q):                   0.05   Jarque-Bera (JB):               131.29\n",
       "Prob(Q):                              0.82   Prob(JB):                         0.00\n",
       "Heteroskedasticity (H):              17.85   Skew:                            -0.05\n",
       "Prob(H) (two-sided):                  0.00   Kurtosis:                         7.58\n",
       "===================================================================================\n",
       "\n",
       "Warnings:\n",
       "[1] Covariance matrix calculated using the outer product of gradients (complex-step).\n",
       "\"\"\""
      ]
     },
     "execution_count": 48,
     "metadata": {},
     "output_type": "execute_result"
    }
   ],
   "source": [
    "#SARIMA\n",
    "auto_arima(detrended.trend,m=12,seasonal = True,maxiter=200).summary()"
   ]
  },
  {
   "cell_type": "code",
   "execution_count": 49,
   "metadata": {
    "papermill": {
     "duration": 0.456942,
     "end_time": "2020-11-26T15:08:55.212941",
     "exception": false,
     "start_time": "2020-11-26T15:08:54.755999",
     "status": "completed"
    },
    "tags": []
   },
   "outputs": [
    {
     "name": "stdout",
     "output_type": "stream",
     "text": [
      "RUNNING THE L-BFGS-B CODE\n",
      "\n",
      "           * * *\n",
      "\n",
      "Machine precision = 2.220D-16\n",
      " N =            7     M =           10\n",
      "\n",
      "At X0         0 variables are exactly at the bounds\n",
      "\n",
      "At iterate    0    f=  4.08870D+00    |proj g|=  9.58591D-01\n",
      "\n",
      "At iterate    5    f=  3.71351D+00    |proj g|=  1.44652D-02\n",
      "\n",
      "At iterate   10    f=  3.70010D+00    |proj g|=  1.01305D-01\n",
      "\n",
      "At iterate   15    f=  3.69154D+00    |proj g|=  3.82573D-02\n",
      "\n",
      "At iterate   20    f=  3.68306D+00    |proj g|=  1.57984D-02\n",
      "\n",
      "At iterate   25    f=  3.68244D+00    |proj g|=  4.12796D-03\n",
      "\n",
      "At iterate   30    f=  3.68232D+00    |proj g|=  8.03499D-03\n",
      "\n",
      "At iterate   35    f=  3.68226D+00    |proj g|=  1.79709D-03\n",
      "\n",
      "           * * *\n",
      "\n",
      "Tit   = total number of iterations\n",
      "Tnf   = total number of function evaluations\n",
      "Tnint = total number of segments explored during Cauchy searches\n",
      "Skip  = number of BFGS updates skipped\n",
      "Nact  = number of active bounds at final generalized Cauchy point\n",
      "Projg = norm of the final projected gradient\n",
      "F     = final function value\n",
      "\n",
      "           * * *\n",
      "\n",
      "   N    Tit     Tnf  Tnint  Skip  Nact     Projg        F\n",
      "    7     39     44      1     0     0   6.344D-05   3.682D+00\n",
      "  F =   3.6822593103020465     \n",
      "\n",
      "CONVERGENCE: REL_REDUCTION_OF_F_<=_FACTR*EPSMCH             \n"
     ]
    },
    {
     "name": "stderr",
     "output_type": "stream",
     "text": [
      " This problem is unconstrained.\n"
     ]
    },
    {
     "data": {
      "text/html": [
       "<table class=\"simpletable\">\n",
       "<caption>SARIMAX Results</caption>\n",
       "<tr>\n",
       "  <th>Dep. Variable:</th>         <td>trend</td>      <th>  No. Observations:  </th>    <td>150</td>  \n",
       "</tr>\n",
       "<tr>\n",
       "  <th>Model:</th>           <td>SARIMAX(4, 0, 2)</td> <th>  Log Likelihood     </th> <td>-552.339</td>\n",
       "</tr>\n",
       "<tr>\n",
       "  <th>Date:</th>            <td>Wed, 31 Jul 2024</td> <th>  AIC                </th> <td>1118.678</td>\n",
       "</tr>\n",
       "<tr>\n",
       "  <th>Time:</th>                <td>21:51:54</td>     <th>  BIC                </th> <td>1139.752</td>\n",
       "</tr>\n",
       "<tr>\n",
       "  <th>Sample:</th>             <td>07-01-2005</td>    <th>  HQIC               </th> <td>1127.240</td>\n",
       "</tr>\n",
       "<tr>\n",
       "  <th></th>                   <td>- 12-01-2017</td>   <th>                     </th>     <td> </td>   \n",
       "</tr>\n",
       "<tr>\n",
       "  <th>Covariance Type:</th>        <td>opg</td>       <th>                     </th>     <td> </td>   \n",
       "</tr>\n",
       "</table>\n",
       "<table class=\"simpletable\">\n",
       "<tr>\n",
       "     <td></td>       <th>coef</th>     <th>std err</th>      <th>z</th>      <th>P>|z|</th>  <th>[0.025</th>    <th>0.975]</th>  \n",
       "</tr>\n",
       "<tr>\n",
       "  <th>ar.L1</th>  <td>    0.0695</td> <td>    0.079</td> <td>    0.883</td> <td> 0.377</td> <td>   -0.085</td> <td>    0.224</td>\n",
       "</tr>\n",
       "<tr>\n",
       "  <th>ar.L2</th>  <td>   -0.5735</td> <td>    0.079</td> <td>   -7.246</td> <td> 0.000</td> <td>   -0.729</td> <td>   -0.418</td>\n",
       "</tr>\n",
       "<tr>\n",
       "  <th>ar.L3</th>  <td>    0.4321</td> <td>    0.051</td> <td>    8.534</td> <td> 0.000</td> <td>    0.333</td> <td>    0.531</td>\n",
       "</tr>\n",
       "<tr>\n",
       "  <th>ar.L4</th>  <td>   -0.4346</td> <td>    0.103</td> <td>   -4.234</td> <td> 0.000</td> <td>   -0.636</td> <td>   -0.233</td>\n",
       "</tr>\n",
       "<tr>\n",
       "  <th>ma.L1</th>  <td>    0.6965</td> <td>    0.051</td> <td>   13.629</td> <td> 0.000</td> <td>    0.596</td> <td>    0.797</td>\n",
       "</tr>\n",
       "<tr>\n",
       "  <th>ma.L2</th>  <td>    0.9425</td> <td>    0.056</td> <td>   16.706</td> <td> 0.000</td> <td>    0.832</td> <td>    1.053</td>\n",
       "</tr>\n",
       "<tr>\n",
       "  <th>sigma2</th> <td>   90.6433</td> <td>    6.551</td> <td>   13.836</td> <td> 0.000</td> <td>   77.803</td> <td>  103.484</td>\n",
       "</tr>\n",
       "</table>\n",
       "<table class=\"simpletable\">\n",
       "<tr>\n",
       "  <th>Ljung-Box (L1) (Q):</th>     <td>0.05</td>  <th>  Jarque-Bera (JB):  </th> <td>131.29</td>\n",
       "</tr>\n",
       "<tr>\n",
       "  <th>Prob(Q):</th>                <td>0.82</td>  <th>  Prob(JB):          </th>  <td>0.00</td> \n",
       "</tr>\n",
       "<tr>\n",
       "  <th>Heteroskedasticity (H):</th> <td>17.85</td> <th>  Skew:              </th>  <td>-0.05</td>\n",
       "</tr>\n",
       "<tr>\n",
       "  <th>Prob(H) (two-sided):</th>    <td>0.00</td>  <th>  Kurtosis:          </th>  <td>7.58</td> \n",
       "</tr>\n",
       "</table><br/><br/>Warnings:<br/>[1] Covariance matrix calculated using the outer product of gradients (complex-step)."
      ],
      "text/latex": [
       "\\begin{center}\n",
       "\\begin{tabular}{lclc}\n",
       "\\toprule\n",
       "\\textbf{Dep. Variable:}          &      trend       & \\textbf{  No. Observations:  } &    150      \\\\\n",
       "\\textbf{Model:}                  & SARIMAX(4, 0, 2) & \\textbf{  Log Likelihood     } &  -552.339   \\\\\n",
       "\\textbf{Date:}                   & Wed, 31 Jul 2024 & \\textbf{  AIC                } &  1118.678   \\\\\n",
       "\\textbf{Time:}                   &     21:51:54     & \\textbf{  BIC                } &  1139.752   \\\\\n",
       "\\textbf{Sample:}                 &    07-01-2005    & \\textbf{  HQIC               } &  1127.240   \\\\\n",
       "\\textbf{}                        &   - 12-01-2017   & \\textbf{                     } &             \\\\\n",
       "\\textbf{Covariance Type:}        &       opg        & \\textbf{                     } &             \\\\\n",
       "\\bottomrule\n",
       "\\end{tabular}\n",
       "\\begin{tabular}{lcccccc}\n",
       "                & \\textbf{coef} & \\textbf{std err} & \\textbf{z} & \\textbf{P$> |$z$|$} & \\textbf{[0.025} & \\textbf{0.975]}  \\\\\n",
       "\\midrule\n",
       "\\textbf{ar.L1}  &       0.0695  &        0.079     &     0.883  &         0.377        &       -0.085    &        0.224     \\\\\n",
       "\\textbf{ar.L2}  &      -0.5735  &        0.079     &    -7.246  &         0.000        &       -0.729    &       -0.418     \\\\\n",
       "\\textbf{ar.L3}  &       0.4321  &        0.051     &     8.534  &         0.000        &        0.333    &        0.531     \\\\\n",
       "\\textbf{ar.L4}  &      -0.4346  &        0.103     &    -4.234  &         0.000        &       -0.636    &       -0.233     \\\\\n",
       "\\textbf{ma.L1}  &       0.6965  &        0.051     &    13.629  &         0.000        &        0.596    &        0.797     \\\\\n",
       "\\textbf{ma.L2}  &       0.9425  &        0.056     &    16.706  &         0.000        &        0.832    &        1.053     \\\\\n",
       "\\textbf{sigma2} &      90.6433  &        6.551     &    13.836  &         0.000        &       77.803    &      103.484     \\\\\n",
       "\\bottomrule\n",
       "\\end{tabular}\n",
       "\\begin{tabular}{lclc}\n",
       "\\textbf{Ljung-Box (L1) (Q):}     &  0.05 & \\textbf{  Jarque-Bera (JB):  } & 131.29  \\\\\n",
       "\\textbf{Prob(Q):}                &  0.82 & \\textbf{  Prob(JB):          } &  0.00   \\\\\n",
       "\\textbf{Heteroskedasticity (H):} & 17.85 & \\textbf{  Skew:              } & -0.05   \\\\\n",
       "\\textbf{Prob(H) (two-sided):}    &  0.00 & \\textbf{  Kurtosis:          } &  7.58   \\\\\n",
       "\\bottomrule\n",
       "\\end{tabular}\n",
       "%\\caption{SARIMAX Results}\n",
       "\\end{center}\n",
       "\n",
       "Warnings: \\newline\n",
       " [1] Covariance matrix calculated using the outer product of gradients (complex-step)."
      ],
      "text/plain": [
       "<class 'statsmodels.iolib.summary.Summary'>\n",
       "\"\"\"\n",
       "                               SARIMAX Results                                \n",
       "==============================================================================\n",
       "Dep. Variable:                  trend   No. Observations:                  150\n",
       "Model:               SARIMAX(4, 0, 2)   Log Likelihood                -552.339\n",
       "Date:                Wed, 31 Jul 2024   AIC                           1118.678\n",
       "Time:                        21:51:54   BIC                           1139.752\n",
       "Sample:                    07-01-2005   HQIC                          1127.240\n",
       "                         - 12-01-2017                                         \n",
       "Covariance Type:                  opg                                         \n",
       "==============================================================================\n",
       "                 coef    std err          z      P>|z|      [0.025      0.975]\n",
       "------------------------------------------------------------------------------\n",
       "ar.L1          0.0695      0.079      0.883      0.377      -0.085       0.224\n",
       "ar.L2         -0.5735      0.079     -7.246      0.000      -0.729      -0.418\n",
       "ar.L3          0.4321      0.051      8.534      0.000       0.333       0.531\n",
       "ar.L4         -0.4346      0.103     -4.234      0.000      -0.636      -0.233\n",
       "ma.L1          0.6965      0.051     13.629      0.000       0.596       0.797\n",
       "ma.L2          0.9425      0.056     16.706      0.000       0.832       1.053\n",
       "sigma2        90.6433      6.551     13.836      0.000      77.803     103.484\n",
       "===================================================================================\n",
       "Ljung-Box (L1) (Q):                   0.05   Jarque-Bera (JB):               131.29\n",
       "Prob(Q):                              0.82   Prob(JB):                         0.00\n",
       "Heteroskedasticity (H):              17.85   Skew:                            -0.05\n",
       "Prob(H) (two-sided):                  0.00   Kurtosis:                         7.58\n",
       "===================================================================================\n",
       "\n",
       "Warnings:\n",
       "[1] Covariance matrix calculated using the outer product of gradients (complex-step).\n",
       "\"\"\""
      ]
     },
     "execution_count": 49,
     "metadata": {},
     "output_type": "execute_result"
    }
   ],
   "source": [
    "smodel = SARIMAX(detrended['trend'],order=(4,0,2))\n",
    "sresults = smodel.fit(maxiter=200)\n",
    "sresults.summary()"
   ]
  },
  {
   "cell_type": "code",
   "execution_count": 50,
   "metadata": {
    "papermill": {
     "duration": 0.113487,
     "end_time": "2020-11-26T15:08:55.427252",
     "exception": false,
     "start_time": "2020-11-26T15:08:55.313765",
     "status": "completed"
    },
    "tags": []
   },
   "outputs": [],
   "source": [
    "# Obtain predicted values\n",
    "sstart=len(strain)\n",
    "send=len(strain)+len(stest)-1\n",
    "spredictions = sresults.predict(start=sstart, end=send, dynamic=False, typ='levels', full_results = True).rename('SARIMA Predictions Detrended')"
   ]
  },
  {
   "cell_type": "code",
   "execution_count": 51,
   "metadata": {
    "papermill": {
     "duration": 0.111089,
     "end_time": "2020-11-26T15:08:55.637205",
     "exception": false,
     "start_time": "2020-11-26T15:08:55.526116",
     "status": "completed"
    },
    "tags": []
   },
   "outputs": [
    {
     "name": "stdout",
     "output_type": "stream",
     "text": [
      "predicted=-16.32393822, expected=1.638333333333378\n",
      "predicted=8.174457663, expected=4.885416666666686\n",
      "predicted=10.08840523, expected=16.73958333333337\n",
      "predicted=17.24922706, expected=26.39375000000001\n",
      "predicted=6.272418205, expected=-18.922499999999957\n",
      "predicted=-20.27062391, expected=-19.44541666666663\n",
      "predicted=-9.544082791, expected=33.753895202020146\n",
      "predicted=24.78472902, expected=14.190391414141345\n",
      "predicted=14.88322698, expected=4.286887626262569\n",
      "predicted=-2.169490772, expected=-40.11661616161621\n",
      "predicted=-50.20290452, expected=-56.42011994949502\n",
      "predicted=-25.32954716, expected=-56.923623737373816\n"
     ]
    }
   ],
   "source": [
    "# Compare predictions to expected values\n",
    "for i in range(len(spredictions)):\n",
    "    print(f\"predicted={spredictions[i]:<11.10}, expected={stest['trend'][i]}\")"
   ]
  },
  {
   "cell_type": "code",
   "execution_count": 53,
   "metadata": {
    "papermill": {
     "duration": 0.329666,
     "end_time": "2020-11-26T15:08:56.065639",
     "exception": false,
     "start_time": "2020-11-26T15:08:55.735973",
     "status": "completed"
    },
    "tags": []
   },
   "outputs": [
    {
     "data": {
      "image/png": "[encoded data removed]",
      "text/plain": [
       "<Figure size 1200x600 with 1 Axes>"
      ]
     },
     "metadata": {},
     "output_type": "display_data"
    }
   ],
   "source": [
    "import matplotlib.pyplot as plt\n",
    "\n",
    "# Plotting the trend data\n",
    "plt.figure(figsize=(12, 6))\n",
    "plt.plot(stest['trend'], label='Trend', color='blue')\n",
    "\n",
    "# Plotting the predictions\n",
    "plt.plot(spredictions, label='Predictions', color='red')\n",
    "\n",
    "# Adding labels and title\n",
    "plt.xlabel('Date')\n",
    "plt.ylabel('Value')\n",
    "plt.title('Trend vs Predictions')\n",
    "plt.legend()\n",
    "\n",
    "# Show the plot\n",
    "plt.show()\n"
   ]
  },
  {
   "cell_type": "code",
   "execution_count": 54,
   "metadata": {
    "papermill": {
     "duration": 0.112676,
     "end_time": "2020-11-26T15:08:56.278689",
     "exception": false,
     "start_time": "2020-11-26T15:08:56.166013",
     "status": "completed"
    },
    "tags": []
   },
   "outputs": [
    {
     "name": "stdout",
     "output_type": "stream",
     "text": [
      "SARIMA MSE Error: 472.7372828\n"
     ]
    }
   ],
   "source": [
    "from sklearn.metrics import mean_squared_error\n",
    "\n",
    "error = mean_squared_error(stest['trend'], spredictions)\n",
    "print(f'SARIMA MSE Error: {error:11.10}')"
   ]
  },
  {
   "cell_type": "code",
   "execution_count": 55,
   "metadata": {
    "papermill": {
     "duration": 0.116498,
     "end_time": "2020-11-26T15:08:56.697542",
     "exception": false,
     "start_time": "2020-11-26T15:08:56.581044",
     "status": "completed"
    },
    "tags": []
   },
   "outputs": [
    {
     "data": {
      "text/plain": [
       "Date\n",
       "2005-07-01      9.075607\n",
       "2005-08-01      9.995814\n",
       "2005-09-01     10.916021\n",
       "2005-10-01     11.836228\n",
       "2005-11-01     12.756435\n",
       "                 ...    \n",
       "2017-08-01    336.959609\n",
       "2017-09-01    345.713112\n",
       "2017-10-01    354.466616\n",
       "2017-11-01    363.220120\n",
       "2017-12-01    371.973624\n",
       "Freq: MS, Name: trend, Length: 150, dtype: float64"
      ]
     },
     "execution_count": 55,
     "metadata": {},
     "output_type": "execute_result"
    }
   ],
   "source": [
    "res.trend"
   ]
  },
  {
   "cell_type": "code",
   "execution_count": 56,
   "metadata": {
    "papermill": {
     "duration": 0.282578,
     "end_time": "2020-11-26T15:08:57.082087",
     "exception": false,
     "start_time": "2020-11-26T15:08:56.799509",
     "status": "completed"
    },
    "tags": []
   },
   "outputs": [
    {
     "data": {
      "text/plain": [
       "[<matplotlib.lines.Line2D at 0x156fa7a90>]"
      ]
     },
     "execution_count": 56,
     "metadata": {},
     "output_type": "execute_result"
    },
    {
     "data": {
      "image/png": "[encoded data removed]",
      "text/plain": [
       "<Figure size 640x480 with 1 Axes>"
      ]
     },
     "metadata": {},
     "output_type": "display_data"
    }
   ],
   "source": [
    "plt.plot(res.trend)"
   ]
  },
  {
   "cell_type": "code",
   "execution_count": 58,
   "metadata": {
    "papermill": {
     "duration": 0.114499,
     "end_time": "2020-11-26T15:08:57.299132",
     "exception": false,
     "start_time": "2020-11-26T15:08:57.184633",
     "status": "completed"
    },
    "tags": []
   },
   "outputs": [],
   "source": [
    "trendy = pd.DataFrame(res.trend)"
   ]
  },
  {
   "cell_type": "code",
   "execution_count": 59,
   "metadata": {
    "papermill": {
     "duration": 0.977658,
     "end_time": "2020-11-26T15:08:58.382201",
     "exception": false,
     "start_time": "2020-11-26T15:08:57.404543",
     "status": "completed"
    },
    "tags": []
   },
   "outputs": [
    {
     "data": {
      "text/html": [
       "<table class=\"simpletable\">\n",
       "<caption>SARIMAX Results</caption>\n",
       "<tr>\n",
       "  <th>Dep. Variable:</th>           <td>y</td>        <th>  No. Observations:  </th>    <td>150</td>  \n",
       "</tr>\n",
       "<tr>\n",
       "  <th>Model:</th>           <td>SARIMAX(0, 2, 0)</td> <th>  Log Likelihood     </th> <td>-256.762</td>\n",
       "</tr>\n",
       "<tr>\n",
       "  <th>Date:</th>            <td>Wed, 31 Jul 2024</td> <th>  AIC                </th>  <td>515.523</td>\n",
       "</tr>\n",
       "<tr>\n",
       "  <th>Time:</th>                <td>21:52:43</td>     <th>  BIC                </th>  <td>518.521</td>\n",
       "</tr>\n",
       "<tr>\n",
       "  <th>Sample:</th>             <td>07-01-2005</td>    <th>  HQIC               </th>  <td>516.741</td>\n",
       "</tr>\n",
       "<tr>\n",
       "  <th></th>                   <td>- 12-01-2017</td>   <th>                     </th>     <td> </td>   \n",
       "</tr>\n",
       "<tr>\n",
       "  <th>Covariance Type:</th>        <td>opg</td>       <th>                     </th>     <td> </td>   \n",
       "</tr>\n",
       "</table>\n",
       "<table class=\"simpletable\">\n",
       "<tr>\n",
       "     <td></td>       <th>coef</th>     <th>std err</th>      <th>z</th>      <th>P>|z|</th>  <th>[0.025</th>    <th>0.975]</th>  \n",
       "</tr>\n",
       "<tr>\n",
       "  <th>sigma2</th> <td>    1.8811</td> <td>    0.062</td> <td>   30.156</td> <td> 0.000</td> <td>    1.759</td> <td>    2.003</td>\n",
       "</tr>\n",
       "</table>\n",
       "<table class=\"simpletable\">\n",
       "<tr>\n",
       "  <th>Ljung-Box (L1) (Q):</th>     <td>0.05</td>  <th>  Jarque-Bera (JB):  </th> <td>3150.82</td>\n",
       "</tr>\n",
       "<tr>\n",
       "  <th>Prob(Q):</th>                <td>0.82</td>  <th>  Prob(JB):          </th>  <td>0.00</td>  \n",
       "</tr>\n",
       "<tr>\n",
       "  <th>Heteroskedasticity (H):</th> <td>20.45</td> <th>  Skew:              </th>  <td>1.41</td>  \n",
       "</tr>\n",
       "<tr>\n",
       "  <th>Prob(H) (two-sided):</th>    <td>0.00</td>  <th>  Kurtosis:          </th>  <td>25.43</td> \n",
       "</tr>\n",
       "</table><br/><br/>Warnings:<br/>[1] Covariance matrix calculated using the outer product of gradients (complex-step)."
      ],
      "text/latex": [
       "\\begin{center}\n",
       "\\begin{tabular}{lclc}\n",
       "\\toprule\n",
       "\\textbf{Dep. Variable:}          &        y         & \\textbf{  No. Observations:  } &    150      \\\\\n",
       "\\textbf{Model:}                  & SARIMAX(0, 2, 0) & \\textbf{  Log Likelihood     } &  -256.762   \\\\\n",
       "\\textbf{Date:}                   & Wed, 31 Jul 2024 & \\textbf{  AIC                } &  515.523    \\\\\n",
       "\\textbf{Time:}                   &     21:52:43     & \\textbf{  BIC                } &  518.521    \\\\\n",
       "\\textbf{Sample:}                 &    07-01-2005    & \\textbf{  HQIC               } &  516.741    \\\\\n",
       "\\textbf{}                        &   - 12-01-2017   & \\textbf{                     } &             \\\\\n",
       "\\textbf{Covariance Type:}        &       opg        & \\textbf{                     } &             \\\\\n",
       "\\bottomrule\n",
       "\\end{tabular}\n",
       "\\begin{tabular}{lcccccc}\n",
       "                & \\textbf{coef} & \\textbf{std err} & \\textbf{z} & \\textbf{P$> |$z$|$} & \\textbf{[0.025} & \\textbf{0.975]}  \\\\\n",
       "\\midrule\n",
       "\\textbf{sigma2} &       1.8811  &        0.062     &    30.156  &         0.000        &        1.759    &        2.003     \\\\\n",
       "\\bottomrule\n",
       "\\end{tabular}\n",
       "\\begin{tabular}{lclc}\n",
       "\\textbf{Ljung-Box (L1) (Q):}     &  0.05 & \\textbf{  Jarque-Bera (JB):  } & 3150.82  \\\\\n",
       "\\textbf{Prob(Q):}                &  0.82 & \\textbf{  Prob(JB):          } &   0.00   \\\\\n",
       "\\textbf{Heteroskedasticity (H):} & 20.45 & \\textbf{  Skew:              } &   1.41   \\\\\n",
       "\\textbf{Prob(H) (two-sided):}    &  0.00 & \\textbf{  Kurtosis:          } &  25.43   \\\\\n",
       "\\bottomrule\n",
       "\\end{tabular}\n",
       "%\\caption{SARIMAX Results}\n",
       "\\end{center}\n",
       "\n",
       "Warnings: \\newline\n",
       " [1] Covariance matrix calculated using the outer product of gradients (complex-step)."
      ],
      "text/plain": [
       "<class 'statsmodels.iolib.summary.Summary'>\n",
       "\"\"\"\n",
       "                               SARIMAX Results                                \n",
       "==============================================================================\n",
       "Dep. Variable:                      y   No. Observations:                  150\n",
       "Model:               SARIMAX(0, 2, 0)   Log Likelihood                -256.762\n",
       "Date:                Wed, 31 Jul 2024   AIC                            515.523\n",
       "Time:                        21:52:43   BIC                            518.521\n",
       "Sample:                    07-01-2005   HQIC                           516.741\n",
       "                         - 12-01-2017                                         \n",
       "Covariance Type:                  opg                                         \n",
       "==============================================================================\n",
       "                 coef    std err          z      P>|z|      [0.025      0.975]\n",
       "------------------------------------------------------------------------------\n",
       "sigma2         1.8811      0.062     30.156      0.000       1.759       2.003\n",
       "===================================================================================\n",
       "Ljung-Box (L1) (Q):                   0.05   Jarque-Bera (JB):              3150.82\n",
       "Prob(Q):                              0.82   Prob(JB):                         0.00\n",
       "Heteroskedasticity (H):              20.45   Skew:                             1.41\n",
       "Prob(H) (two-sided):                  0.00   Kurtosis:                        25.43\n",
       "===================================================================================\n",
       "\n",
       "Warnings:\n",
       "[1] Covariance matrix calculated using the outer product of gradients (complex-step).\n",
       "\"\"\""
      ]
     },
     "execution_count": 59,
     "metadata": {},
     "output_type": "execute_result"
    }
   ],
   "source": [
    "#SARIMA\n",
    "auto_arima(trendy.trend,m=12,seasonal = False, maxiter=200).summary()"
   ]
  },
  {
   "cell_type": "code",
   "execution_count": 60,
   "metadata": {
    "papermill": {
     "duration": 0.130059,
     "end_time": "2020-11-26T15:08:58.668396",
     "exception": false,
     "start_time": "2020-11-26T15:08:58.538337",
     "status": "completed"
    },
    "tags": []
   },
   "outputs": [],
   "source": [
    "# Set one year for testing\n",
    "traint = trendy.iloc[:138]\n",
    "testt = trendy.iloc[138:150]"
   ]
  },
  {
   "cell_type": "code",
   "execution_count": 61,
   "metadata": {
    "papermill": {
     "duration": 0.164049,
     "end_time": "2020-11-26T15:08:58.939081",
     "exception": false,
     "start_time": "2020-11-26T15:08:58.775032",
     "status": "completed"
    },
    "tags": []
   },
   "outputs": [
    {
     "name": "stdout",
     "output_type": "stream",
     "text": [
      "RUNNING THE L-BFGS-B CODE\n",
      "\n",
      "           * * *\n",
      "\n",
      "Machine precision = 2.220D-16\n",
      " N =            1     M =           10\n",
      "\n",
      "At X0         0 variables are exactly at the bounds\n",
      "\n",
      "At iterate    0    f=  1.71179D+00    |proj g|=  9.78129D-03\n",
      "\n",
      "           * * *\n",
      "\n",
      "Tit   = total number of iterations\n",
      "Tnf   = total number of function evaluations\n",
      "Tnint = total number of segments explored during Cauchy searches\n",
      "Skip  = number of BFGS updates skipped\n",
      "Nact  = number of active bounds at final generalized Cauchy point\n",
      "Projg = norm of the final projected gradient\n",
      "F     = final function value\n",
      "\n",
      "           * * *\n",
      "\n",
      "   N    Tit     Tnf  Tnint  Skip  Nact     Projg        F\n",
      "    1      3      5      1     0     0   3.467D-07   1.712D+00\n",
      "  F =   1.7117444600954446     \n",
      "\n",
      "CONVERGENCE: NORM_OF_PROJECTED_GRADIENT_<=_PGTOL            \n"
     ]
    },
    {
     "name": "stderr",
     "output_type": "stream",
     "text": [
      " This problem is unconstrained.\n"
     ]
    },
    {
     "data": {
      "text/html": [
       "<table class=\"simpletable\">\n",
       "<caption>SARIMAX Results</caption>\n",
       "<tr>\n",
       "  <th>Dep. Variable:</th>         <td>trend</td>      <th>  No. Observations:  </th>    <td>150</td>  \n",
       "</tr>\n",
       "<tr>\n",
       "  <th>Model:</th>           <td>SARIMAX(0, 2, 0)</td> <th>  Log Likelihood     </th> <td>-256.762</td>\n",
       "</tr>\n",
       "<tr>\n",
       "  <th>Date:</th>            <td>Wed, 31 Jul 2024</td> <th>  AIC                </th>  <td>515.523</td>\n",
       "</tr>\n",
       "<tr>\n",
       "  <th>Time:</th>                <td>21:52:48</td>     <th>  BIC                </th>  <td>518.521</td>\n",
       "</tr>\n",
       "<tr>\n",
       "  <th>Sample:</th>             <td>07-01-2005</td>    <th>  HQIC               </th>  <td>516.741</td>\n",
       "</tr>\n",
       "<tr>\n",
       "  <th></th>                   <td>- 12-01-2017</td>   <th>                     </th>     <td> </td>   \n",
       "</tr>\n",
       "<tr>\n",
       "  <th>Covariance Type:</th>        <td>opg</td>       <th>                     </th>     <td> </td>   \n",
       "</tr>\n",
       "</table>\n",
       "<table class=\"simpletable\">\n",
       "<tr>\n",
       "     <td></td>       <th>coef</th>     <th>std err</th>      <th>z</th>      <th>P>|z|</th>  <th>[0.025</th>    <th>0.975]</th>  \n",
       "</tr>\n",
       "<tr>\n",
       "  <th>sigma2</th> <td>    1.8811</td> <td>    0.062</td> <td>   30.156</td> <td> 0.000</td> <td>    1.759</td> <td>    2.003</td>\n",
       "</tr>\n",
       "</table>\n",
       "<table class=\"simpletable\">\n",
       "<tr>\n",
       "  <th>Ljung-Box (L1) (Q):</th>     <td>0.05</td>  <th>  Jarque-Bera (JB):  </th> <td>3150.82</td>\n",
       "</tr>\n",
       "<tr>\n",
       "  <th>Prob(Q):</th>                <td>0.82</td>  <th>  Prob(JB):          </th>  <td>0.00</td>  \n",
       "</tr>\n",
       "<tr>\n",
       "  <th>Heteroskedasticity (H):</th> <td>20.45</td> <th>  Skew:              </th>  <td>1.41</td>  \n",
       "</tr>\n",
       "<tr>\n",
       "  <th>Prob(H) (two-sided):</th>    <td>0.00</td>  <th>  Kurtosis:          </th>  <td>25.43</td> \n",
       "</tr>\n",
       "</table><br/><br/>Warnings:<br/>[1] Covariance matrix calculated using the outer product of gradients (complex-step)."
      ],
      "text/latex": [
       "\\begin{center}\n",
       "\\begin{tabular}{lclc}\n",
       "\\toprule\n",
       "\\textbf{Dep. Variable:}          &      trend       & \\textbf{  No. Observations:  } &    150      \\\\\n",
       "\\textbf{Model:}                  & SARIMAX(0, 2, 0) & \\textbf{  Log Likelihood     } &  -256.762   \\\\\n",
       "\\textbf{Date:}                   & Wed, 31 Jul 2024 & \\textbf{  AIC                } &  515.523    \\\\\n",
       "\\textbf{Time:}                   &     21:52:48     & \\textbf{  BIC                } &  518.521    \\\\\n",
       "\\textbf{Sample:}                 &    07-01-2005    & \\textbf{  HQIC               } &  516.741    \\\\\n",
       "\\textbf{}                        &   - 12-01-2017   & \\textbf{                     } &             \\\\\n",
       "\\textbf{Covariance Type:}        &       opg        & \\textbf{                     } &             \\\\\n",
       "\\bottomrule\n",
       "\\end{tabular}\n",
       "\\begin{tabular}{lcccccc}\n",
       "                & \\textbf{coef} & \\textbf{std err} & \\textbf{z} & \\textbf{P$> |$z$|$} & \\textbf{[0.025} & \\textbf{0.975]}  \\\\\n",
       "\\midrule\n",
       "\\textbf{sigma2} &       1.8811  &        0.062     &    30.156  &         0.000        &        1.759    &        2.003     \\\\\n",
       "\\bottomrule\n",
       "\\end{tabular}\n",
       "\\begin{tabular}{lclc}\n",
       "\\textbf{Ljung-Box (L1) (Q):}     &  0.05 & \\textbf{  Jarque-Bera (JB):  } & 3150.82  \\\\\n",
       "\\textbf{Prob(Q):}                &  0.82 & \\textbf{  Prob(JB):          } &   0.00   \\\\\n",
       "\\textbf{Heteroskedasticity (H):} & 20.45 & \\textbf{  Skew:              } &   1.41   \\\\\n",
       "\\textbf{Prob(H) (two-sided):}    &  0.00 & \\textbf{  Kurtosis:          } &  25.43   \\\\\n",
       "\\bottomrule\n",
       "\\end{tabular}\n",
       "%\\caption{SARIMAX Results}\n",
       "\\end{center}\n",
       "\n",
       "Warnings: \\newline\n",
       " [1] Covariance matrix calculated using the outer product of gradients (complex-step)."
      ],
      "text/plain": [
       "<class 'statsmodels.iolib.summary.Summary'>\n",
       "\"\"\"\n",
       "                               SARIMAX Results                                \n",
       "==============================================================================\n",
       "Dep. Variable:                  trend   No. Observations:                  150\n",
       "Model:               SARIMAX(0, 2, 0)   Log Likelihood                -256.762\n",
       "Date:                Wed, 31 Jul 2024   AIC                            515.523\n",
       "Time:                        21:52:48   BIC                            518.521\n",
       "Sample:                    07-01-2005   HQIC                           516.741\n",
       "                         - 12-01-2017                                         \n",
       "Covariance Type:                  opg                                         \n",
       "==============================================================================\n",
       "                 coef    std err          z      P>|z|      [0.025      0.975]\n",
       "------------------------------------------------------------------------------\n",
       "sigma2         1.8811      0.062     30.156      0.000       1.759       2.003\n",
       "===================================================================================\n",
       "Ljung-Box (L1) (Q):                   0.05   Jarque-Bera (JB):              3150.82\n",
       "Prob(Q):                              0.82   Prob(JB):                         0.00\n",
       "Heteroskedasticity (H):              20.45   Skew:                             1.41\n",
       "Prob(H) (two-sided):                  0.00   Kurtosis:                        25.43\n",
       "===================================================================================\n",
       "\n",
       "Warnings:\n",
       "[1] Covariance matrix calculated using the outer product of gradients (complex-step).\n",
       "\"\"\""
      ]
     },
     "execution_count": 61,
     "metadata": {},
     "output_type": "execute_result"
    }
   ],
   "source": [
    "modelt = SARIMAX(trendy['trend'],order=(0,2,0))\n",
    "resultst = modelt.fit(maxiter=200)\n",
    "resultst.summary()"
   ]
  },
  {
   "cell_type": "code",
   "execution_count": 62,
   "metadata": {
    "papermill": {
     "duration": 0.121162,
     "end_time": "2020-11-26T15:08:59.170109",
     "exception": false,
     "start_time": "2020-11-26T15:08:59.048947",
     "status": "completed"
    },
    "tags": []
   },
   "outputs": [],
   "source": [
    "# Obtain predicted values\n",
    "start=len(traint)\n",
    "end=len(traint)+len(testt)-1\n",
    "predictionst = resultst.predict(start=start, end=end, dynamic=False, typ='levels', full_results = True).rename('SARIMA Predictions')"
   ]
  },
  {
   "cell_type": "code",
   "execution_count": 63,
   "metadata": {
    "papermill": {
     "duration": 0.118256,
     "end_time": "2020-11-26T15:08:59.395232",
     "exception": false,
     "start_time": "2020-11-26T15:08:59.276976",
     "status": "completed"
    },
    "tags": []
   },
   "outputs": [
    {
     "name": "stdout",
     "output_type": "stream",
     "text": [
      "predicted=275.85625  , expected=277.46166666666664\n",
      "predicted=285.36125  , expected=285.6745833333333\n",
      "predicted=293.8875   , expected=293.0804166666666\n",
      "predicted=300.48625  , expected=299.74625\n",
      "predicted=306.4120833, expected=305.30249999999995\n",
      "predicted=310.85875  , expected=311.81541666666664\n",
      "predicted=318.3283333, expected=328.20610479797983\n",
      "predicted=344.5967929, expected=336.95960858585863\n",
      "predicted=345.7131124, expected=345.71311237373743\n",
      "predicted=354.4666162, expected=354.46661616161623\n",
      "predicted=363.2201199, expected=363.22011994949503\n",
      "predicted=371.9736237, expected=371.9736237373738\n"
     ]
    }
   ],
   "source": [
    "# Compare predictions to expected values\n",
    "for i in range(len(predictionst)):\n",
    "    print(f\"predicted={predictionst[i]:<11.10}, expected={testt['trend'][i]}\")"
   ]
  },
  {
   "cell_type": "code",
   "execution_count": 65,
   "metadata": {
    "papermill": {
     "duration": 0.337517,
     "end_time": "2020-11-26T15:08:59.844139",
     "exception": false,
     "start_time": "2020-11-26T15:08:59.506622",
     "status": "completed"
    },
    "tags": []
   },
   "outputs": [
    {
     "data": {
      "image/png": "[encoded data removed]",
      "text/plain": [
       "<Figure size 1200x600 with 1 Axes>"
      ]
     },
     "metadata": {},
     "output_type": "display_data"
    }
   ],
   "source": [
    "import matplotlib.pyplot as plt\n",
    "\n",
    "# Plot the trend data\n",
    "plt.figure(figsize=(12, 6))\n",
    "plt.plot(testt['trend'], label='Trend', color='blue')\n",
    "\n",
    "# Plot the predictions\n",
    "plt.plot(predictionst, label='Predictions', color='red')\n",
    "\n",
    "# Add labels and title\n",
    "plt.xlabel('Date')\n",
    "plt.ylabel('Value')\n",
    "plt.title('Trend vs Predictions')\n",
    "\n",
    "# Add legend\n",
    "plt.legend()\n",
    "\n",
    "# Show the plot\n",
    "plt.show()\n"
   ]
  },
  {
   "cell_type": "code",
   "execution_count": 66,
   "metadata": {
    "papermill": {
     "duration": 0.118805,
     "end_time": "2020-11-26T15:09:00.071843",
     "exception": false,
     "start_time": "2020-11-26T15:08:59.953038",
     "status": "completed"
    },
    "tags": []
   },
   "outputs": [
    {
     "name": "stdout",
     "output_type": "stream",
     "text": [
      "SARIMA MSE Error: 13.49315534\n"
     ]
    }
   ],
   "source": [
    "from sklearn.metrics import mean_squared_error\n",
    "\n",
    "error = mean_squared_error(testt['trend'], predictionst)\n",
    "print(f'SARIMA MSE Error: {error:11.10}')"
   ]
  },
  {
   "cell_type": "code",
   "execution_count": 67,
   "metadata": {
    "papermill": {
     "duration": 0.121256,
     "end_time": "2020-11-26T15:09:00.525947",
     "exception": false,
     "start_time": "2020-11-26T15:09:00.404691",
     "status": "completed"
    },
    "tags": []
   },
   "outputs": [],
   "source": [
    " finalpreds = (predictionst + spredictions)"
   ]
  },
  {
   "cell_type": "code",
   "execution_count": 68,
   "metadata": {
    "papermill": {
     "duration": 0.125498,
     "end_time": "2020-11-26T15:09:00.760555",
     "exception": false,
     "start_time": "2020-11-26T15:09:00.635057",
     "status": "completed"
    },
    "tags": []
   },
   "outputs": [
    {
     "data": {
      "text/html": [
       "<div>\n",
       "<style scoped>\n",
       "    .dataframe tbody tr th:only-of-type {\n",
       "        vertical-align: middle;\n",
       "    }\n",
       "\n",
       "    .dataframe tbody tr th {\n",
       "        vertical-align: top;\n",
       "    }\n",
       "\n",
       "    .dataframe thead th {\n",
       "        text-align: right;\n",
       "    }\n",
       "</style>\n",
       "<table border=\"1\" class=\"dataframe\">\n",
       "  <thead>\n",
       "    <tr style=\"text-align: right;\">\n",
       "      <th></th>\n",
       "      <th>Close</th>\n",
       "    </tr>\n",
       "    <tr>\n",
       "      <th>Date</th>\n",
       "      <th></th>\n",
       "    </tr>\n",
       "  </thead>\n",
       "  <tbody>\n",
       "    <tr>\n",
       "      <th>2017-01-01</th>\n",
       "      <td>279.10</td>\n",
       "    </tr>\n",
       "    <tr>\n",
       "      <th>2017-02-01</th>\n",
       "      <td>290.56</td>\n",
       "    </tr>\n",
       "    <tr>\n",
       "      <th>2017-03-01</th>\n",
       "      <td>309.82</td>\n",
       "    </tr>\n",
       "    <tr>\n",
       "      <th>2017-04-01</th>\n",
       "      <td>326.14</td>\n",
       "    </tr>\n",
       "    <tr>\n",
       "      <th>2017-05-01</th>\n",
       "      <td>286.38</td>\n",
       "    </tr>\n",
       "    <tr>\n",
       "      <th>2017-06-01</th>\n",
       "      <td>292.37</td>\n",
       "    </tr>\n",
       "    <tr>\n",
       "      <th>2017-07-01</th>\n",
       "      <td>361.96</td>\n",
       "    </tr>\n",
       "    <tr>\n",
       "      <th>2017-08-01</th>\n",
       "      <td>351.15</td>\n",
       "    </tr>\n",
       "    <tr>\n",
       "      <th>2017-09-01</th>\n",
       "      <td>350.00</td>\n",
       "    </tr>\n",
       "    <tr>\n",
       "      <th>2017-10-01</th>\n",
       "      <td>314.35</td>\n",
       "    </tr>\n",
       "    <tr>\n",
       "      <th>2017-11-01</th>\n",
       "      <td>306.80</td>\n",
       "    </tr>\n",
       "    <tr>\n",
       "      <th>2017-12-01</th>\n",
       "      <td>315.05</td>\n",
       "    </tr>\n",
       "  </tbody>\n",
       "</table>\n",
       "</div>"
      ],
      "text/plain": [
       "             Close\n",
       "Date              \n",
       "2017-01-01  279.10\n",
       "2017-02-01  290.56\n",
       "2017-03-01  309.82\n",
       "2017-04-01  326.14\n",
       "2017-05-01  286.38\n",
       "2017-06-01  292.37\n",
       "2017-07-01  361.96\n",
       "2017-08-01  351.15\n",
       "2017-09-01  350.00\n",
       "2017-10-01  314.35\n",
       "2017-11-01  306.80\n",
       "2017-12-01  315.05"
      ]
     },
     "execution_count": 68,
     "metadata": {},
     "output_type": "execute_result"
    }
   ],
   "source": [
    "test2017"
   ]
  },
  {
   "cell_type": "code",
   "execution_count": 70,
   "metadata": {
    "papermill": {
     "duration": 0.341119,
     "end_time": "2020-11-26T15:09:01.212608",
     "exception": false,
     "start_time": "2020-11-26T15:09:00.871489",
     "status": "completed"
    },
    "tags": []
   },
   "outputs": [
    {
     "data": {
      "image/png": "[encoded data removed]",
      "text/plain": [
       "<Figure size 1200x600 with 1 Axes>"
      ]
     },
     "metadata": {},
     "output_type": "display_data"
    }
   ],
   "source": [
    "import seaborn as sns\n",
    "import pandas as pd\n",
    "\n",
    "# Prepare the data\n",
    "df = pd.DataFrame({\n",
    "    'Date': test2017.index,\n",
    "    'Actual Close': test2017['Close'],\n",
    "    'Predictions': finalpreds\n",
    "})\n",
    "\n",
    "# Plot using seaborn\n",
    "plt.figure(figsize=(12, 6))\n",
    "sns.lineplot(data=df, x='Date', y='Actual Close', label='Actual Close', color='blue')\n",
    "sns.lineplot(data=df, x='Date', y='Predictions', label='Predictions', color='red')\n",
    "\n",
    "# Add labels and title\n",
    "plt.xlabel('Date')\n",
    "plt.ylabel('Value')\n",
    "plt.title('Actual Close vs Predictions')\n",
    "\n",
    "# Add legend\n",
    "plt.legend()\n",
    "\n",
    "# Show the plot\n",
    "plt.show()\n"
   ]
  },
  {
   "cell_type": "code",
   "execution_count": 71,
   "metadata": {
    "papermill": {
     "duration": 0.12316,
     "end_time": "2020-11-26T15:09:01.446073",
     "exception": false,
     "start_time": "2020-11-26T15:09:01.322913",
     "status": "completed"
    },
    "tags": []
   },
   "outputs": [
    {
     "name": "stdout",
     "output_type": "stream",
     "text": [
      "SARIMA MSE Error: 578.3996235\n"
     ]
    }
   ],
   "source": [
    "from sklearn.metrics import mean_squared_error\n",
    "\n",
    "error = mean_squared_error(test2017['Close'], finalpreds)\n",
    "print(f'SARIMA MSE Error: {error:11.10}')"
   ]
  }
 ],
 "metadata": {
  "kernelspec": {
   "display_name": "Python 3 (ipykernel)",
   "language": "python",
   "name": "python3"
  },
  "language_info": {
   "codemirror_mode": {
    "name": "ipython",
    "version": 3
   },
   "file_extension": ".py",
   "mimetype": "text/x-python",
   "name": "python",
   "nbconvert_exporter": "python",
   "pygments_lexer": "ipython3",
   "version": "3.11.5"
  },
  "papermill": {
   "duration": 95.930893,
   "end_time": "2020-11-26T15:09:02.126274",
   "environment_variables": {},
   "exception": null,
   "input_path": "__notebook__.ipynb",
   "output_path": "__notebook__.ipynb",
   "parameters": {},
   "start_time": "2020-11-26T15:07:26.195381",
   "version": "2.1.0"
  }
 },
 "nbformat": 4,
 "nbformat_minor": 4
}
