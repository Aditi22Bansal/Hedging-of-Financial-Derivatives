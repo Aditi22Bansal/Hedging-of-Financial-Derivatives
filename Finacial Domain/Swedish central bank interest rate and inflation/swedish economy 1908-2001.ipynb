{
 "cells": [
  {
   "cell_type": "markdown",
   "metadata": {
    "_cell_guid": "f4b8be18-6900-7876-87ce-e150cc9d8f7a"
   },
   "source": [
    "## **A look at the Swedish Economy 1908-2001** "
   ]
  },
  {
   "cell_type": "code",
   "execution_count": 1,
   "metadata": {
    "_cell_guid": "106c0299-500d-33cd-d4ee-6f10edb95f1a"
   },
   "outputs": [],
   "source": [
    "import numpy as np\n",
    "import pandas as pd\n",
    "import matplotlib.pyplot as plt"
   ]
  },
  {
   "cell_type": "code",
   "execution_count": 2,
   "metadata": {
    "_cell_guid": "8ba7aafe-cc12-cf73-e273-217d7eb1b640"
   },
   "outputs": [],
   "source": [
    "dat = pd.read_csv(\"Interestrate and inflation Sweden 1908-2001.csv\")"
   ]
  },
  {
   "cell_type": "code",
   "execution_count": 3,
   "metadata": {
    "_cell_guid": "934e1dea-5520-3db4-fd15-29730f58aa58"
   },
   "outputs": [
    {
     "data": {
      "text/html": [
       "<div>\n",
       "<style scoped>\n",
       "    .dataframe tbody tr th:only-of-type {\n",
       "        vertical-align: middle;\n",
       "    }\n",
       "\n",
       "    .dataframe tbody tr th {\n",
       "        vertical-align: top;\n",
       "    }\n",
       "\n",
       "    .dataframe thead th {\n",
       "        text-align: right;\n",
       "    }\n",
       "</style>\n",
       "<table border=\"1\" class=\"dataframe\">\n",
       "  <thead>\n",
       "    <tr style=\"text-align: right;\">\n",
       "      <th></th>\n",
       "      <th>Period</th>\n",
       "      <th>Central bank interest rate diskonto average</th>\n",
       "      <th>Inflation</th>\n",
       "      <th>Price level</th>\n",
       "    </tr>\n",
       "  </thead>\n",
       "  <tbody>\n",
       "    <tr>\n",
       "      <th>0</th>\n",
       "      <td>1908</td>\n",
       "      <td>5.877</td>\n",
       "      <td>1.5</td>\n",
       "      <td>95</td>\n",
       "    </tr>\n",
       "    <tr>\n",
       "      <th>1</th>\n",
       "      <td>1909</td>\n",
       "      <td>4.6809</td>\n",
       "      <td>-1.0</td>\n",
       "      <td>94</td>\n",
       "    </tr>\n",
       "    <tr>\n",
       "      <th>2</th>\n",
       "      <td>1910</td>\n",
       "      <td>4.624</td>\n",
       "      <td>0.0</td>\n",
       "      <td>94</td>\n",
       "    </tr>\n",
       "    <tr>\n",
       "      <th>3</th>\n",
       "      <td>1911</td>\n",
       "      <td>4.5625</td>\n",
       "      <td>3.0</td>\n",
       "      <td>97</td>\n",
       "    </tr>\n",
       "    <tr>\n",
       "      <th>4</th>\n",
       "      <td>1912</td>\n",
       "      <td>4.7969</td>\n",
       "      <td>2.1</td>\n",
       "      <td>99</td>\n",
       "    </tr>\n",
       "  </tbody>\n",
       "</table>\n",
       "</div>"
      ],
      "text/plain": [
       "  Period Central bank interest rate diskonto average  Inflation Price level\n",
       "0   1908                                       5.877        1.5          95\n",
       "1   1909                                      4.6809       -1.0          94\n",
       "2   1910                                       4.624        0.0          94\n",
       "3   1911                                      4.5625        3.0          97\n",
       "4   1912                                      4.7969        2.1          99"
      ]
     },
     "execution_count": 3,
     "metadata": {},
     "output_type": "execute_result"
    }
   ],
   "source": [
    "dat.head()"
   ]
  },
  {
   "cell_type": "code",
   "execution_count": 4,
   "metadata": {
    "_cell_guid": "a9dbbc07-f51c-3fc1-6d05-7e7852e4255d"
   },
   "outputs": [],
   "source": [
    "#Rename the interest rate variable:\n",
    "dat.rename(columns=lambda x: x.replace('Central bank interest rate diskonto average', \n",
    "                                       'Interest rate'), inplace=True)"
   ]
  },
  {
   "cell_type": "code",
   "execution_count": 5,
   "metadata": {
    "_cell_guid": "50f9c594-dfdf-49a9-1338-22ef1e38a451"
   },
   "outputs": [],
   "source": [
    "#Replaces spaces with _ in the column names:\n",
    "dat.columns = dat.columns.str.replace(\" \", \"_\")"
   ]
  },
  {
   "cell_type": "code",
   "execution_count": 6,
   "metadata": {
    "_cell_guid": "6fd1ac10-10b7-d4a4-5984-0954a024c82a"
   },
   "outputs": [
    {
     "name": "stdout",
     "output_type": "stream",
     "text": [
      "<class 'pandas.core.frame.DataFrame'>\n",
      "RangeIndex: 109 entries, 0 to 108\n",
      "Data columns (total 4 columns):\n",
      " #   Column         Non-Null Count  Dtype  \n",
      "---  ------         --------------  -----  \n",
      " 0   Period         102 non-null    object \n",
      " 1   Interest_rate  97 non-null     object \n",
      " 2   Inflation      94 non-null     float64\n",
      " 3   Price_level    94 non-null     object \n",
      "dtypes: float64(1), object(3)\n",
      "memory usage: 3.5+ KB\n"
     ]
    }
   ],
   "source": [
    "#we are missing values for each of the 4 variables:\n",
    "dat.info()"
   ]
  },
  {
   "cell_type": "code",
   "execution_count": 7,
   "metadata": {
    "_cell_guid": "40fc8716-bf9d-296a-40c6-27ea8780d58e"
   },
   "outputs": [
    {
     "data": {
      "text/html": [
       "<div>\n",
       "<style scoped>\n",
       "    .dataframe tbody tr th:only-of-type {\n",
       "        vertical-align: middle;\n",
       "    }\n",
       "\n",
       "    .dataframe tbody tr th {\n",
       "        vertical-align: top;\n",
       "    }\n",
       "\n",
       "    .dataframe thead th {\n",
       "        text-align: right;\n",
       "    }\n",
       "</style>\n",
       "<table border=\"1\" class=\"dataframe\">\n",
       "  <thead>\n",
       "    <tr style=\"text-align: right;\">\n",
       "      <th></th>\n",
       "      <th>Period</th>\n",
       "      <th>Interest_rate</th>\n",
       "      <th>Inflation</th>\n",
       "      <th>Price_level</th>\n",
       "    </tr>\n",
       "  </thead>\n",
       "  <tbody>\n",
       "    <tr>\n",
       "      <th>94</th>\n",
       "      <td>NaN</td>\n",
       "      <td>NaN</td>\n",
       "      <td>NaN</td>\n",
       "      <td>NaN</td>\n",
       "    </tr>\n",
       "    <tr>\n",
       "      <th>95</th>\n",
       "      <td>Fotnot</td>\n",
       "      <td>NaN</td>\n",
       "      <td>NaN</td>\n",
       "      <td>NaN</td>\n",
       "    </tr>\n",
       "    <tr>\n",
       "      <th>96</th>\n",
       "      <td>NaN</td>\n",
       "      <td>NaN</td>\n",
       "      <td>NaN</td>\n",
       "      <td>NaN</td>\n",
       "    </tr>\n",
       "    <tr>\n",
       "      <th>97</th>\n",
       "      <td>Diskonto (1907-11-09 - 2002-06-28)</td>\n",
       "      <td>NaN</td>\n",
       "      <td>NaN</td>\n",
       "      <td>NaN</td>\n",
       "    </tr>\n",
       "    <tr>\n",
       "      <th>98</th>\n",
       "      <td>Diskonto</td>\n",
       "      <td>NaN</td>\n",
       "      <td>NaN</td>\n",
       "      <td>NaN</td>\n",
       "    </tr>\n",
       "  </tbody>\n",
       "</table>\n",
       "</div>"
      ],
      "text/plain": [
       "                                Period Interest_rate  Inflation Price_level\n",
       "94                                 NaN           NaN        NaN         NaN\n",
       "95                              Fotnot           NaN        NaN         NaN\n",
       "96                                 NaN           NaN        NaN         NaN\n",
       "97  Diskonto (1907-11-09 - 2002-06-28)           NaN        NaN         NaN\n",
       "98                            Diskonto           NaN        NaN         NaN"
      ]
     },
     "execution_count": 7,
     "metadata": {},
     "output_type": "execute_result"
    }
   ],
   "source": [
    "#It appears that data includes from metadata and information that is \n",
    "#unimportant to this analysis. I will drop these rows in the next cell.\n",
    "dat.loc[94: , :].head()"
   ]
  },
  {
   "cell_type": "code",
   "execution_count": 8,
   "metadata": {
    "_cell_guid": "63a5bc89-295a-fc5f-6d58-e4b686cabbc3"
   },
   "outputs": [],
   "source": [
    "#dropping the above rows from the dataset:\n",
    "dat.drop(dat.loc[94: , :].index, inplace=True)"
   ]
  },
  {
   "cell_type": "code",
   "execution_count": 9,
   "metadata": {
    "_cell_guid": "ece89eef-06f3-3f2d-2a35-eee572cbdb77"
   },
   "outputs": [
    {
     "name": "stdout",
     "output_type": "stream",
     "text": [
      "<class 'pandas.core.frame.DataFrame'>\n",
      "RangeIndex: 94 entries, 0 to 93\n",
      "Data columns (total 4 columns):\n",
      " #   Column         Non-Null Count  Dtype  \n",
      "---  ------         --------------  -----  \n",
      " 0   Period         94 non-null     object \n",
      " 1   Interest_rate  94 non-null     object \n",
      " 2   Inflation      94 non-null     float64\n",
      " 3   Price_level    94 non-null     object \n",
      "dtypes: float64(1), object(3)\n",
      "memory usage: 3.1+ KB\n"
     ]
    }
   ],
   "source": [
    "#We now that a complete data set with our values of interest from 1908-2001.\n",
    "dat.info()"
   ]
  },
  {
   "cell_type": "code",
   "execution_count": 10,
   "metadata": {
    "_cell_guid": "f9d01e65-f545-c607-b285-2115e04b4bba"
   },
   "outputs": [],
   "source": [
    "#I notice that Interest_rate and price level are stored as objects rather than\n",
    "#a float and int, respectively. Also, the interest rate values run to 4 \n",
    "#decimal places, I will round that down to 2. So I make these alterations here:\n",
    "\n",
    "dat.Interest_rate = round(dat.Interest_rate.astype(\"float64\"), 2)\n",
    "dat.Price_level = dat.Price_level.str.replace(\",\", \"\")\n",
    "dat.Price_level = dat.Price_level.astype(\"float64\")\n",
    "dat.Period = dat.Period.astype(\"int64\")"
   ]
  },
  {
   "cell_type": "code",
   "execution_count": 11,
   "metadata": {
    "_cell_guid": "1d621946-d605-de7d-4abf-e664a4d5a657"
   },
   "outputs": [
    {
     "data": {
      "text/html": [
       "<div>\n",
       "<style scoped>\n",
       "    .dataframe tbody tr th:only-of-type {\n",
       "        vertical-align: middle;\n",
       "    }\n",
       "\n",
       "    .dataframe tbody tr th {\n",
       "        vertical-align: top;\n",
       "    }\n",
       "\n",
       "    .dataframe thead th {\n",
       "        text-align: right;\n",
       "    }\n",
       "</style>\n",
       "<table border=\"1\" class=\"dataframe\">\n",
       "  <thead>\n",
       "    <tr style=\"text-align: right;\">\n",
       "      <th></th>\n",
       "      <th>Period</th>\n",
       "      <th>Interest_rate</th>\n",
       "      <th>Inflation</th>\n",
       "      <th>Price_level</th>\n",
       "    </tr>\n",
       "  </thead>\n",
       "  <tbody>\n",
       "    <tr>\n",
       "      <th>0</th>\n",
       "      <td>1908</td>\n",
       "      <td>5.88</td>\n",
       "      <td>1.5</td>\n",
       "      <td>95.0</td>\n",
       "    </tr>\n",
       "    <tr>\n",
       "      <th>1</th>\n",
       "      <td>1909</td>\n",
       "      <td>4.68</td>\n",
       "      <td>-1.0</td>\n",
       "      <td>94.0</td>\n",
       "    </tr>\n",
       "    <tr>\n",
       "      <th>2</th>\n",
       "      <td>1910</td>\n",
       "      <td>4.62</td>\n",
       "      <td>0.0</td>\n",
       "      <td>94.0</td>\n",
       "    </tr>\n",
       "    <tr>\n",
       "      <th>3</th>\n",
       "      <td>1911</td>\n",
       "      <td>4.56</td>\n",
       "      <td>3.0</td>\n",
       "      <td>97.0</td>\n",
       "    </tr>\n",
       "    <tr>\n",
       "      <th>4</th>\n",
       "      <td>1912</td>\n",
       "      <td>4.80</td>\n",
       "      <td>2.1</td>\n",
       "      <td>99.0</td>\n",
       "    </tr>\n",
       "  </tbody>\n",
       "</table>\n",
       "</div>"
      ],
      "text/plain": [
       "   Period  Interest_rate  Inflation  Price_level\n",
       "0    1908           5.88        1.5         95.0\n",
       "1    1909           4.68       -1.0         94.0\n",
       "2    1910           4.62        0.0         94.0\n",
       "3    1911           4.56        3.0         97.0\n",
       "4    1912           4.80        2.1         99.0"
      ]
     },
     "execution_count": 11,
     "metadata": {},
     "output_type": "execute_result"
    }
   ],
   "source": [
    "dat.head()"
   ]
  }
 ],
 "metadata": {
  "_change_revision": 68,
  "_is_fork": false,
  "kernelspec": {
   "display_name": "Python 3 (ipykernel)",
   "language": "python",
   "name": "python3"
  },
  "language_info": {
   "codemirror_mode": {
    "name": "ipython",
    "version": 3
   },
   "file_extension": ".py",
   "mimetype": "text/x-python",
   "name": "python",
   "nbconvert_exporter": "python",
   "pygments_lexer": "ipython3",
   "version": "3.11.5"
  }
 },
 "nbformat": 4,
 "nbformat_minor": 4
}
